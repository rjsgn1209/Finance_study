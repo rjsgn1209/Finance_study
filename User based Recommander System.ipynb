{
 "cells": [
  {
   "cell_type": "code",
   "execution_count": 1,
   "id": "ce6f2720",
   "metadata": {},
   "outputs": [],
   "source": [
    "# 콘텐츠 기반 필터링\n",
    "# 협업 필터링\n",
    "\n",
    "# - 최근점 이웃(사용자) 기반 협업필터링 - 사용자 평점 매트릭스\n",
    "#   - 사용자 기반\n",
    "#   - 아이템 기반\n",
    "\n",
    "# - 잠재요인 협업 필터링 - 행렬 변환"
   ]
  },
  {
   "cell_type": "code",
   "execution_count": 2,
   "id": "a5006a84",
   "metadata": {},
   "outputs": [],
   "source": [
    "# 사용자 평점\n",
    "# 명시적 : 영화감상, 상품평점, 좋아요, 리뷰..\n",
    "# 암시적 : 조회, 구매, 방문수, 머문 시간.."
   ]
  },
  {
   "cell_type": "code",
   "execution_count": null,
   "id": "a09cab5b",
   "metadata": {},
   "outputs": [],
   "source": []
  },
  {
   "cell_type": "code",
   "execution_count": 3,
   "id": "c3564a5d",
   "metadata": {},
   "outputs": [],
   "source": [
    "import pandas as pd\n",
    "import numpy as np\n",
    "import matplotlib.pyplot as plt\n",
    "import seaborn as sns"
   ]
  },
  {
   "cell_type": "code",
   "execution_count": 4,
   "id": "724e13a9",
   "metadata": {},
   "outputs": [
    {
     "data": {
      "text/html": [
       "<div>\n",
       "<style scoped>\n",
       "    .dataframe tbody tr th:only-of-type {\n",
       "        vertical-align: middle;\n",
       "    }\n",
       "\n",
       "    .dataframe tbody tr th {\n",
       "        vertical-align: top;\n",
       "    }\n",
       "\n",
       "    .dataframe thead th {\n",
       "        text-align: right;\n",
       "    }\n",
       "</style>\n",
       "<table border=\"1\" class=\"dataframe\">\n",
       "  <thead>\n",
       "    <tr style=\"text-align: right;\">\n",
       "      <th></th>\n",
       "      <th>movieId</th>\n",
       "      <th>title</th>\n",
       "      <th>genres</th>\n",
       "    </tr>\n",
       "  </thead>\n",
       "  <tbody>\n",
       "    <tr>\n",
       "      <th>0</th>\n",
       "      <td>1</td>\n",
       "      <td>Toy Story (1995)</td>\n",
       "      <td>Adventure|Animation|Children|Comedy|Fantasy</td>\n",
       "    </tr>\n",
       "    <tr>\n",
       "      <th>1</th>\n",
       "      <td>2</td>\n",
       "      <td>Jumanji (1995)</td>\n",
       "      <td>Adventure|Children|Fantasy</td>\n",
       "    </tr>\n",
       "    <tr>\n",
       "      <th>2</th>\n",
       "      <td>3</td>\n",
       "      <td>Grumpier Old Men (1995)</td>\n",
       "      <td>Comedy|Romance</td>\n",
       "    </tr>\n",
       "    <tr>\n",
       "      <th>3</th>\n",
       "      <td>4</td>\n",
       "      <td>Waiting to Exhale (1995)</td>\n",
       "      <td>Comedy|Drama|Romance</td>\n",
       "    </tr>\n",
       "    <tr>\n",
       "      <th>4</th>\n",
       "      <td>5</td>\n",
       "      <td>Father of the Bride Part II (1995)</td>\n",
       "      <td>Comedy</td>\n",
       "    </tr>\n",
       "  </tbody>\n",
       "</table>\n",
       "</div>"
      ],
      "text/plain": [
       "   movieId                               title  \\\n",
       "0        1                    Toy Story (1995)   \n",
       "1        2                      Jumanji (1995)   \n",
       "2        3             Grumpier Old Men (1995)   \n",
       "3        4            Waiting to Exhale (1995)   \n",
       "4        5  Father of the Bride Part II (1995)   \n",
       "\n",
       "                                        genres  \n",
       "0  Adventure|Animation|Children|Comedy|Fantasy  \n",
       "1                   Adventure|Children|Fantasy  \n",
       "2                               Comedy|Romance  \n",
       "3                         Comedy|Drama|Romance  \n",
       "4                                       Comedy  "
      ]
     },
     "execution_count": 4,
     "metadata": {},
     "output_type": "execute_result"
    }
   ],
   "source": [
    "movies = pd.read_csv('data_files/movie.csv')\n",
    "movies.head()"
   ]
  },
  {
   "cell_type": "code",
   "execution_count": 5,
   "id": "47b3dac8",
   "metadata": {},
   "outputs": [],
   "source": [
    "ratings = pd.read_csv('data_files/rating.csv')"
   ]
  },
  {
   "cell_type": "code",
   "execution_count": 7,
   "id": "94ccdf38",
   "metadata": {},
   "outputs": [
    {
     "name": "stdout",
     "output_type": "stream",
     "text": [
      "<class 'pandas.core.frame.DataFrame'>\n",
      "RangeIndex: 20000263 entries, 0 to 20000262\n",
      "Data columns (total 4 columns):\n",
      " #   Column     Dtype  \n",
      "---  ------     -----  \n",
      " 0   userId     int64  \n",
      " 1   movieId    int64  \n",
      " 2   rating     float64\n",
      " 3   timestamp  object \n",
      "dtypes: float64(1), int64(2), object(1)\n",
      "memory usage: 610.4+ MB\n"
     ]
    }
   ],
   "source": [
    "ratings.info()"
   ]
  },
  {
   "cell_type": "code",
   "execution_count": null,
   "id": "9c9a6008",
   "metadata": {},
   "outputs": [],
   "source": []
  },
  {
   "cell_type": "markdown",
   "id": "143dd353",
   "metadata": {},
   "source": [
    "## 사용자 기반"
   ]
  },
  {
   "cell_type": "code",
   "execution_count": 8,
   "id": "0501036f",
   "metadata": {},
   "outputs": [],
   "source": [
    "merge_df = pd.merge(movies, ratings, on='movieId')"
   ]
  },
  {
   "cell_type": "code",
   "execution_count": 9,
   "id": "2db02c87",
   "metadata": {},
   "outputs": [
    {
     "data": {
      "text/html": [
       "<div>\n",
       "<style scoped>\n",
       "    .dataframe tbody tr th:only-of-type {\n",
       "        vertical-align: middle;\n",
       "    }\n",
       "\n",
       "    .dataframe tbody tr th {\n",
       "        vertical-align: top;\n",
       "    }\n",
       "\n",
       "    .dataframe thead th {\n",
       "        text-align: right;\n",
       "    }\n",
       "</style>\n",
       "<table border=\"1\" class=\"dataframe\">\n",
       "  <thead>\n",
       "    <tr style=\"text-align: right;\">\n",
       "      <th></th>\n",
       "      <th>movieId</th>\n",
       "      <th>title</th>\n",
       "      <th>genres</th>\n",
       "      <th>userId</th>\n",
       "      <th>rating</th>\n",
       "      <th>timestamp</th>\n",
       "    </tr>\n",
       "  </thead>\n",
       "  <tbody>\n",
       "    <tr>\n",
       "      <th>0</th>\n",
       "      <td>1</td>\n",
       "      <td>Toy Story (1995)</td>\n",
       "      <td>Adventure|Animation|Children|Comedy|Fantasy</td>\n",
       "      <td>3</td>\n",
       "      <td>4.0</td>\n",
       "      <td>1999-12-11 13:36:47</td>\n",
       "    </tr>\n",
       "    <tr>\n",
       "      <th>1</th>\n",
       "      <td>1</td>\n",
       "      <td>Toy Story (1995)</td>\n",
       "      <td>Adventure|Animation|Children|Comedy|Fantasy</td>\n",
       "      <td>6</td>\n",
       "      <td>5.0</td>\n",
       "      <td>1997-03-13 17:50:52</td>\n",
       "    </tr>\n",
       "    <tr>\n",
       "      <th>2</th>\n",
       "      <td>1</td>\n",
       "      <td>Toy Story (1995)</td>\n",
       "      <td>Adventure|Animation|Children|Comedy|Fantasy</td>\n",
       "      <td>8</td>\n",
       "      <td>4.0</td>\n",
       "      <td>1996-06-05 13:37:51</td>\n",
       "    </tr>\n",
       "    <tr>\n",
       "      <th>3</th>\n",
       "      <td>1</td>\n",
       "      <td>Toy Story (1995)</td>\n",
       "      <td>Adventure|Animation|Children|Comedy|Fantasy</td>\n",
       "      <td>10</td>\n",
       "      <td>4.0</td>\n",
       "      <td>1999-11-25 02:44:47</td>\n",
       "    </tr>\n",
       "    <tr>\n",
       "      <th>4</th>\n",
       "      <td>1</td>\n",
       "      <td>Toy Story (1995)</td>\n",
       "      <td>Adventure|Animation|Children|Comedy|Fantasy</td>\n",
       "      <td>11</td>\n",
       "      <td>4.5</td>\n",
       "      <td>2009-01-02 01:13:41</td>\n",
       "    </tr>\n",
       "  </tbody>\n",
       "</table>\n",
       "</div>"
      ],
      "text/plain": [
       "   movieId             title                                       genres  \\\n",
       "0        1  Toy Story (1995)  Adventure|Animation|Children|Comedy|Fantasy   \n",
       "1        1  Toy Story (1995)  Adventure|Animation|Children|Comedy|Fantasy   \n",
       "2        1  Toy Story (1995)  Adventure|Animation|Children|Comedy|Fantasy   \n",
       "3        1  Toy Story (1995)  Adventure|Animation|Children|Comedy|Fantasy   \n",
       "4        1  Toy Story (1995)  Adventure|Animation|Children|Comedy|Fantasy   \n",
       "\n",
       "   userId  rating            timestamp  \n",
       "0       3     4.0  1999-12-11 13:36:47  \n",
       "1       6     5.0  1997-03-13 17:50:52  \n",
       "2       8     4.0  1996-06-05 13:37:51  \n",
       "3      10     4.0  1999-11-25 02:44:47  \n",
       "4      11     4.5  2009-01-02 01:13:41  "
      ]
     },
     "execution_count": 9,
     "metadata": {},
     "output_type": "execute_result"
    }
   ],
   "source": [
    "merge_df.head()"
   ]
  },
  {
   "cell_type": "code",
   "execution_count": 10,
   "id": "20dc228d",
   "metadata": {},
   "outputs": [
    {
     "name": "stdout",
     "output_type": "stream",
     "text": [
      "<class 'pandas.core.frame.DataFrame'>\n",
      "Int64Index: 20000263 entries, 0 to 20000262\n",
      "Data columns (total 6 columns):\n",
      " #   Column     Dtype  \n",
      "---  ------     -----  \n",
      " 0   movieId    int64  \n",
      " 1   title      object \n",
      " 2   genres     object \n",
      " 3   userId     int64  \n",
      " 4   rating     float64\n",
      " 5   timestamp  object \n",
      "dtypes: float64(1), int64(2), object(3)\n",
      "memory usage: 1.0+ GB\n"
     ]
    }
   ],
   "source": [
    "merge_df.info()"
   ]
  },
  {
   "cell_type": "code",
   "execution_count": 11,
   "id": "90d73c06",
   "metadata": {},
   "outputs": [],
   "source": [
    "ratings = merge_df[['movieId', 'userId', 'rating']]"
   ]
  },
  {
   "cell_type": "code",
   "execution_count": 12,
   "id": "c7704447",
   "metadata": {},
   "outputs": [
    {
     "name": "stdout",
     "output_type": "stream",
     "text": [
      "<class 'pandas.core.frame.DataFrame'>\n",
      "Int64Index: 20000263 entries, 0 to 20000262\n",
      "Data columns (total 3 columns):\n",
      " #   Column   Dtype  \n",
      "---  ------   -----  \n",
      " 0   movieId  int64  \n",
      " 1   userId   int64  \n",
      " 2   rating   float64\n",
      "dtypes: float64(1), int64(2)\n",
      "memory usage: 610.4 MB\n"
     ]
    }
   ],
   "source": [
    "ratings.info()"
   ]
  },
  {
   "cell_type": "code",
   "execution_count": 13,
   "id": "a8be4ef3",
   "metadata": {},
   "outputs": [
    {
     "name": "stderr",
     "output_type": "stream",
     "text": [
      "C:\\Users\\bitcamp\\AppData\\Local\\Temp/ipykernel_2480/4128383457.py:1: SettingWithCopyWarning: \n",
      "A value is trying to be set on a copy of a slice from a DataFrame.\n",
      "Try using .loc[row_indexer,col_indexer] = value instead\n",
      "\n",
      "See the caveats in the documentation: https://pandas.pydata.org/pandas-docs/stable/user_guide/indexing.html#returning-a-view-versus-a-copy\n",
      "  ratings['movieId'] = ratings['movieId'].astype('int16')\n",
      "C:\\Users\\bitcamp\\AppData\\Local\\Temp/ipykernel_2480/4128383457.py:2: SettingWithCopyWarning: \n",
      "A value is trying to be set on a copy of a slice from a DataFrame.\n",
      "Try using .loc[row_indexer,col_indexer] = value instead\n",
      "\n",
      "See the caveats in the documentation: https://pandas.pydata.org/pandas-docs/stable/user_guide/indexing.html#returning-a-view-versus-a-copy\n",
      "  ratings['userId'] = ratings['userId'].astype('int16')\n",
      "C:\\Users\\bitcamp\\AppData\\Local\\Temp/ipykernel_2480/4128383457.py:3: SettingWithCopyWarning: \n",
      "A value is trying to be set on a copy of a slice from a DataFrame.\n",
      "Try using .loc[row_indexer,col_indexer] = value instead\n",
      "\n",
      "See the caveats in the documentation: https://pandas.pydata.org/pandas-docs/stable/user_guide/indexing.html#returning-a-view-versus-a-copy\n",
      "  ratings['rating'] = ratings['rating'].astype('int16')\n"
     ]
    }
   ],
   "source": [
    "ratings['movieId'] = ratings['movieId'].astype('int16')\n",
    "ratings['userId'] = ratings['userId'].astype('int16')\n",
    "ratings['rating'] = ratings['rating'].astype('int16')"
   ]
  },
  {
   "cell_type": "code",
   "execution_count": 14,
   "id": "61b124fe",
   "metadata": {},
   "outputs": [
    {
     "name": "stdout",
     "output_type": "stream",
     "text": [
      "<class 'pandas.core.frame.DataFrame'>\n",
      "Int64Index: 20000263 entries, 0 to 20000262\n",
      "Data columns (total 3 columns):\n",
      " #   Column   Dtype\n",
      "---  ------   -----\n",
      " 0   movieId  int16\n",
      " 1   userId   int16\n",
      " 2   rating   int16\n",
      "dtypes: int16(3)\n",
      "memory usage: 267.0 MB\n"
     ]
    }
   ],
   "source": [
    "ratings.info()"
   ]
  },
  {
   "cell_type": "code",
   "execution_count": 15,
   "id": "1befebe5",
   "metadata": {},
   "outputs": [],
   "source": [
    "ratings_matrix = ratings.pivot_table(index='userId', columns='movieId', values = 'rating')"
   ]
  },
  {
   "cell_type": "code",
   "execution_count": 16,
   "id": "8ea8b830",
   "metadata": {},
   "outputs": [
    {
     "data": {
      "text/plain": [
       "(65536, 24139)"
      ]
     },
     "execution_count": 16,
     "metadata": {},
     "output_type": "execute_result"
    }
   ],
   "source": [
    "ratings_matrix.shape"
   ]
  },
  {
   "cell_type": "code",
   "execution_count": null,
   "id": "a9a4ebd1",
   "metadata": {},
   "outputs": [],
   "source": []
  },
  {
   "cell_type": "code",
   "execution_count": null,
   "id": "ac29ef8e",
   "metadata": {},
   "outputs": [],
   "source": []
  },
  {
   "cell_type": "code",
   "execution_count": 17,
   "id": "5af42250",
   "metadata": {},
   "outputs": [],
   "source": [
    "import pickle"
   ]
  },
  {
   "cell_type": "code",
   "execution_count": 18,
   "id": "9b5325bd",
   "metadata": {},
   "outputs": [],
   "source": [
    "with open('ratings_matrix.pickle', 'wb') as f:\n",
    "    pickle.dump(ratings_matrix, f)"
   ]
  },
  {
   "cell_type": "code",
   "execution_count": 19,
   "id": "2cd06a40",
   "metadata": {},
   "outputs": [],
   "source": [
    "with open('ratings_matrix.pickle', 'rb')  as f:\n",
    "    ratings_matrix = pickle.load(f)"
   ]
  },
  {
   "cell_type": "code",
   "execution_count": 20,
   "id": "dd371b82",
   "metadata": {},
   "outputs": [
    {
     "data": {
      "text/html": [
       "<div>\n",
       "<style scoped>\n",
       "    .dataframe tbody tr th:only-of-type {\n",
       "        vertical-align: middle;\n",
       "    }\n",
       "\n",
       "    .dataframe tbody tr th {\n",
       "        vertical-align: top;\n",
       "    }\n",
       "\n",
       "    .dataframe thead th {\n",
       "        text-align: right;\n",
       "    }\n",
       "</style>\n",
       "<table border=\"1\" class=\"dataframe\">\n",
       "  <thead>\n",
       "    <tr style=\"text-align: right;\">\n",
       "      <th>movieId</th>\n",
       "      <th>-32768</th>\n",
       "      <th>-32766</th>\n",
       "      <th>-32759</th>\n",
       "      <th>-32757</th>\n",
       "      <th>-32755</th>\n",
       "      <th>-32753</th>\n",
       "      <th>-32749</th>\n",
       "      <th>-32748</th>\n",
       "      <th>-32747</th>\n",
       "      <th>-32744</th>\n",
       "      <th>...</th>\n",
       "      <th>32739</th>\n",
       "      <th>32741</th>\n",
       "      <th>32743</th>\n",
       "      <th>32748</th>\n",
       "      <th>32750</th>\n",
       "      <th>32752</th>\n",
       "      <th>32754</th>\n",
       "      <th>32758</th>\n",
       "      <th>32760</th>\n",
       "      <th>32762</th>\n",
       "    </tr>\n",
       "    <tr>\n",
       "      <th>userId</th>\n",
       "      <th></th>\n",
       "      <th></th>\n",
       "      <th></th>\n",
       "      <th></th>\n",
       "      <th></th>\n",
       "      <th></th>\n",
       "      <th></th>\n",
       "      <th></th>\n",
       "      <th></th>\n",
       "      <th></th>\n",
       "      <th></th>\n",
       "      <th></th>\n",
       "      <th></th>\n",
       "      <th></th>\n",
       "      <th></th>\n",
       "      <th></th>\n",
       "      <th></th>\n",
       "      <th></th>\n",
       "      <th></th>\n",
       "      <th></th>\n",
       "      <th></th>\n",
       "    </tr>\n",
       "  </thead>\n",
       "  <tbody>\n",
       "    <tr>\n",
       "      <th>-32768</th>\n",
       "      <td>0.0</td>\n",
       "      <td>0.0</td>\n",
       "      <td>0.0</td>\n",
       "      <td>0.0</td>\n",
       "      <td>0.0</td>\n",
       "      <td>0.0</td>\n",
       "      <td>0.0</td>\n",
       "      <td>0.0</td>\n",
       "      <td>0.0</td>\n",
       "      <td>0.0</td>\n",
       "      <td>...</td>\n",
       "      <td>0.0</td>\n",
       "      <td>0.0</td>\n",
       "      <td>0.0</td>\n",
       "      <td>0.0</td>\n",
       "      <td>0.0</td>\n",
       "      <td>0.0</td>\n",
       "      <td>0.0</td>\n",
       "      <td>0.0</td>\n",
       "      <td>0.0</td>\n",
       "      <td>0.0</td>\n",
       "    </tr>\n",
       "    <tr>\n",
       "      <th>-32767</th>\n",
       "      <td>0.0</td>\n",
       "      <td>0.0</td>\n",
       "      <td>0.0</td>\n",
       "      <td>0.0</td>\n",
       "      <td>0.0</td>\n",
       "      <td>0.0</td>\n",
       "      <td>0.0</td>\n",
       "      <td>0.0</td>\n",
       "      <td>0.0</td>\n",
       "      <td>0.0</td>\n",
       "      <td>...</td>\n",
       "      <td>0.0</td>\n",
       "      <td>0.0</td>\n",
       "      <td>0.0</td>\n",
       "      <td>0.0</td>\n",
       "      <td>0.0</td>\n",
       "      <td>0.0</td>\n",
       "      <td>0.0</td>\n",
       "      <td>0.0</td>\n",
       "      <td>0.0</td>\n",
       "      <td>0.0</td>\n",
       "    </tr>\n",
       "    <tr>\n",
       "      <th>-32766</th>\n",
       "      <td>0.0</td>\n",
       "      <td>0.0</td>\n",
       "      <td>0.0</td>\n",
       "      <td>0.0</td>\n",
       "      <td>0.0</td>\n",
       "      <td>0.0</td>\n",
       "      <td>0.0</td>\n",
       "      <td>0.0</td>\n",
       "      <td>0.0</td>\n",
       "      <td>0.0</td>\n",
       "      <td>...</td>\n",
       "      <td>0.0</td>\n",
       "      <td>0.0</td>\n",
       "      <td>0.0</td>\n",
       "      <td>0.0</td>\n",
       "      <td>0.0</td>\n",
       "      <td>0.0</td>\n",
       "      <td>0.0</td>\n",
       "      <td>0.0</td>\n",
       "      <td>0.0</td>\n",
       "      <td>0.0</td>\n",
       "    </tr>\n",
       "    <tr>\n",
       "      <th>-32765</th>\n",
       "      <td>0.0</td>\n",
       "      <td>0.0</td>\n",
       "      <td>0.0</td>\n",
       "      <td>0.0</td>\n",
       "      <td>0.0</td>\n",
       "      <td>0.0</td>\n",
       "      <td>0.0</td>\n",
       "      <td>0.0</td>\n",
       "      <td>0.0</td>\n",
       "      <td>0.0</td>\n",
       "      <td>...</td>\n",
       "      <td>0.0</td>\n",
       "      <td>0.0</td>\n",
       "      <td>0.0</td>\n",
       "      <td>0.0</td>\n",
       "      <td>0.0</td>\n",
       "      <td>0.0</td>\n",
       "      <td>0.0</td>\n",
       "      <td>0.0</td>\n",
       "      <td>0.0</td>\n",
       "      <td>0.0</td>\n",
       "    </tr>\n",
       "    <tr>\n",
       "      <th>-32764</th>\n",
       "      <td>0.0</td>\n",
       "      <td>0.0</td>\n",
       "      <td>0.0</td>\n",
       "      <td>0.0</td>\n",
       "      <td>0.0</td>\n",
       "      <td>0.0</td>\n",
       "      <td>0.0</td>\n",
       "      <td>0.0</td>\n",
       "      <td>0.0</td>\n",
       "      <td>0.0</td>\n",
       "      <td>...</td>\n",
       "      <td>0.0</td>\n",
       "      <td>0.0</td>\n",
       "      <td>0.0</td>\n",
       "      <td>0.0</td>\n",
       "      <td>0.0</td>\n",
       "      <td>0.0</td>\n",
       "      <td>0.0</td>\n",
       "      <td>0.0</td>\n",
       "      <td>0.0</td>\n",
       "      <td>0.0</td>\n",
       "    </tr>\n",
       "  </tbody>\n",
       "</table>\n",
       "<p>5 rows × 24139 columns</p>\n",
       "</div>"
      ],
      "text/plain": [
       "movieId  -32768  -32766  -32759  -32757  -32755  -32753  -32749  -32748  \\\n",
       "userId                                                                    \n",
       "-32768      0.0     0.0     0.0     0.0     0.0     0.0     0.0     0.0   \n",
       "-32767      0.0     0.0     0.0     0.0     0.0     0.0     0.0     0.0   \n",
       "-32766      0.0     0.0     0.0     0.0     0.0     0.0     0.0     0.0   \n",
       "-32765      0.0     0.0     0.0     0.0     0.0     0.0     0.0     0.0   \n",
       "-32764      0.0     0.0     0.0     0.0     0.0     0.0     0.0     0.0   \n",
       "\n",
       "movieId  -32747  -32744  ...   32739   32741   32743   32748   32750   32752  \\\n",
       "userId                   ...                                                   \n",
       "-32768      0.0     0.0  ...     0.0     0.0     0.0     0.0     0.0     0.0   \n",
       "-32767      0.0     0.0  ...     0.0     0.0     0.0     0.0     0.0     0.0   \n",
       "-32766      0.0     0.0  ...     0.0     0.0     0.0     0.0     0.0     0.0   \n",
       "-32765      0.0     0.0  ...     0.0     0.0     0.0     0.0     0.0     0.0   \n",
       "-32764      0.0     0.0  ...     0.0     0.0     0.0     0.0     0.0     0.0   \n",
       "\n",
       "movieId   32754   32758   32760   32762  \n",
       "userId                                   \n",
       "-32768      0.0     0.0     0.0     0.0  \n",
       "-32767      0.0     0.0     0.0     0.0  \n",
       "-32766      0.0     0.0     0.0     0.0  \n",
       "-32765      0.0     0.0     0.0     0.0  \n",
       "-32764      0.0     0.0     0.0     0.0  \n",
       "\n",
       "[5 rows x 24139 columns]"
      ]
     },
     "execution_count": 20,
     "metadata": {},
     "output_type": "execute_result"
    }
   ],
   "source": [
    "ratings_matrix.fillna(0, inplace=True)\n",
    "ratings_matrix.head()"
   ]
  },
  {
   "cell_type": "code",
   "execution_count": null,
   "id": "35a86bf7",
   "metadata": {},
   "outputs": [],
   "source": [
    "# 고객님과 유사한 사용자가 다음의 콘텐츠도 규매 하였습니다."
   ]
  },
  {
   "cell_type": "code",
   "execution_count": null,
   "id": "148ed1d0",
   "metadata": {},
   "outputs": [],
   "source": [
    "from sklearn.metrics.pairwise import cosine_similarity"
   ]
  },
  {
   "cell_type": "code",
   "execution_count": null,
   "id": "d03d1125",
   "metadata": {},
   "outputs": [],
   "source": [
    "user_sim = cosine_similarity(ratings_matrix) # row 간에 cosine 유사도를 계산\n",
    "user_sim"
   ]
  },
  {
   "cell_type": "code",
   "execution_count": null,
   "id": "30474671",
   "metadata": {},
   "outputs": [],
   "source": []
  },
  {
   "cell_type": "code",
   "execution_count": null,
   "id": "bec60367",
   "metadata": {},
   "outputs": [],
   "source": [
    "user_sim_sort = user_sim.argsort(axis=1)[:, ::-1]\n",
    "user_sim_sort"
   ]
  },
  {
   "cell_type": "code",
   "execution_count": null,
   "id": "6a158488",
   "metadata": {},
   "outputs": [],
   "source": [
    "user_sim_sort[10][1:11] # 유사도가 높은 사용자 상위 10"
   ]
  },
  {
   "cell_type": "code",
   "execution_count": null,
   "id": "8156402d",
   "metadata": {},
   "outputs": [],
   "source": [
    "df.sort_values(ascending=False)"
   ]
  },
  {
   "cell_type": "code",
   "execution_count": null,
   "id": "6797981b",
   "metadata": {},
   "outputs": [],
   "source": [
    "user_sim.sort"
   ]
  },
  {
   "cell_type": "code",
   "execution_count": null,
   "id": "39d2c038",
   "metadata": {},
   "outputs": [],
   "source": [
    "def sim_user_based_recomm(user_sim, ratings_matrix, user_id, n_top=10):\n",
    "    user_sim_sort = user_sim[user_id].argsort()[::-1][:n_top * 5]\n",
    "    df = ratings_matrix.iloc[user_sim.sort[n_top*3][1, 11]]\n",
    "    return df.sum().sort_values(acsending=False)[:n_top]"
   ]
  },
  {
   "cell_type": "code",
   "execution_count": null,
   "id": "30ea70c4",
   "metadata": {},
   "outputs": [],
   "source": [
    "sim_user_based_recomm(user_sim, ratings_matrix, 50, n_top=10)"
   ]
  },
  {
   "cell_type": "markdown",
   "id": "af83e27e",
   "metadata": {},
   "source": [
    "## 아이템 기반 이웃 협업 필터링.."
   ]
  },
  {
   "cell_type": "code",
   "execution_count": null,
   "id": "5cc11a74",
   "metadata": {},
   "outputs": [],
   "source": [
    "ratings_matrix.T"
   ]
  },
  {
   "cell_type": "code",
   "execution_count": null,
   "id": "6e9ef227",
   "metadata": {},
   "outputs": [],
   "source": []
  },
  {
   "cell_type": "code",
   "execution_count": null,
   "id": "0c3c9144",
   "metadata": {},
   "outputs": [],
   "source": [
    "# 사용자 평점이 기간 영화들 간의 유사도 계산"
   ]
  },
  {
   "cell_type": "code",
   "execution_count": null,
   "id": "e13c938b",
   "metadata": {},
   "outputs": [],
   "source": [
    "item_sim = cosine_similarity(ratings_matrix)"
   ]
  },
  {
   "cell_type": "code",
   "execution_count": null,
   "id": "8c968c63",
   "metadata": {},
   "outputs": [],
   "source": [
    "item_sim.shape"
   ]
  },
  {
   "cell_type": "code",
   "execution_count": null,
   "id": "c500c96c",
   "metadata": {},
   "outputs": [],
   "source": [
    "pd.DataFrame(item_sim, index = ratings_matrix.columns, columns = ratings_matrix.columns)"
   ]
  },
  {
   "cell_type": "code",
   "execution_count": null,
   "id": "44ef1677",
   "metadata": {},
   "outputs": [],
   "source": [
    "# 사용자 평점 기준으로 유사한 "
   ]
  },
  {
   "cell_type": "code",
   "execution_count": null,
   "id": "d7d163e8",
   "metadata": {},
   "outputs": [],
   "source": [
    "item_sim_df['Godfather, The (1972)' ].sort_values(ascending=False)[:10]"
   ]
  },
  {
   "cell_type": "code",
   "execution_count": null,
   "id": "f5c62dc8",
   "metadata": {},
   "outputs": [],
   "source": [
    "item_sim_df[\"Schindler's List (1993)\"].sort_values(ascending=False)[1:10]"
   ]
  },
  {
   "cell_type": "code",
   "execution_count": null,
   "id": "d6639a8b",
   "metadata": {},
   "outputs": [],
   "source": [
    "# 영화의 유사도와 사용자 평점을 함계 고려한 영화 추천"
   ]
  },
  {
   "cell_type": "code",
   "execution_count": null,
   "id": "174d2f9a",
   "metadata": {},
   "outputs": [],
   "source": [
    "ratings_matrix.head()"
   ]
  },
  {
   "cell_type": "code",
   "execution_count": null,
   "id": "fbd9f39c",
   "metadata": {},
   "outputs": [],
   "source": []
  },
  {
   "cell_type": "code",
   "execution_count": null,
   "id": "6c2d5ccb",
   "metadata": {},
   "outputs": [],
   "source": [
    "# 영화의 유사도와 "
   ]
  },
  {
   "cell_type": "code",
   "execution_count": null,
   "id": "c4189445",
   "metadata": {},
   "outputs": [],
   "source": []
  },
  {
   "cell_type": "code",
   "execution_count": null,
   "id": "42768834",
   "metadata": {},
   "outputs": [],
   "source": []
  },
  {
   "cell_type": "code",
   "execution_count": null,
   "id": "e1703a0a",
   "metadata": {},
   "outputs": [],
   "source": []
  },
  {
   "cell_type": "code",
   "execution_count": null,
   "id": "7c13ee3f",
   "metadata": {},
   "outputs": [],
   "source": []
  },
  {
   "cell_type": "code",
   "execution_count": null,
   "id": "e90edb81",
   "metadata": {},
   "outputs": [],
   "source": []
  },
  {
   "cell_type": "code",
   "execution_count": null,
   "id": "855b437b",
   "metadata": {},
   "outputs": [],
   "source": []
  }
 ],
 "metadata": {
  "kernelspec": {
   "display_name": "Python 3 (ipykernel)",
   "language": "python",
   "name": "python3"
  },
  "language_info": {
   "codemirror_mode": {
    "name": "ipython",
    "version": 3
   },
   "file_extension": ".py",
   "mimetype": "text/x-python",
   "name": "python",
   "nbconvert_exporter": "python",
   "pygments_lexer": "ipython3",
   "version": "3.9.7"
  }
 },
 "nbformat": 4,
 "nbformat_minor": 5
}
