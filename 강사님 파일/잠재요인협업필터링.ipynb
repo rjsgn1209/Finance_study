{
 "cells": [
  {
   "cell_type": "code",
   "execution_count": 140,
   "id": "6a5d06e8",
   "metadata": {},
   "outputs": [],
   "source": [
    "# 행렬분해, 경사하강법(딥러닝) 을 이용한 알고리즘\n",
    "\n",
    "# 행렬분해 - matrix를 두 개의 서로 다른 행렬로 분해하는 것. \n",
    "#            분해된 행렬은 원래 행렬의 내재된 다른 의미를 갖는 행렬로 변환됨.\n",
    "# \n",
    "# 경사하강법 - 함수의 값을 최소화하는 파라미터들을 찾는 방식\n",
    "#                f(x) = w1x1 + w2x2 + ... => f(x)를 최소화하는 w1, w2 ...를 찾는 방법\n",
    "#                f(x)를 w1으로 미분한 값을 w1에 더해서 업데이트..\n",
    "#                f(x)를 w2로 미분한 값을 w2에 더해서 업데이트.."
   ]
  },
  {
   "cell_type": "code",
   "execution_count": 141,
   "id": "0ae762a7",
   "metadata": {},
   "outputs": [],
   "source": [
    "import pandas as pd\n",
    "import numpy as np\n",
    "import matplotlib.pyplot as plt"
   ]
  },
  {
   "cell_type": "code",
   "execution_count": null,
   "id": "8925cda1",
   "metadata": {},
   "outputs": [],
   "source": []
  },
  {
   "cell_type": "code",
   "execution_count": 142,
   "id": "f3a27dd2",
   "metadata": {},
   "outputs": [],
   "source": [
    "# 경사하강법을 이용한 행렬분해"
   ]
  },
  {
   "cell_type": "code",
   "execution_count": 143,
   "id": "c64d0125",
   "metadata": {},
   "outputs": [
    {
     "data": {
      "text/plain": [
       "array([[ 4., nan, nan,  2., nan],\n",
       "       [nan,  5., nan,  3.,  1.],\n",
       "       [nan, nan,  3.,  4.,  4.],\n",
       "       [ 5.,  2.,  1.,  2., nan]])"
      ]
     },
     "execution_count": 143,
     "metadata": {},
     "output_type": "execute_result"
    }
   ],
   "source": [
    "# 사용자 영화 평점 매트릭스\n",
    "\n",
    "R = np.array(\n",
    "[\n",
    "    [4, np.nan, np.nan, 2, np.nan],\n",
    "     [np.nan, 5, np.nan, 3, 1],\n",
    "     [np.nan, np.nan, 3, 4, 4],\n",
    "     [5, 2, 1, 2, np.nan],\n",
    "]\n",
    ")\n",
    "R"
   ]
  },
  {
   "cell_type": "code",
   "execution_count": 144,
   "id": "f1d685db",
   "metadata": {},
   "outputs": [
    {
     "name": "stdout",
     "output_type": "stream",
     "text": [
      "4 5\n"
     ]
    }
   ],
   "source": [
    "num_users, num_items = R.shape\n",
    "print(num_users, num_items)  # 이용자수, 영화수"
   ]
  },
  {
   "cell_type": "code",
   "execution_count": 145,
   "id": "5a1edaee",
   "metadata": {},
   "outputs": [],
   "source": [
    "k = 3"
   ]
  },
  {
   "cell_type": "code",
   "execution_count": 146,
   "id": "e9ac0189",
   "metadata": {},
   "outputs": [],
   "source": [
    "# a*b = c \n",
    "# a의 row원소수, b의 칼럼 수가 같아야..\n",
    "# c의 shape은 (a row num, b col num)"
   ]
  },
  {
   "cell_type": "code",
   "execution_count": 147,
   "id": "2b60c41e",
   "metadata": {},
   "outputs": [],
   "source": [
    "# R = P * Q.T"
   ]
  },
  {
   "cell_type": "code",
   "execution_count": 148,
   "id": "99963973",
   "metadata": {},
   "outputs": [
    {
     "data": {
      "text/plain": [
       "array([[-0.61803685, -2.03720123, -1.94258918, -2.50644065, -2.11416392,\n",
       "        -0.41163916,  1.27852808, -0.44222928,  0.32352735, -0.10999149],\n",
       "       [ 0.00854895, -0.16819884, -0.17418034,  0.4611641 , -1.17598267,\n",
       "         1.01012718,  0.92001793, -0.19505734,  0.80539342, -0.70134443],\n",
       "       [-0.53722302,  0.15626385, -0.19022103, -0.44873803, -0.67244804,\n",
       "        -0.55749472,  0.93916874, -1.94332341,  0.35249436, -0.23643695],\n",
       "       [ 0.7278135 ,  0.51507361, -2.78253447,  0.58464661,  0.32427424,\n",
       "         0.02186284, -0.46867382,  0.85328122, -0.41302931,  1.83471763],\n",
       "       [ 0.56438286,  2.13782807, -0.785534  , -1.75592564,  0.7147896 ,\n",
       "         0.85270406,  0.0353601 , -1.53879325, -0.44789518,  0.61798553],\n",
       "       [-0.18417633, -0.11598519, -0.17545897, -0.93391466, -0.53302033,\n",
       "        -1.42655542,  1.76795995, -0.47537288,  0.47761018, -1.02188594],\n",
       "       [ 0.79452824, -1.87316098,  0.92061512, -0.03536792,  2.11060505,\n",
       "        -1.30653407,  0.07638048,  0.36723181,  1.23289919, -0.42285696],\n",
       "       [ 0.08646441, -2.14246673, -0.83016886,  0.45161595,  1.10417433,\n",
       "        -0.28173627,  2.05635552,  1.76024923, -0.06065249, -2.413503  ],\n",
       "       [-1.77756638, -0.77785883,  1.11584111,  0.31027229, -2.09424782,\n",
       "        -0.22876583,  1.61336137, -0.37480469, -0.74996962,  2.0546241 ],\n",
       "       [ 0.05340954, -0.4791571 ,  0.35016716,  0.01716473, -0.42914228,\n",
       "         1.20845633,  1.1157018 ,  0.84086156, -0.10288722,  1.14690038]])"
      ]
     },
     "execution_count": 148,
     "metadata": {},
     "output_type": "execute_result"
    }
   ],
   "source": [
    "np.random.normal(size=(10, 10))"
   ]
  },
  {
   "cell_type": "code",
   "execution_count": 149,
   "id": "fce3d5e2",
   "metadata": {},
   "outputs": [],
   "source": [
    "np.random.seed(1)\n",
    "\n",
    "P = np.random.normal(scale=1/k, size=(num_users, k))\n",
    "Q = np.random.normal(scale=1/k, size=(num_items, k))"
   ]
  },
  {
   "cell_type": "code",
   "execution_count": 171,
   "id": "8b951f72",
   "metadata": {},
   "outputs": [
    {
     "data": {
      "text/plain": [
       "array([[ 0.96176346,  0.47294178, -0.77523415],\n",
       "       [-0.02715877,  0.84126576, -2.46684544],\n",
       "       [ 2.38443343,  0.1145889 , -1.19297505],\n",
       "       [ 0.58938647,  1.09569803, -1.06290344]])"
      ]
     },
     "execution_count": 171,
     "metadata": {},
     "output_type": "execute_result"
    }
   ],
   "source": [
    "P"
   ]
  },
  {
   "cell_type": "code",
   "execution_count": 172,
   "id": "533b0e97",
   "metadata": {},
   "outputs": [
    {
     "data": {
      "text/plain": [
       "array([[ 1.61880439, -0.7857943 ,  1.04170897,  1.07217002,  1.43467753],\n",
       "       [ 1.51366549,  0.45367747, -0.05649678,  0.12022894, -0.21006598],\n",
       "       [-2.2158992 , -1.85456412, -0.42739712, -1.17909076, -0.49396305]])"
      ]
     },
     "execution_count": 172,
     "metadata": {},
     "output_type": "execute_result"
    }
   ],
   "source": [
    "Q.T"
   ]
  },
  {
   "cell_type": "code",
   "execution_count": 166,
   "id": "608d25a0",
   "metadata": {},
   "outputs": [
    {
     "data": {
      "text/plain": [
       "array([[3.99062329, 0.89653623, 1.30649077, 2.00210666, 1.66340846],\n",
       "       [6.69571106, 4.97792757, 0.97850229, 2.98066034, 1.0028451 ],\n",
       "       [6.67689303, 0.39076095, 2.98728588, 3.9769208 , 3.98610743],\n",
       "       [4.96790858, 2.00517956, 1.00634763, 2.01691675, 1.14044567]])"
      ]
     },
     "execution_count": 166,
     "metadata": {},
     "output_type": "execute_result"
    }
   ],
   "source": [
    "np.dot(P, Q.T)"
   ]
  },
  {
   "cell_type": "code",
   "execution_count": 153,
   "id": "90fd979a",
   "metadata": {},
   "outputs": [],
   "source": [
    "from sklearn.metrics import mean_squared_error\n",
    "\n",
    "def get_rmse(R, P, Q, non_zeros):\n",
    "    error = 0\n",
    "    full_pred_matrix = np.dot(P, Q.T)  # 예측행렬\n",
    "    \n",
    "    x_non_zero_ind = [non_zero[0] for non_zero in non_zeros]  # non zero data 행 인덱스값\n",
    "    y_non_zero_ind = [non_zero[1] for non_zero in non_zeros]  # non zero data 열 인덱스값\n",
    "    R_non_zeros = R[x_non_zero_ind, y_non_zero_ind] # 실제 행렬의 non zero data 실제값\n",
    "    full_pred_matrix_non_zeros = full_pred_matrix[x_non_zero_ind, y_non_zero_ind] # 예상 행렬의 non zero data 실제값\n",
    "      \n",
    "    mse = mean_squared_error(R_non_zeros, full_pred_matrix_non_zeros) # 실제 행렬값과 예상행렬값의 차이 계산\n",
    "    rmse = np.sqrt(mse)\n",
    "    \n",
    "    return rmse  "
   ]
  },
  {
   "cell_type": "code",
   "execution_count": null,
   "id": "94bd4495",
   "metadata": {},
   "outputs": [],
   "source": []
  },
  {
   "cell_type": "code",
   "execution_count": 154,
   "id": "a5ded2b1",
   "metadata": {},
   "outputs": [
    {
     "data": {
      "text/plain": [
       "[(0, 0, 4.0),\n",
       " (0, 3, 2.0),\n",
       " (1, 1, 5.0),\n",
       " (1, 3, 3.0),\n",
       " (1, 4, 1.0),\n",
       " (2, 2, 3.0),\n",
       " (2, 3, 4.0),\n",
       " (2, 4, 4.0),\n",
       " (3, 0, 5.0),\n",
       " (3, 1, 2.0),\n",
       " (3, 2, 1.0),\n",
       " (3, 3, 2.0)]"
      ]
     },
     "execution_count": 154,
     "metadata": {},
     "output_type": "execute_result"
    }
   ],
   "source": [
    "non_zeros = [(i, j, R[i,j]) for i in range(num_users) for j in range(num_items) if R[i,j] > 0]\n",
    "non_zeros"
   ]
  },
  {
   "cell_type": "code",
   "execution_count": null,
   "id": "daaf83a2",
   "metadata": {},
   "outputs": [],
   "source": []
  },
  {
   "cell_type": "code",
   "execution_count": 155,
   "id": "2cd2339d",
   "metadata": {},
   "outputs": [],
   "source": [
    "# 경사하강법"
   ]
  },
  {
   "cell_type": "code",
   "execution_count": 156,
   "id": "6c6537e8",
   "metadata": {},
   "outputs": [],
   "source": [
    "steps = 1000\n",
    "learning_rate = 0.01\n",
    "r_lambda = 0.01"
   ]
  },
  {
   "cell_type": "code",
   "execution_count": 157,
   "id": "608f37cb",
   "metadata": {},
   "outputs": [
    {
     "name": "stdout",
     "output_type": "stream",
     "text": [
      "### iteration step :  0  rmse :  3.2388050277987723\n",
      "### iteration step :  50  rmse :  0.4876723101369648\n",
      "### iteration step :  100  rmse :  0.1564340384819247\n",
      "### iteration step :  150  rmse :  0.07455141311978046\n",
      "### iteration step :  200  rmse :  0.04325226798579314\n",
      "### iteration step :  250  rmse :  0.029248328780878973\n",
      "### iteration step :  300  rmse :  0.022621116143829466\n",
      "### iteration step :  350  rmse :  0.019493636196525135\n",
      "### iteration step :  400  rmse :  0.018022719092132704\n",
      "### iteration step :  450  rmse :  0.01731968595344266\n",
      "### iteration step :  500  rmse :  0.016973657887570753\n",
      "### iteration step :  550  rmse :  0.016796804595895633\n",
      "### iteration step :  600  rmse :  0.01670132290188466\n",
      "### iteration step :  650  rmse :  0.01664473691247669\n",
      "### iteration step :  700  rmse :  0.016605910068210026\n",
      "### iteration step :  750  rmse :  0.016574200475705\n",
      "### iteration step :  800  rmse :  0.01654431582921597\n",
      "### iteration step :  850  rmse :  0.01651375177473524\n",
      "### iteration step :  900  rmse :  0.01648146573819501\n",
      "### iteration step :  950  rmse :  0.016447171683479155\n"
     ]
    }
   ],
   "source": [
    "steps=1000\n",
    "learning_rate=0.01\n",
    "r_lambda=0.01  # 규제값 크기\n",
    "\n",
    "for step in range(steps):\n",
    "    for i, j, r in non_zeros:  # 실제 행렬에서 값이 있는 인덱스, 칼럽, 값을 가져온다\n",
    "        eij = r - np.dot(P[i, :], Q[j, :].T)    # P : 사용자행 벡터, Q : 아이템행 벡터, 실제값과 예상행렬의 값과의 차이\n",
    "        P[i,:] = P[i,:] + learning_rate*(eij * Q[j, :] - r_lambda*P[i,:])\n",
    "        Q[j,:] = Q[j,:] + learning_rate*(eij * P[i, :] - r_lambda*Q[j,:])\n",
    "\n",
    "    rmse = get_rmse(R, P, Q, non_zeros)  # non_zeros - 원본행렬에서 0값이 아닌 위치인덱스와 값\n",
    "    \n",
    "    if (step % 50) == 0 :\n",
    "        print(\"### iteration step : \", step,\" rmse : \", rmse)"
   ]
  },
  {
   "cell_type": "code",
   "execution_count": null,
   "id": "ce56574d",
   "metadata": {},
   "outputs": [],
   "source": []
  },
  {
   "cell_type": "code",
   "execution_count": 158,
   "id": "8c4fad32",
   "metadata": {},
   "outputs": [
    {
     "name": "stdout",
     "output_type": "stream",
     "text": [
      "예측 행렬:\n",
      " [[3.991 0.897 1.306 2.002 1.663]\n",
      " [6.696 4.978 0.979 2.981 1.003]\n",
      " [6.677 0.391 2.987 3.977 3.986]\n",
      " [4.968 2.005 1.006 2.017 1.14 ]]\n"
     ]
    }
   ],
   "source": [
    "pred_matrix = np.dot(P, Q.T)  # P 와 Q 가 업데이트 되었다.\n",
    "print('예측 행렬:\\n', np.round(pred_matrix, 3))"
   ]
  },
  {
   "cell_type": "code",
   "execution_count": 159,
   "id": "748986f1",
   "metadata": {},
   "outputs": [
    {
     "ename": "NameError",
     "evalue": "name 'rray' is not defined",
     "output_type": "error",
     "traceback": [
      "\u001b[1;31m---------------------------------------------------------------------------\u001b[0m",
      "\u001b[1;31mNameError\u001b[0m                                 Traceback (most recent call last)",
      "\u001b[1;32m~\\AppData\\Local\\Temp/ipykernel_6084/1475116985.py\u001b[0m in \u001b[0;36m<module>\u001b[1;34m\u001b[0m\n\u001b[1;32m----> 1\u001b[1;33m rray([[ 4., nan, nan,  2., nan],\n\u001b[0m\u001b[0;32m      2\u001b[0m        \u001b[1;33m[\u001b[0m\u001b[0mnan\u001b[0m\u001b[1;33m,\u001b[0m  \u001b[1;36m5.\u001b[0m\u001b[1;33m,\u001b[0m \u001b[0mnan\u001b[0m\u001b[1;33m,\u001b[0m  \u001b[1;36m3.\u001b[0m\u001b[1;33m,\u001b[0m  \u001b[1;36m1.\u001b[0m\u001b[1;33m]\u001b[0m\u001b[1;33m,\u001b[0m\u001b[1;33m\u001b[0m\u001b[1;33m\u001b[0m\u001b[0m\n\u001b[0;32m      3\u001b[0m        \u001b[1;33m[\u001b[0m\u001b[0mnan\u001b[0m\u001b[1;33m,\u001b[0m \u001b[0mnan\u001b[0m\u001b[1;33m,\u001b[0m  \u001b[1;36m3.\u001b[0m\u001b[1;33m,\u001b[0m  \u001b[1;36m4.\u001b[0m\u001b[1;33m,\u001b[0m  \u001b[1;36m4.\u001b[0m\u001b[1;33m]\u001b[0m\u001b[1;33m,\u001b[0m\u001b[1;33m\u001b[0m\u001b[1;33m\u001b[0m\u001b[0m\n\u001b[0;32m      4\u001b[0m        [ 5.,  2.,  1.,  2., nan]])\n",
      "\u001b[1;31mNameError\u001b[0m: name 'rray' is not defined"
     ]
    }
   ],
   "source": [
    "rray([[ 4., nan, nan,  2., nan],\n",
    "       [nan,  5., nan,  3.,  1.],\n",
    "       [nan, nan,  3.,  4.,  4.],\n",
    "       [ 5.,  2.,  1.,  2., nan]])"
   ]
  },
  {
   "cell_type": "code",
   "execution_count": null,
   "id": "04550983",
   "metadata": {},
   "outputs": [],
   "source": []
  },
  {
   "cell_type": "code",
   "execution_count": null,
   "id": "3fa40d54",
   "metadata": {},
   "outputs": [],
   "source": [
    "P"
   ]
  },
  {
   "cell_type": "code",
   "execution_count": null,
   "id": "ee8271c5",
   "metadata": {},
   "outputs": [],
   "source": [
    "Q"
   ]
  },
  {
   "cell_type": "code",
   "execution_count": null,
   "id": "3d528663",
   "metadata": {},
   "outputs": [],
   "source": []
  },
  {
   "cell_type": "code",
   "execution_count": null,
   "id": "a7421eff",
   "metadata": {},
   "outputs": [],
   "source": []
  },
  {
   "cell_type": "code",
   "execution_count": null,
   "id": "7552077a",
   "metadata": {},
   "outputs": [],
   "source": [
    "import pickle"
   ]
  },
  {
   "cell_type": "code",
   "execution_count": null,
   "id": "b64de3da",
   "metadata": {},
   "outputs": [],
   "source": [
    "with open('ratings_matrix.pickle', 'rb')  as f:\n",
    "    ratings_matrix = pickle.load(f)"
   ]
  },
  {
   "cell_type": "code",
   "execution_count": null,
   "id": "e34b9d89",
   "metadata": {},
   "outputs": [],
   "source": [
    "ratings_matrix"
   ]
  },
  {
   "cell_type": "code",
   "execution_count": null,
   "id": "f7e45f2e",
   "metadata": {},
   "outputs": [],
   "source": [
    "def get_rmse(R, P, Q, non_zeros):\n",
    "    error = 0\n",
    "    full_pred_matrix = np.dot(P, Q.T)\n",
    "    \n",
    "    x_non_zero_ind = [non_zero[0] for non_zero in non_zeros]\n",
    "    y_non_zero_ind = [non_zero[1] for non_zero in non_zeros]\n",
    "    R_non_zeros = R[x_non_zero_ind, y_non_zero_ind]  # 실제행렬값\n",
    "    \n",
    "    full_pred_matrix_non_zeros = full_pred_matrix[x_non_zero_ind, y_non_zero_ind]  # 예축행렬값\n",
    "      \n",
    "    mse = mean_squared_error(R_non_zeros, full_pred_matrix_non_zeros)\n",
    "    rmse = np.sqrt(mse)\n",
    "    \n",
    "    return rmse"
   ]
  },
  {
   "cell_type": "code",
   "execution_count": null,
   "id": "681e45ae",
   "metadata": {},
   "outputs": [],
   "source": [
    "def matrix_factorization(R, K, steps=200, learning_rate=0.01, r_lambda = 0.01):\n",
    "    \n",
    "    num_users, num_items = R.shape\n",
    "    \n",
    "    P = np.random.normal(scale=1./K, size=(num_users, K))\n",
    "    Q = np.random.normal(scale=1./K, size=(num_items, K))\n",
    "\n",
    "    break_count = 0\n",
    "       \n",
    "    non_zeros = [ (i, j, R[i,j]) for i in range(num_users) for j in range(num_items) if R[i,j] > 0 ]\n",
    "   \n",
    "    for step in range(steps):\n",
    "        for i, j, r in non_zeros:\n",
    "            eij = r - np.dot(P[i, :], Q[j, :].T)\n",
    "            P[i,:] = P[i,:] + learning_rate*(eij * Q[j, :] - r_lambda*P[i,:])\n",
    "            Q[j,:] = Q[j,:] + learning_rate*(eij * P[i, :] - r_lambda*Q[j,:])\n",
    "       \n",
    "        rmse = get_rmse(R, P, Q, non_zeros)\n",
    "        if (step % 10) == 0 :\n",
    "            print(\"### iteration step : \", step,\" rmse : \", rmse)\n",
    "            \n",
    "    return P, Q"
   ]
  },
  {
   "cell_type": "code",
   "execution_count": null,
   "id": "b8e91e78",
   "metadata": {},
   "outputs": [],
   "source": []
  },
  {
   "cell_type": "code",
   "execution_count": null,
   "id": "b32ce052",
   "metadata": {},
   "outputs": [],
   "source": [
    "P, Q = matrix_factorization(ratings_matrix.values, K=50, steps=200, learning_rate=0.01, r_lambda = 0.01)\n",
    "pred_matrix = np.dot(P, Q.T)"
   ]
  },
  {
   "cell_type": "code",
   "execution_count": null,
   "id": "e66be8c8",
   "metadata": {},
   "outputs": [],
   "source": []
  },
  {
   "cell_type": "code",
   "execution_count": null,
   "id": "2277cfbb",
   "metadata": {},
   "outputs": [],
   "source": [
    "ratings_matrix.shape"
   ]
  },
  {
   "cell_type": "code",
   "execution_count": null,
   "id": "5a567c6f",
   "metadata": {},
   "outputs": [],
   "source": [
    "pred_matrix.shape"
   ]
  },
  {
   "cell_type": "code",
   "execution_count": null,
   "id": "0ab36e47",
   "metadata": {},
   "outputs": [],
   "source": [
    "ratings_pred_matrix = pd.DataFrame(pred_matrix, index = ratings_matrix.index, columns = ratings_matrix.columns)\n",
    "ratings_pred_matrix.head()"
   ]
  },
  {
   "cell_type": "code",
   "execution_count": null,
   "id": "fcc4767f",
   "metadata": {},
   "outputs": [],
   "source": [
    "ratings_matrix.head()"
   ]
  },
  {
   "cell_type": "code",
   "execution_count": null,
   "id": "c486c4a6",
   "metadata": {},
   "outputs": [],
   "source": []
  },
  {
   "cell_type": "code",
   "execution_count": null,
   "id": "865dc1ef",
   "metadata": {},
   "outputs": [],
   "source": [
    "user_id = 9\n",
    "top_n = 50\n",
    "\n",
    "ratings_pred_matrix.loc[user_id].sort_values(ascending=False)[:top_n]"
   ]
  },
  {
   "cell_type": "code",
   "execution_count": 201,
   "id": "5d408c73",
   "metadata": {},
   "outputs": [
    {
     "data": {
      "text/plain": [
       "array([[4, 3, 6],\n",
       "       [5, 3, 6]])"
      ]
     },
     "execution_count": 201,
     "metadata": {},
     "output_type": "execute_result"
    }
   ],
   "source": [
    "x = np.array([[1, 2], [2, 1]])\n",
    "y = np.array([[2, 1 ,2], [1, 1, 2]])\n",
    "np.dot(x, y)"
   ]
  },
  {
   "cell_type": "code",
   "execution_count": 184,
   "id": "50fe453d",
   "metadata": {},
   "outputs": [
    {
     "data": {
      "text/plain": [
       "array([[3.99062329, 0.89653623, 1.30649077, 2.00210666, 1.66340846],\n",
       "       [6.69571106, 4.97792757, 0.97850229, 2.98066034, 1.0028451 ],\n",
       "       [6.67689303, 0.39076095, 2.98728588, 3.9769208 , 3.98610743],\n",
       "       [4.96790858, 2.00517956, 1.00634763, 2.01691675, 1.14044567]])"
      ]
     },
     "execution_count": 184,
     "metadata": {},
     "output_type": "execute_result"
    }
   ],
   "source": [
    "np.dot(P, Q.T)"
   ]
  },
  {
   "cell_type": "code",
   "execution_count": 186,
   "id": "af6ddc25",
   "metadata": {},
   "outputs": [
    {
     "data": {
      "text/plain": [
       "(4, 3)"
      ]
     },
     "execution_count": 186,
     "metadata": {},
     "output_type": "execute_result"
    }
   ],
   "source": [
    "P.shape"
   ]
  },
  {
   "cell_type": "code",
   "execution_count": 187,
   "id": "18c606e8",
   "metadata": {},
   "outputs": [
    {
     "data": {
      "text/plain": [
       "(3, 5)"
      ]
     },
     "execution_count": 187,
     "metadata": {},
     "output_type": "execute_result"
    }
   ],
   "source": [
    "Q.T.shape"
   ]
  }
 ],
 "metadata": {
  "kernelspec": {
   "display_name": "Python 3 (ipykernel)",
   "language": "python",
   "name": "python3"
  },
  "language_info": {
   "codemirror_mode": {
    "name": "ipython",
    "version": 3
   },
   "file_extension": ".py",
   "mimetype": "text/x-python",
   "name": "python",
   "nbconvert_exporter": "python",
   "pygments_lexer": "ipython3",
   "version": "3.9.7"
  }
 },
 "nbformat": 4,
 "nbformat_minor": 5
}
