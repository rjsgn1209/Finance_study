{
 "cells": [
  {
   "cell_type": "code",
   "execution_count": 1,
   "id": "33799d16",
   "metadata": {},
   "outputs": [],
   "source": [
    "import pandas as pd\n",
    "import numpy as np\n",
    "import matplotlib.pyplot as plt\n",
    "import seaborn as sns"
   ]
  },
  {
   "cell_type": "code",
   "execution_count": 2,
   "id": "3e1a9a17",
   "metadata": {},
   "outputs": [],
   "source": [
    "import FinanceDataReader as fdr"
   ]
  },
  {
   "cell_type": "code",
   "execution_count": 3,
   "id": "257a95f2",
   "metadata": {},
   "outputs": [],
   "source": [
    "import plotly.express as px\n",
    "import plotly.graph_objects as go"
   ]
  },
  {
   "cell_type": "code",
   "execution_count": 4,
   "id": "b7f3f001",
   "metadata": {},
   "outputs": [],
   "source": [
    "def get_returns_df(df, N=1, log=False):\n",
    "    if log:\n",
    "        return np.log(df/df.shift(N)).iloc[N-1:].fillna(0)\n",
    "    else:\n",
    "        return df.pct_change(N, fill_method=None).iloc[N-1:].fillna(0)\n",
    "    \n",
    "def get_cum_returns_df(return_df, log=False):\n",
    "    if log:\n",
    "        return np.exp(return_df.cumsum())\n",
    "    else:\n",
    "        return (1 + return_df).cumprod()"
   ]
  },
  {
   "cell_type": "code",
   "execution_count": 5,
   "id": "2750146a",
   "metadata": {},
   "outputs": [],
   "source": [
    "def get_annualized_returns_series(log_return_df, num_day_in_year=250):\n",
    "    return (log_return_df.mean() * num_day_in_year).round(2)\n",
    "\n",
    "def get_annualized_std_series(log_return_df, num_day_in_year=250):\n",
    "    return (log_return_df.std() * (num_day_in_year ** 0.5)).round(2)"
   ]
  },
  {
   "cell_type": "code",
   "execution_count": 6,
   "id": "a7121ba7",
   "metadata": {},
   "outputs": [],
   "source": [
    "def get_cagr_series(cum_rtn_df, num_day_in_year = 250):\n",
    "    cagr_series = cum_rtn_df.iloc[-1]**(num_day_in_year/(len(cum_rtn_df))) - 1\n",
    "    return cagr_series"
   ]
  },
  {
   "cell_type": "code",
   "execution_count": 7,
   "id": "b451cba4",
   "metadata": {},
   "outputs": [],
   "source": [
    "def get_sharpe_ratio(log_rtn_df, yearly_rfr = 0.025):\n",
    "    excess_rtns = log_rtn_df.mean()*252 - yearly_rfr\n",
    "    return excess_rtns / (log_rtn_df.std() * np.sqrt(252))"
   ]
  },
  {
   "cell_type": "code",
   "execution_count": 8,
   "id": "80a98698",
   "metadata": {},
   "outputs": [],
   "source": [
    "def get_drawdown_infos(cum_returns_df):\n",
    "    cummax_df = cum_returns_df.cummax()\n",
    "    dd_df = cum_returns_df / cummax_df -1\n",
    "    \n",
    "    mdd_series = dd_df.min()\n",
    "    \n",
    "    max_point_df = dd_df[dd_df == 0]\n",
    "    \n",
    "    first_df = max_point_df.index[:-1]\n",
    "    second_df = max_point_df.index[1:]\n",
    "    \n",
    "    period = first_df - second_df\n",
    "    \n",
    "    longest_dd_period = period.min().days\n",
    "    \n",
    "    ldd_st = first_df[period.argmin()]\n",
    "    ldd_ed = second_df[period.argmin()]\n",
    "    \n",
    "    return mdd_series, longest_dd_period, ldd_st, ldd_ed"
   ]
  },
  {
   "cell_type": "code",
   "execution_count": null,
   "id": "cb4770ca",
   "metadata": {},
   "outputs": [],
   "source": []
  },
  {
   "cell_type": "code",
   "execution_count": null,
   "id": "21cfbc53",
   "metadata": {},
   "outputs": [],
   "source": []
  },
  {
   "cell_type": "markdown",
   "id": "12781c73",
   "metadata": {},
   "source": [
    "### 이동평균선 매매전략"
   ]
  },
  {
   "cell_type": "code",
   "execution_count": 9,
   "id": "ca0a5562",
   "metadata": {},
   "outputs": [],
   "source": [
    "df = fdr.DataReader('005930','2010-01-02','2020-10-30')"
   ]
  },
  {
   "cell_type": "code",
   "execution_count": 10,
   "id": "764ea80f",
   "metadata": {},
   "outputs": [
    {
     "data": {
      "text/html": [
       "<div>\n",
       "<style scoped>\n",
       "    .dataframe tbody tr th:only-of-type {\n",
       "        vertical-align: middle;\n",
       "    }\n",
       "\n",
       "    .dataframe tbody tr th {\n",
       "        vertical-align: top;\n",
       "    }\n",
       "\n",
       "    .dataframe thead th {\n",
       "        text-align: right;\n",
       "    }\n",
       "</style>\n",
       "<table border=\"1\" class=\"dataframe\">\n",
       "  <thead>\n",
       "    <tr style=\"text-align: right;\">\n",
       "      <th></th>\n",
       "      <th>Open</th>\n",
       "      <th>High</th>\n",
       "      <th>Low</th>\n",
       "      <th>Close</th>\n",
       "      <th>Volume</th>\n",
       "      <th>Change</th>\n",
       "      <th>sma</th>\n",
       "      <th>lma</th>\n",
       "    </tr>\n",
       "    <tr>\n",
       "      <th>Date</th>\n",
       "      <th></th>\n",
       "      <th></th>\n",
       "      <th></th>\n",
       "      <th></th>\n",
       "      <th></th>\n",
       "      <th></th>\n",
       "      <th></th>\n",
       "      <th></th>\n",
       "    </tr>\n",
       "  </thead>\n",
       "  <tbody>\n",
       "    <tr>\n",
       "      <th>2010-01-04</th>\n",
       "      <td>16060</td>\n",
       "      <td>16180</td>\n",
       "      <td>16000</td>\n",
       "      <td>16180</td>\n",
       "      <td>239271</td>\n",
       "      <td>0.012516</td>\n",
       "      <td>NaN</td>\n",
       "      <td>NaN</td>\n",
       "    </tr>\n",
       "    <tr>\n",
       "      <th>2010-01-05</th>\n",
       "      <td>16520</td>\n",
       "      <td>16580</td>\n",
       "      <td>16300</td>\n",
       "      <td>16440</td>\n",
       "      <td>559219</td>\n",
       "      <td>0.016069</td>\n",
       "      <td>NaN</td>\n",
       "      <td>NaN</td>\n",
       "    </tr>\n",
       "    <tr>\n",
       "      <th>2010-01-06</th>\n",
       "      <td>16580</td>\n",
       "      <td>16820</td>\n",
       "      <td>16520</td>\n",
       "      <td>16820</td>\n",
       "      <td>459755</td>\n",
       "      <td>0.023114</td>\n",
       "      <td>NaN</td>\n",
       "      <td>NaN</td>\n",
       "    </tr>\n",
       "    <tr>\n",
       "      <th>2010-01-07</th>\n",
       "      <td>16820</td>\n",
       "      <td>16820</td>\n",
       "      <td>16260</td>\n",
       "      <td>16260</td>\n",
       "      <td>443237</td>\n",
       "      <td>-0.033294</td>\n",
       "      <td>NaN</td>\n",
       "      <td>NaN</td>\n",
       "    </tr>\n",
       "    <tr>\n",
       "      <th>2010-01-08</th>\n",
       "      <td>16400</td>\n",
       "      <td>16420</td>\n",
       "      <td>16120</td>\n",
       "      <td>16420</td>\n",
       "      <td>295798</td>\n",
       "      <td>0.009840</td>\n",
       "      <td>16424.0</td>\n",
       "      <td>NaN</td>\n",
       "    </tr>\n",
       "  </tbody>\n",
       "</table>\n",
       "</div>"
      ],
      "text/plain": [
       "             Open   High    Low  Close  Volume    Change      sma  lma\n",
       "Date                                                                  \n",
       "2010-01-04  16060  16180  16000  16180  239271  0.012516      NaN  NaN\n",
       "2010-01-05  16520  16580  16300  16440  559219  0.016069      NaN  NaN\n",
       "2010-01-06  16580  16820  16520  16820  459755  0.023114      NaN  NaN\n",
       "2010-01-07  16820  16820  16260  16260  443237 -0.033294      NaN  NaN\n",
       "2010-01-08  16400  16420  16120  16420  295798  0.009840  16424.0  NaN"
      ]
     },
     "execution_count": 10,
     "metadata": {},
     "output_type": "execute_result"
    }
   ],
   "source": [
    "df['sma'] = df['Close'].rolling(5).mean()\n",
    "df['lma'] = df['Close'].rolling(20).mean()\n",
    "df.head()"
   ]
  },
  {
   "cell_type": "code",
   "execution_count": 11,
   "id": "7f4567a6",
   "metadata": {},
   "outputs": [],
   "source": [
    "df.dropna(inplace=True)"
   ]
  },
  {
   "cell_type": "code",
   "execution_count": 12,
   "id": "84419df2",
   "metadata": {},
   "outputs": [
    {
     "data": {
      "text/plain": [
       "<AxesSubplot:xlabel='Date'>"
      ]
     },
     "execution_count": 12,
     "metadata": {},
     "output_type": "execute_result"
    },
    {
     "data": {
      "image/png": "[encoded data removed]",
      "text/plain": [
       "<Figure size 1080x360 with 1 Axes>"
      ]
     },
     "metadata": {
      "needs_background": "light"
     },
     "output_type": "display_data"
    }
   ],
   "source": [
    "# df[['Close','sma','lma']].iloc[-200:].plot(figsize=(15,5))\n",
    "df[['sma','lma']].iloc[-200:].plot(figsize=(15,5))"
   ]
  },
  {
   "cell_type": "code",
   "execution_count": 13,
   "id": "677493b5",
   "metadata": {},
   "outputs": [
    {
     "data": {
      "text/html": [
       "<div>\n",
       "<style scoped>\n",
       "    .dataframe tbody tr th:only-of-type {\n",
       "        vertical-align: middle;\n",
       "    }\n",
       "\n",
       "    .dataframe tbody tr th {\n",
       "        vertical-align: top;\n",
       "    }\n",
       "\n",
       "    .dataframe thead th {\n",
       "        text-align: right;\n",
       "    }\n",
       "</style>\n",
       "<table border=\"1\" class=\"dataframe\">\n",
       "  <thead>\n",
       "    <tr style=\"text-align: right;\">\n",
       "      <th></th>\n",
       "      <th>Open</th>\n",
       "      <th>High</th>\n",
       "      <th>Low</th>\n",
       "      <th>Close</th>\n",
       "      <th>Volume</th>\n",
       "      <th>Change</th>\n",
       "      <th>sma</th>\n",
       "      <th>lma</th>\n",
       "    </tr>\n",
       "    <tr>\n",
       "      <th>Date</th>\n",
       "      <th></th>\n",
       "      <th></th>\n",
       "      <th></th>\n",
       "      <th></th>\n",
       "      <th></th>\n",
       "      <th></th>\n",
       "      <th></th>\n",
       "      <th></th>\n",
       "    </tr>\n",
       "  </thead>\n",
       "  <tbody>\n",
       "    <tr>\n",
       "      <th>2010-01-29</th>\n",
       "      <td>16000</td>\n",
       "      <td>16019</td>\n",
       "      <td>15600</td>\n",
       "      <td>15680</td>\n",
       "      <td>457285</td>\n",
       "      <td>-0.029703</td>\n",
       "      <td>16196.0</td>\n",
       "      <td>16402.0</td>\n",
       "    </tr>\n",
       "    <tr>\n",
       "      <th>2010-02-01</th>\n",
       "      <td>15679</td>\n",
       "      <td>15700</td>\n",
       "      <td>15300</td>\n",
       "      <td>15540</td>\n",
       "      <td>501042</td>\n",
       "      <td>-0.008929</td>\n",
       "      <td>15936.0</td>\n",
       "      <td>16370.0</td>\n",
       "    </tr>\n",
       "    <tr>\n",
       "      <th>2010-02-02</th>\n",
       "      <td>15800</td>\n",
       "      <td>15800</td>\n",
       "      <td>15400</td>\n",
       "      <td>15440</td>\n",
       "      <td>393803</td>\n",
       "      <td>-0.006435</td>\n",
       "      <td>15764.0</td>\n",
       "      <td>16320.0</td>\n",
       "    </tr>\n",
       "    <tr>\n",
       "      <th>2010-02-03</th>\n",
       "      <td>15640</td>\n",
       "      <td>15700</td>\n",
       "      <td>15360</td>\n",
       "      <td>15540</td>\n",
       "      <td>330235</td>\n",
       "      <td>0.006477</td>\n",
       "      <td>15672.0</td>\n",
       "      <td>16256.0</td>\n",
       "    </tr>\n",
       "    <tr>\n",
       "      <th>2010-02-04</th>\n",
       "      <td>15500</td>\n",
       "      <td>15660</td>\n",
       "      <td>15440</td>\n",
       "      <td>15520</td>\n",
       "      <td>239799</td>\n",
       "      <td>-0.001287</td>\n",
       "      <td>15544.0</td>\n",
       "      <td>16219.0</td>\n",
       "    </tr>\n",
       "  </tbody>\n",
       "</table>\n",
       "</div>"
      ],
      "text/plain": [
       "             Open   High    Low  Close  Volume    Change      sma      lma\n",
       "Date                                                                      \n",
       "2010-01-29  16000  16019  15600  15680  457285 -0.029703  16196.0  16402.0\n",
       "2010-02-01  15679  15700  15300  15540  501042 -0.008929  15936.0  16370.0\n",
       "2010-02-02  15800  15800  15400  15440  393803 -0.006435  15764.0  16320.0\n",
       "2010-02-03  15640  15700  15360  15540  330235  0.006477  15672.0  16256.0\n",
       "2010-02-04  15500  15660  15440  15520  239799 -0.001287  15544.0  16219.0"
      ]
     },
     "execution_count": 13,
     "metadata": {},
     "output_type": "execute_result"
    }
   ],
   "source": [
    "df.head()"
   ]
  },
  {
   "cell_type": "code",
   "execution_count": 14,
   "id": "0edd180f",
   "metadata": {},
   "outputs": [],
   "source": [
    "df['position'] = np.where(df['sma'] >= df['lma'], 1, 0)"
   ]
  },
  {
   "cell_type": "code",
   "execution_count": 15,
   "id": "4409f31a",
   "metadata": {},
   "outputs": [
    {
     "data": {
      "text/html": [
       "<div>\n",
       "<style scoped>\n",
       "    .dataframe tbody tr th:only-of-type {\n",
       "        vertical-align: middle;\n",
       "    }\n",
       "\n",
       "    .dataframe tbody tr th {\n",
       "        vertical-align: top;\n",
       "    }\n",
       "\n",
       "    .dataframe thead th {\n",
       "        text-align: right;\n",
       "    }\n",
       "</style>\n",
       "<table border=\"1\" class=\"dataframe\">\n",
       "  <thead>\n",
       "    <tr style=\"text-align: right;\">\n",
       "      <th></th>\n",
       "      <th>Open</th>\n",
       "      <th>High</th>\n",
       "      <th>Low</th>\n",
       "      <th>Close</th>\n",
       "      <th>Volume</th>\n",
       "      <th>Change</th>\n",
       "      <th>sma</th>\n",
       "      <th>lma</th>\n",
       "      <th>position</th>\n",
       "    </tr>\n",
       "    <tr>\n",
       "      <th>Date</th>\n",
       "      <th></th>\n",
       "      <th></th>\n",
       "      <th></th>\n",
       "      <th></th>\n",
       "      <th></th>\n",
       "      <th></th>\n",
       "      <th></th>\n",
       "      <th></th>\n",
       "      <th></th>\n",
       "    </tr>\n",
       "  </thead>\n",
       "  <tbody>\n",
       "    <tr>\n",
       "      <th>2010-01-29</th>\n",
       "      <td>16000</td>\n",
       "      <td>16019</td>\n",
       "      <td>15600</td>\n",
       "      <td>15680</td>\n",
       "      <td>457285</td>\n",
       "      <td>-0.029703</td>\n",
       "      <td>16196.0</td>\n",
       "      <td>16402.0</td>\n",
       "      <td>0</td>\n",
       "    </tr>\n",
       "    <tr>\n",
       "      <th>2010-02-01</th>\n",
       "      <td>15679</td>\n",
       "      <td>15700</td>\n",
       "      <td>15300</td>\n",
       "      <td>15540</td>\n",
       "      <td>501042</td>\n",
       "      <td>-0.008929</td>\n",
       "      <td>15936.0</td>\n",
       "      <td>16370.0</td>\n",
       "      <td>0</td>\n",
       "    </tr>\n",
       "    <tr>\n",
       "      <th>2010-02-02</th>\n",
       "      <td>15800</td>\n",
       "      <td>15800</td>\n",
       "      <td>15400</td>\n",
       "      <td>15440</td>\n",
       "      <td>393803</td>\n",
       "      <td>-0.006435</td>\n",
       "      <td>15764.0</td>\n",
       "      <td>16320.0</td>\n",
       "      <td>0</td>\n",
       "    </tr>\n",
       "    <tr>\n",
       "      <th>2010-02-03</th>\n",
       "      <td>15640</td>\n",
       "      <td>15700</td>\n",
       "      <td>15360</td>\n",
       "      <td>15540</td>\n",
       "      <td>330235</td>\n",
       "      <td>0.006477</td>\n",
       "      <td>15672.0</td>\n",
       "      <td>16256.0</td>\n",
       "      <td>0</td>\n",
       "    </tr>\n",
       "    <tr>\n",
       "      <th>2010-02-04</th>\n",
       "      <td>15500</td>\n",
       "      <td>15660</td>\n",
       "      <td>15440</td>\n",
       "      <td>15520</td>\n",
       "      <td>239799</td>\n",
       "      <td>-0.001287</td>\n",
       "      <td>15544.0</td>\n",
       "      <td>16219.0</td>\n",
       "      <td>0</td>\n",
       "    </tr>\n",
       "    <tr>\n",
       "      <th>...</th>\n",
       "      <td>...</td>\n",
       "      <td>...</td>\n",
       "      <td>...</td>\n",
       "      <td>...</td>\n",
       "      <td>...</td>\n",
       "      <td>...</td>\n",
       "      <td>...</td>\n",
       "      <td>...</td>\n",
       "      <td>...</td>\n",
       "    </tr>\n",
       "    <tr>\n",
       "      <th>2020-10-26</th>\n",
       "      <td>60400</td>\n",
       "      <td>61100</td>\n",
       "      <td>60100</td>\n",
       "      <td>60400</td>\n",
       "      <td>13268226</td>\n",
       "      <td>0.003322</td>\n",
       "      <td>60500.0</td>\n",
       "      <td>59610.0</td>\n",
       "      <td>1</td>\n",
       "    </tr>\n",
       "    <tr>\n",
       "      <th>2020-10-27</th>\n",
       "      <td>60300</td>\n",
       "      <td>60300</td>\n",
       "      <td>59500</td>\n",
       "      <td>59800</td>\n",
       "      <td>17260416</td>\n",
       "      <td>-0.009934</td>\n",
       "      <td>60280.0</td>\n",
       "      <td>59670.0</td>\n",
       "      <td>1</td>\n",
       "    </tr>\n",
       "    <tr>\n",
       "      <th>2020-10-28</th>\n",
       "      <td>59400</td>\n",
       "      <td>59400</td>\n",
       "      <td>58800</td>\n",
       "      <td>59000</td>\n",
       "      <td>14428882</td>\n",
       "      <td>-0.013378</td>\n",
       "      <td>59900.0</td>\n",
       "      <td>59730.0</td>\n",
       "      <td>1</td>\n",
       "    </tr>\n",
       "    <tr>\n",
       "      <th>2020-10-29</th>\n",
       "      <td>58200</td>\n",
       "      <td>58500</td>\n",
       "      <td>57500</td>\n",
       "      <td>58100</td>\n",
       "      <td>22636966</td>\n",
       "      <td>-0.015254</td>\n",
       "      <td>59500.0</td>\n",
       "      <td>59740.0</td>\n",
       "      <td>0</td>\n",
       "    </tr>\n",
       "    <tr>\n",
       "      <th>2020-10-30</th>\n",
       "      <td>58000</td>\n",
       "      <td>58000</td>\n",
       "      <td>56600</td>\n",
       "      <td>56600</td>\n",
       "      <td>26907844</td>\n",
       "      <td>-0.025818</td>\n",
       "      <td>58780.0</td>\n",
       "      <td>59660.0</td>\n",
       "      <td>0</td>\n",
       "    </tr>\n",
       "  </tbody>\n",
       "</table>\n",
       "<p>2653 rows × 9 columns</p>\n",
       "</div>"
      ],
      "text/plain": [
       "             Open   High    Low  Close    Volume    Change      sma      lma  \\\n",
       "Date                                                                           \n",
       "2010-01-29  16000  16019  15600  15680    457285 -0.029703  16196.0  16402.0   \n",
       "2010-02-01  15679  15700  15300  15540    501042 -0.008929  15936.0  16370.0   \n",
       "2010-02-02  15800  15800  15400  15440    393803 -0.006435  15764.0  16320.0   \n",
       "2010-02-03  15640  15700  15360  15540    330235  0.006477  15672.0  16256.0   \n",
       "2010-02-04  15500  15660  15440  15520    239799 -0.001287  15544.0  16219.0   \n",
       "...           ...    ...    ...    ...       ...       ...      ...      ...   \n",
       "2020-10-26  60400  61100  60100  60400  13268226  0.003322  60500.0  59610.0   \n",
       "2020-10-27  60300  60300  59500  59800  17260416 -0.009934  60280.0  59670.0   \n",
       "2020-10-28  59400  59400  58800  59000  14428882 -0.013378  59900.0  59730.0   \n",
       "2020-10-29  58200  58500  57500  58100  22636966 -0.015254  59500.0  59740.0   \n",
       "2020-10-30  58000  58000  56600  56600  26907844 -0.025818  58780.0  59660.0   \n",
       "\n",
       "            position  \n",
       "Date                  \n",
       "2010-01-29         0  \n",
       "2010-02-01         0  \n",
       "2010-02-02         0  \n",
       "2010-02-03         0  \n",
       "2010-02-04         0  \n",
       "...              ...  \n",
       "2020-10-26         1  \n",
       "2020-10-27         1  \n",
       "2020-10-28         1  \n",
       "2020-10-29         0  \n",
       "2020-10-30         0  \n",
       "\n",
       "[2653 rows x 9 columns]"
      ]
     },
     "execution_count": 15,
     "metadata": {},
     "output_type": "execute_result"
    }
   ],
   "source": [
    "df"
   ]
  },
  {
   "cell_type": "code",
   "execution_count": 16,
   "id": "ab089d9a",
   "metadata": {},
   "outputs": [
    {
     "data": {
      "text/plain": [
       "<AxesSubplot:xlabel='Date'>"
      ]
     },
     "execution_count": 16,
     "metadata": {},
     "output_type": "execute_result"
    },
    {
     "data": {
      "image/png": "[encoded data removed]",
      "text/plain": [
       "<Figure size 1080x144 with 1 Axes>"
      ]
     },
     "metadata": {
      "needs_background": "light"
     },
     "output_type": "display_data"
    }
   ],
   "source": [
    "df['position'][-300:].plot(marker='.', linestyle='none', figsize=(15,2), ylim=[-1.01, 1.7])"
   ]
  },
  {
   "cell_type": "code",
   "execution_count": 17,
   "id": "9ca508b5",
   "metadata": {},
   "outputs": [],
   "source": [
    "long_index = df[(df['position'] - df['position'].shift(1)) == 1].index\n",
    "exit_index = df[(df['position'] - df['position'].shift(1)) == -1].index"
   ]
  },
  {
   "cell_type": "code",
   "execution_count": 18,
   "id": "48823ecd",
   "metadata": {},
   "outputs": [
    {
     "data": {
      "text/plain": [
       "<AxesSubplot:xlabel='Date'>"
      ]
     },
     "execution_count": 18,
     "metadata": {},
     "output_type": "execute_result"
    },
    {
     "data": {
      "image/png": "[encoded data removed]",
      "text/plain": [
       "<Figure size 1080x360 with 1 Axes>"
      ]
     },
     "metadata": {
      "needs_background": "light"
     },
     "output_type": "display_data"
    }
   ],
   "source": [
    "# df[['Close']].loc['2020-01-01':].plot(figsize=(15,5), color='black')\n",
    "df[['sma','lma']].loc['2018-01-01':].plot(figsize=(15,5))\n",
    "df.loc[long_index, 'sma'].loc['2018-01-01':].plot(marker='o', color='red', linestyle='none', markersize=5)\n",
    "df.loc[exit_index, 'sma'].loc['2018-01-01':].plot(marker='o', color='blue', linestyle='none', markersize=5)"
   ]
  },
  {
   "cell_type": "code",
   "execution_count": 19,
   "id": "fe6e92af",
   "metadata": {},
   "outputs": [
    {
     "data": {
      "text/html": [
       "<div>\n",
       "<style scoped>\n",
       "    .dataframe tbody tr th:only-of-type {\n",
       "        vertical-align: middle;\n",
       "    }\n",
       "\n",
       "    .dataframe tbody tr th {\n",
       "        vertical-align: top;\n",
       "    }\n",
       "\n",
       "    .dataframe thead th {\n",
       "        text-align: right;\n",
       "    }\n",
       "</style>\n",
       "<table border=\"1\" class=\"dataframe\">\n",
       "  <thead>\n",
       "    <tr style=\"text-align: right;\">\n",
       "      <th></th>\n",
       "      <th>Open</th>\n",
       "      <th>High</th>\n",
       "      <th>Low</th>\n",
       "      <th>Close</th>\n",
       "      <th>Volume</th>\n",
       "      <th>Change</th>\n",
       "      <th>sma</th>\n",
       "      <th>lma</th>\n",
       "      <th>position</th>\n",
       "      <th>rtn</th>\n",
       "    </tr>\n",
       "    <tr>\n",
       "      <th>Date</th>\n",
       "      <th></th>\n",
       "      <th></th>\n",
       "      <th></th>\n",
       "      <th></th>\n",
       "      <th></th>\n",
       "      <th></th>\n",
       "      <th></th>\n",
       "      <th></th>\n",
       "      <th></th>\n",
       "      <th></th>\n",
       "    </tr>\n",
       "  </thead>\n",
       "  <tbody>\n",
       "    <tr>\n",
       "      <th>2010-01-29</th>\n",
       "      <td>16000</td>\n",
       "      <td>16019</td>\n",
       "      <td>15600</td>\n",
       "      <td>15680</td>\n",
       "      <td>457285</td>\n",
       "      <td>-0.029703</td>\n",
       "      <td>16196.0</td>\n",
       "      <td>16402.0</td>\n",
       "      <td>0</td>\n",
       "      <td>0.000000</td>\n",
       "    </tr>\n",
       "    <tr>\n",
       "      <th>2010-02-01</th>\n",
       "      <td>15679</td>\n",
       "      <td>15700</td>\n",
       "      <td>15300</td>\n",
       "      <td>15540</td>\n",
       "      <td>501042</td>\n",
       "      <td>-0.008929</td>\n",
       "      <td>15936.0</td>\n",
       "      <td>16370.0</td>\n",
       "      <td>0</td>\n",
       "      <td>-0.008969</td>\n",
       "    </tr>\n",
       "    <tr>\n",
       "      <th>2010-02-02</th>\n",
       "      <td>15800</td>\n",
       "      <td>15800</td>\n",
       "      <td>15400</td>\n",
       "      <td>15440</td>\n",
       "      <td>393803</td>\n",
       "      <td>-0.006435</td>\n",
       "      <td>15764.0</td>\n",
       "      <td>16320.0</td>\n",
       "      <td>0</td>\n",
       "      <td>-0.006456</td>\n",
       "    </tr>\n",
       "    <tr>\n",
       "      <th>2010-02-03</th>\n",
       "      <td>15640</td>\n",
       "      <td>15700</td>\n",
       "      <td>15360</td>\n",
       "      <td>15540</td>\n",
       "      <td>330235</td>\n",
       "      <td>0.006477</td>\n",
       "      <td>15672.0</td>\n",
       "      <td>16256.0</td>\n",
       "      <td>0</td>\n",
       "      <td>0.006456</td>\n",
       "    </tr>\n",
       "    <tr>\n",
       "      <th>2010-02-04</th>\n",
       "      <td>15500</td>\n",
       "      <td>15660</td>\n",
       "      <td>15440</td>\n",
       "      <td>15520</td>\n",
       "      <td>239799</td>\n",
       "      <td>-0.001287</td>\n",
       "      <td>15544.0</td>\n",
       "      <td>16219.0</td>\n",
       "      <td>0</td>\n",
       "      <td>-0.001288</td>\n",
       "    </tr>\n",
       "    <tr>\n",
       "      <th>...</th>\n",
       "      <td>...</td>\n",
       "      <td>...</td>\n",
       "      <td>...</td>\n",
       "      <td>...</td>\n",
       "      <td>...</td>\n",
       "      <td>...</td>\n",
       "      <td>...</td>\n",
       "      <td>...</td>\n",
       "      <td>...</td>\n",
       "      <td>...</td>\n",
       "    </tr>\n",
       "    <tr>\n",
       "      <th>2020-10-26</th>\n",
       "      <td>60400</td>\n",
       "      <td>61100</td>\n",
       "      <td>60100</td>\n",
       "      <td>60400</td>\n",
       "      <td>13268226</td>\n",
       "      <td>0.003322</td>\n",
       "      <td>60500.0</td>\n",
       "      <td>59610.0</td>\n",
       "      <td>1</td>\n",
       "      <td>0.003317</td>\n",
       "    </tr>\n",
       "    <tr>\n",
       "      <th>2020-10-27</th>\n",
       "      <td>60300</td>\n",
       "      <td>60300</td>\n",
       "      <td>59500</td>\n",
       "      <td>59800</td>\n",
       "      <td>17260416</td>\n",
       "      <td>-0.009934</td>\n",
       "      <td>60280.0</td>\n",
       "      <td>59670.0</td>\n",
       "      <td>1</td>\n",
       "      <td>-0.009983</td>\n",
       "    </tr>\n",
       "    <tr>\n",
       "      <th>2020-10-28</th>\n",
       "      <td>59400</td>\n",
       "      <td>59400</td>\n",
       "      <td>58800</td>\n",
       "      <td>59000</td>\n",
       "      <td>14428882</td>\n",
       "      <td>-0.013378</td>\n",
       "      <td>59900.0</td>\n",
       "      <td>59730.0</td>\n",
       "      <td>1</td>\n",
       "      <td>-0.013468</td>\n",
       "    </tr>\n",
       "    <tr>\n",
       "      <th>2020-10-29</th>\n",
       "      <td>58200</td>\n",
       "      <td>58500</td>\n",
       "      <td>57500</td>\n",
       "      <td>58100</td>\n",
       "      <td>22636966</td>\n",
       "      <td>-0.015254</td>\n",
       "      <td>59500.0</td>\n",
       "      <td>59740.0</td>\n",
       "      <td>0</td>\n",
       "      <td>-0.015372</td>\n",
       "    </tr>\n",
       "    <tr>\n",
       "      <th>2020-10-30</th>\n",
       "      <td>58000</td>\n",
       "      <td>58000</td>\n",
       "      <td>56600</td>\n",
       "      <td>56600</td>\n",
       "      <td>26907844</td>\n",
       "      <td>-0.025818</td>\n",
       "      <td>58780.0</td>\n",
       "      <td>59660.0</td>\n",
       "      <td>0</td>\n",
       "      <td>-0.026157</td>\n",
       "    </tr>\n",
       "  </tbody>\n",
       "</table>\n",
       "<p>2653 rows × 10 columns</p>\n",
       "</div>"
      ],
      "text/plain": [
       "             Open   High    Low  Close    Volume    Change      sma      lma  \\\n",
       "Date                                                                           \n",
       "2010-01-29  16000  16019  15600  15680    457285 -0.029703  16196.0  16402.0   \n",
       "2010-02-01  15679  15700  15300  15540    501042 -0.008929  15936.0  16370.0   \n",
       "2010-02-02  15800  15800  15400  15440    393803 -0.006435  15764.0  16320.0   \n",
       "2010-02-03  15640  15700  15360  15540    330235  0.006477  15672.0  16256.0   \n",
       "2010-02-04  15500  15660  15440  15520    239799 -0.001287  15544.0  16219.0   \n",
       "...           ...    ...    ...    ...       ...       ...      ...      ...   \n",
       "2020-10-26  60400  61100  60100  60400  13268226  0.003322  60500.0  59610.0   \n",
       "2020-10-27  60300  60300  59500  59800  17260416 -0.009934  60280.0  59670.0   \n",
       "2020-10-28  59400  59400  58800  59000  14428882 -0.013378  59900.0  59730.0   \n",
       "2020-10-29  58200  58500  57500  58100  22636966 -0.015254  59500.0  59740.0   \n",
       "2020-10-30  58000  58000  56600  56600  26907844 -0.025818  58780.0  59660.0   \n",
       "\n",
       "            position       rtn  \n",
       "Date                            \n",
       "2010-01-29         0  0.000000  \n",
       "2010-02-01         0 -0.008969  \n",
       "2010-02-02         0 -0.006456  \n",
       "2010-02-03         0  0.006456  \n",
       "2010-02-04         0 -0.001288  \n",
       "...              ...       ...  \n",
       "2020-10-26         1  0.003317  \n",
       "2020-10-27         1 -0.009983  \n",
       "2020-10-28         1 -0.013468  \n",
       "2020-10-29         0 -0.015372  \n",
       "2020-10-30         0 -0.026157  \n",
       "\n",
       "[2653 rows x 10 columns]"
      ]
     },
     "execution_count": 19,
     "metadata": {},
     "output_type": "execute_result"
    }
   ],
   "source": [
    "df.loc[:, 'rtn'] = get_returns_df(df['Close'], N=1, log=True)\n",
    "df"
   ]
  },
  {
   "cell_type": "code",
   "execution_count": 20,
   "id": "9e2d6412",
   "metadata": {},
   "outputs": [],
   "source": [
    "df.loc[:, 'str_rtn'] = (df['position'].shift(1) * df['rtn']).fillna(0)"
   ]
  },
  {
   "cell_type": "code",
   "execution_count": 21,
   "id": "b53fa552",
   "metadata": {},
   "outputs": [
    {
     "data": {
      "text/html": [
       "<div>\n",
       "<style scoped>\n",
       "    .dataframe tbody tr th:only-of-type {\n",
       "        vertical-align: middle;\n",
       "    }\n",
       "\n",
       "    .dataframe tbody tr th {\n",
       "        vertical-align: top;\n",
       "    }\n",
       "\n",
       "    .dataframe thead th {\n",
       "        text-align: right;\n",
       "    }\n",
       "</style>\n",
       "<table border=\"1\" class=\"dataframe\">\n",
       "  <thead>\n",
       "    <tr style=\"text-align: right;\">\n",
       "      <th></th>\n",
       "      <th>Open</th>\n",
       "      <th>High</th>\n",
       "      <th>Low</th>\n",
       "      <th>Close</th>\n",
       "      <th>Volume</th>\n",
       "      <th>Change</th>\n",
       "      <th>sma</th>\n",
       "      <th>lma</th>\n",
       "      <th>position</th>\n",
       "      <th>rtn</th>\n",
       "      <th>str_rtn</th>\n",
       "      <th>cum_str_rtn</th>\n",
       "    </tr>\n",
       "    <tr>\n",
       "      <th>Date</th>\n",
       "      <th></th>\n",
       "      <th></th>\n",
       "      <th></th>\n",
       "      <th></th>\n",
       "      <th></th>\n",
       "      <th></th>\n",
       "      <th></th>\n",
       "      <th></th>\n",
       "      <th></th>\n",
       "      <th></th>\n",
       "      <th></th>\n",
       "      <th></th>\n",
       "    </tr>\n",
       "  </thead>\n",
       "  <tbody>\n",
       "    <tr>\n",
       "      <th>2010-01-29</th>\n",
       "      <td>16000</td>\n",
       "      <td>16019</td>\n",
       "      <td>15600</td>\n",
       "      <td>15680</td>\n",
       "      <td>457285</td>\n",
       "      <td>-0.029703</td>\n",
       "      <td>16196.0</td>\n",
       "      <td>16402.0</td>\n",
       "      <td>0</td>\n",
       "      <td>0.000000</td>\n",
       "      <td>0.000000</td>\n",
       "      <td>1.000000</td>\n",
       "    </tr>\n",
       "    <tr>\n",
       "      <th>2010-02-01</th>\n",
       "      <td>15679</td>\n",
       "      <td>15700</td>\n",
       "      <td>15300</td>\n",
       "      <td>15540</td>\n",
       "      <td>501042</td>\n",
       "      <td>-0.008929</td>\n",
       "      <td>15936.0</td>\n",
       "      <td>16370.0</td>\n",
       "      <td>0</td>\n",
       "      <td>-0.008969</td>\n",
       "      <td>-0.000000</td>\n",
       "      <td>1.000000</td>\n",
       "    </tr>\n",
       "    <tr>\n",
       "      <th>2010-02-02</th>\n",
       "      <td>15800</td>\n",
       "      <td>15800</td>\n",
       "      <td>15400</td>\n",
       "      <td>15440</td>\n",
       "      <td>393803</td>\n",
       "      <td>-0.006435</td>\n",
       "      <td>15764.0</td>\n",
       "      <td>16320.0</td>\n",
       "      <td>0</td>\n",
       "      <td>-0.006456</td>\n",
       "      <td>-0.000000</td>\n",
       "      <td>1.000000</td>\n",
       "    </tr>\n",
       "    <tr>\n",
       "      <th>2010-02-03</th>\n",
       "      <td>15640</td>\n",
       "      <td>15700</td>\n",
       "      <td>15360</td>\n",
       "      <td>15540</td>\n",
       "      <td>330235</td>\n",
       "      <td>0.006477</td>\n",
       "      <td>15672.0</td>\n",
       "      <td>16256.0</td>\n",
       "      <td>0</td>\n",
       "      <td>0.006456</td>\n",
       "      <td>0.000000</td>\n",
       "      <td>1.000000</td>\n",
       "    </tr>\n",
       "    <tr>\n",
       "      <th>2010-02-04</th>\n",
       "      <td>15500</td>\n",
       "      <td>15660</td>\n",
       "      <td>15440</td>\n",
       "      <td>15520</td>\n",
       "      <td>239799</td>\n",
       "      <td>-0.001287</td>\n",
       "      <td>15544.0</td>\n",
       "      <td>16219.0</td>\n",
       "      <td>0</td>\n",
       "      <td>-0.001288</td>\n",
       "      <td>-0.000000</td>\n",
       "      <td>1.000000</td>\n",
       "    </tr>\n",
       "    <tr>\n",
       "      <th>...</th>\n",
       "      <td>...</td>\n",
       "      <td>...</td>\n",
       "      <td>...</td>\n",
       "      <td>...</td>\n",
       "      <td>...</td>\n",
       "      <td>...</td>\n",
       "      <td>...</td>\n",
       "      <td>...</td>\n",
       "      <td>...</td>\n",
       "      <td>...</td>\n",
       "      <td>...</td>\n",
       "      <td>...</td>\n",
       "    </tr>\n",
       "    <tr>\n",
       "      <th>2020-10-26</th>\n",
       "      <td>60400</td>\n",
       "      <td>61100</td>\n",
       "      <td>60100</td>\n",
       "      <td>60400</td>\n",
       "      <td>13268226</td>\n",
       "      <td>0.003322</td>\n",
       "      <td>60500.0</td>\n",
       "      <td>59610.0</td>\n",
       "      <td>1</td>\n",
       "      <td>0.003317</td>\n",
       "      <td>0.003317</td>\n",
       "      <td>1.352149</td>\n",
       "    </tr>\n",
       "    <tr>\n",
       "      <th>2020-10-27</th>\n",
       "      <td>60300</td>\n",
       "      <td>60300</td>\n",
       "      <td>59500</td>\n",
       "      <td>59800</td>\n",
       "      <td>17260416</td>\n",
       "      <td>-0.009934</td>\n",
       "      <td>60280.0</td>\n",
       "      <td>59670.0</td>\n",
       "      <td>1</td>\n",
       "      <td>-0.009983</td>\n",
       "      <td>-0.009983</td>\n",
       "      <td>1.338717</td>\n",
       "    </tr>\n",
       "    <tr>\n",
       "      <th>2020-10-28</th>\n",
       "      <td>59400</td>\n",
       "      <td>59400</td>\n",
       "      <td>58800</td>\n",
       "      <td>59000</td>\n",
       "      <td>14428882</td>\n",
       "      <td>-0.013378</td>\n",
       "      <td>59900.0</td>\n",
       "      <td>59730.0</td>\n",
       "      <td>1</td>\n",
       "      <td>-0.013468</td>\n",
       "      <td>-0.013468</td>\n",
       "      <td>1.320808</td>\n",
       "    </tr>\n",
       "    <tr>\n",
       "      <th>2020-10-29</th>\n",
       "      <td>58200</td>\n",
       "      <td>58500</td>\n",
       "      <td>57500</td>\n",
       "      <td>58100</td>\n",
       "      <td>22636966</td>\n",
       "      <td>-0.015254</td>\n",
       "      <td>59500.0</td>\n",
       "      <td>59740.0</td>\n",
       "      <td>0</td>\n",
       "      <td>-0.015372</td>\n",
       "      <td>-0.015372</td>\n",
       "      <td>1.300660</td>\n",
       "    </tr>\n",
       "    <tr>\n",
       "      <th>2020-10-30</th>\n",
       "      <td>58000</td>\n",
       "      <td>58000</td>\n",
       "      <td>56600</td>\n",
       "      <td>56600</td>\n",
       "      <td>26907844</td>\n",
       "      <td>-0.025818</td>\n",
       "      <td>58780.0</td>\n",
       "      <td>59660.0</td>\n",
       "      <td>0</td>\n",
       "      <td>-0.026157</td>\n",
       "      <td>-0.000000</td>\n",
       "      <td>1.300660</td>\n",
       "    </tr>\n",
       "  </tbody>\n",
       "</table>\n",
       "<p>2653 rows × 12 columns</p>\n",
       "</div>"
      ],
      "text/plain": [
       "             Open   High    Low  Close    Volume    Change      sma      lma  \\\n",
       "Date                                                                           \n",
       "2010-01-29  16000  16019  15600  15680    457285 -0.029703  16196.0  16402.0   \n",
       "2010-02-01  15679  15700  15300  15540    501042 -0.008929  15936.0  16370.0   \n",
       "2010-02-02  15800  15800  15400  15440    393803 -0.006435  15764.0  16320.0   \n",
       "2010-02-03  15640  15700  15360  15540    330235  0.006477  15672.0  16256.0   \n",
       "2010-02-04  15500  15660  15440  15520    239799 -0.001287  15544.0  16219.0   \n",
       "...           ...    ...    ...    ...       ...       ...      ...      ...   \n",
       "2020-10-26  60400  61100  60100  60400  13268226  0.003322  60500.0  59610.0   \n",
       "2020-10-27  60300  60300  59500  59800  17260416 -0.009934  60280.0  59670.0   \n",
       "2020-10-28  59400  59400  58800  59000  14428882 -0.013378  59900.0  59730.0   \n",
       "2020-10-29  58200  58500  57500  58100  22636966 -0.015254  59500.0  59740.0   \n",
       "2020-10-30  58000  58000  56600  56600  26907844 -0.025818  58780.0  59660.0   \n",
       "\n",
       "            position       rtn   str_rtn  cum_str_rtn  \n",
       "Date                                                   \n",
       "2010-01-29         0  0.000000  0.000000     1.000000  \n",
       "2010-02-01         0 -0.008969 -0.000000     1.000000  \n",
       "2010-02-02         0 -0.006456 -0.000000     1.000000  \n",
       "2010-02-03         0  0.006456  0.000000     1.000000  \n",
       "2010-02-04         0 -0.001288 -0.000000     1.000000  \n",
       "...              ...       ...       ...          ...  \n",
       "2020-10-26         1  0.003317  0.003317     1.352149  \n",
       "2020-10-27         1 -0.009983 -0.009983     1.338717  \n",
       "2020-10-28         1 -0.013468 -0.013468     1.320808  \n",
       "2020-10-29         0 -0.015372 -0.015372     1.300660  \n",
       "2020-10-30         0 -0.026157 -0.000000     1.300660  \n",
       "\n",
       "[2653 rows x 12 columns]"
      ]
     },
     "execution_count": 21,
     "metadata": {},
     "output_type": "execute_result"
    }
   ],
   "source": [
    "df.loc[:, 'cum_str_rtn'] = get_cum_returns_df(df['str_rtn'], log=True)\n",
    "df"
   ]
  },
  {
   "cell_type": "code",
   "execution_count": 24,
   "id": "d1e25559",
   "metadata": {},
   "outputs": [],
   "source": [
    "cagr = get_cagr_series(df['cum_str_rtn'], num_day_in_year = 250)\n",
    "sharp_ratio = get_sharpe_ratio(df['str_rtn'], yearly_rfr = 0.025)\n",
    "mdd, ldd_period, ldd_st, ldd_ed = get_drawdown_infos(df['cum_str_rtn'])"
   ]
  },
  {
   "cell_type": "code",
   "execution_count": 25,
   "id": "7c08ee07",
   "metadata": {},
   "outputs": [
    {
     "name": "stdout",
     "output_type": "stream",
     "text": [
      "cagr : 0.02508052009815409\n",
      "sharp_ratio : -0.00016068342693508565\n",
      "Max_drawdown : -0.36030614769557534\n",
      "Longest_dd_period : -1764\n",
      "Longest_dd_st_date : 2013-01-02 00:00:00\n",
      "Longest_dd_ed_date : 2017-11-01 00:00:00\n"
     ]
    }
   ],
   "source": [
    "print('cagr :', cagr)\n",
    "print('sharp_ratio :', sharp_ratio)\n",
    "print('Max_drawdown :', mdd)\n",
    "print('Longest_dd_period :', ldd_period)\n",
    "print('Longest_dd_st_date :', ldd_st)\n",
    "print('Longest_dd_ed_date :', ldd_ed)"
   ]
  },
  {
   "cell_type": "code",
   "execution_count": 26,
   "id": "5720d393",
   "metadata": {},
   "outputs": [
    {
     "data": {
      "text/plain": [
       "<AxesSubplot:xlabel='Date'>"
      ]
     },
     "execution_count": 26,
     "metadata": {},
     "output_type": "execute_result"
    },
    {
     "data": {
      "image/png": "[encoded data removed]",
      "text/plain": [
       "<Figure size 432x288 with 1 Axes>"
      ]
     },
     "metadata": {
      "needs_background": "light"
     },
     "output_type": "display_data"
    }
   ],
   "source": [
    "df.loc[:, 'cum_str_rtn'].plot()"
   ]
  },
  {
   "cell_type": "code",
   "execution_count": null,
   "id": "a4b90e4a",
   "metadata": {},
   "outputs": [],
   "source": []
  },
  {
   "cell_type": "code",
   "execution_count": null,
   "id": "266e1609",
   "metadata": {},
   "outputs": [],
   "source": []
  },
  {
   "cell_type": "markdown",
   "id": "f4253ab0",
   "metadata": {},
   "source": [
    "### Momentum"
   ]
  },
  {
   "cell_type": "code",
   "execution_count": 27,
   "id": "84186f3b",
   "metadata": {},
   "outputs": [],
   "source": [
    "df = fdr.DataReader('005930','2018-01-02','2022-04-29')"
   ]
  },
  {
   "cell_type": "code",
   "execution_count": 28,
   "id": "06648eb2",
   "metadata": {},
   "outputs": [],
   "source": [
    "momentum_window=20*3"
   ]
  },
  {
   "cell_type": "code",
   "execution_count": null,
   "id": "f8adcab2",
   "metadata": {},
   "outputs": [],
   "source": []
  },
  {
   "cell_type": "code",
   "execution_count": 29,
   "id": "625b04d3",
   "metadata": {},
   "outputs": [
    {
     "data": {
      "text/plain": [
       "Date\n",
       "2018-03-29    0.000000\n",
       "2018-03-30   -0.035280\n",
       "2018-04-02   -0.059667\n",
       "2018-04-03   -0.057948\n",
       "2018-04-04   -0.099770\n",
       "                ...   \n",
       "2022-04-25   -0.117177\n",
       "2022-04-26   -0.106757\n",
       "2022-04-27   -0.113233\n",
       "2022-04-28   -0.091164\n",
       "2022-04-29   -0.087312\n",
       "Name: Close, Length: 1007, dtype: float64"
      ]
     },
     "execution_count": 29,
     "metadata": {},
     "output_type": "execute_result"
    }
   ],
   "source": [
    "get_returns_df(df['Close'], N=momentum_window)"
   ]
  },
  {
   "cell_type": "code",
   "execution_count": 30,
   "id": "d1757e98",
   "metadata": {},
   "outputs": [
    {
     "data": {
      "text/plain": [
       "Date\n",
       "2018-03-29    0.0\n",
       "2018-03-30   -1.0\n",
       "2018-04-02   -1.0\n",
       "2018-04-03   -1.0\n",
       "2018-04-04   -1.0\n",
       "Name: Close, dtype: float64"
      ]
     },
     "execution_count": 30,
     "metadata": {},
     "output_type": "execute_result"
    }
   ],
   "source": [
    "position = np.sign(get_returns_df(df['Close'], N=momentum_window))\n",
    "position.head()"
   ]
  },
  {
   "cell_type": "code",
   "execution_count": 31,
   "id": "a1d80255",
   "metadata": {},
   "outputs": [
    {
     "data": {
      "text/plain": [
       " 1.0    537\n",
       "-1.0    465\n",
       " 0.0      5\n",
       "Name: Close, dtype: int64"
      ]
     },
     "execution_count": 31,
     "metadata": {},
     "output_type": "execute_result"
    }
   ],
   "source": [
    "position.value_counts()"
   ]
  },
  {
   "cell_type": "code",
   "execution_count": 32,
   "id": "9be2d226",
   "metadata": {},
   "outputs": [],
   "source": [
    "position[position == -1] = 0"
   ]
  },
  {
   "cell_type": "code",
   "execution_count": 33,
   "id": "df329762",
   "metadata": {},
   "outputs": [
    {
     "data": {
      "text/plain": [
       "1.0    537\n",
       "0.0    470\n",
       "Name: Close, dtype: int64"
      ]
     },
     "execution_count": 33,
     "metadata": {},
     "output_type": "execute_result"
    }
   ],
   "source": [
    "position.value_counts()"
   ]
  },
  {
   "cell_type": "code",
   "execution_count": 34,
   "id": "50f3f4ec",
   "metadata": {},
   "outputs": [
    {
     "data": {
      "text/plain": [
       "<AxesSubplot:xlabel='Date'>"
      ]
     },
     "execution_count": 34,
     "metadata": {},
     "output_type": "execute_result"
    },
    {
     "data": {
      "image/png": "[encoded data removed]",
      "text/plain": [
       "<Figure size 1080x144 with 1 Axes>"
      ]
     },
     "metadata": {
      "needs_background": "light"
     },
     "output_type": "display_data"
    }
   ],
   "source": [
    "position.plot(marker='.', linestyle='none', figsize=(15,2), ylim=[-1.01, 1.7])"
   ]
  },
  {
   "cell_type": "code",
   "execution_count": 35,
   "id": "ca91dc7e",
   "metadata": {},
   "outputs": [],
   "source": [
    "df.loc[:, 'position'] = position"
   ]
  },
  {
   "cell_type": "code",
   "execution_count": 36,
   "id": "e474c224",
   "metadata": {},
   "outputs": [],
   "source": [
    "df.dropna(inplace=True)"
   ]
  },
  {
   "cell_type": "code",
   "execution_count": 37,
   "id": "0af6cf39",
   "metadata": {},
   "outputs": [],
   "source": [
    "long_index = df[(df['position'] - df['position'].shift(1)) == 1].index\n",
    "exit_index = df[(df['position'] - df['position'].shift(1)) == -1].index"
   ]
  },
  {
   "cell_type": "code",
   "execution_count": 38,
   "id": "5b4f14dd",
   "metadata": {},
   "outputs": [
    {
     "data": {
      "text/plain": [
       "<AxesSubplot:xlabel='Date'>"
      ]
     },
     "execution_count": 38,
     "metadata": {},
     "output_type": "execute_result"
    },
    {
     "data": {
      "image/png": "[encoded data removed]",
      "text/plain": [
       "<Figure size 1080x360 with 1 Axes>"
      ]
     },
     "metadata": {
      "needs_background": "light"
     },
     "output_type": "display_data"
    }
   ],
   "source": [
    "ax = df.loc[:, 'Close'].loc['2018-01-01':].plot(figsize=(15,5))\n",
    "\n",
    "df.loc[long_index, 'Close'].loc['2018-01-01':].plot(ax=ax, marker='o', color='red', linestyle='none', markersize=5)\n",
    "df.loc[exit_index, 'Close'].loc['2018-01-01':].plot(ax=ax, marker='o', color='blue', linestyle='none', markersize=5)"
   ]
  },
  {
   "cell_type": "code",
   "execution_count": null,
   "id": "2869bb64",
   "metadata": {},
   "outputs": [],
   "source": []
  },
  {
   "cell_type": "code",
   "execution_count": 39,
   "id": "92666d63",
   "metadata": {},
   "outputs": [],
   "source": [
    "df.loc[:, 'rtn'] = get_returns_df(df['Close'], N=1, log=True)\n",
    "df.loc[:, 'str_rtn'] = (df['position'].shift(1) * df['rtn']).fillna(0)\n",
    "\n",
    "df.loc[:, 'cum_str_rtn'] = get_cum_returns_df(df['str_rtn'], log=True)"
   ]
  },
  {
   "cell_type": "code",
   "execution_count": 40,
   "id": "4fb14511",
   "metadata": {},
   "outputs": [
    {
     "data": {
      "text/html": [
       "<div>\n",
       "<style scoped>\n",
       "    .dataframe tbody tr th:only-of-type {\n",
       "        vertical-align: middle;\n",
       "    }\n",
       "\n",
       "    .dataframe tbody tr th {\n",
       "        vertical-align: top;\n",
       "    }\n",
       "\n",
       "    .dataframe thead th {\n",
       "        text-align: right;\n",
       "    }\n",
       "</style>\n",
       "<table border=\"1\" class=\"dataframe\">\n",
       "  <thead>\n",
       "    <tr style=\"text-align: right;\">\n",
       "      <th></th>\n",
       "      <th>Open</th>\n",
       "      <th>High</th>\n",
       "      <th>Low</th>\n",
       "      <th>Close</th>\n",
       "      <th>Volume</th>\n",
       "      <th>Change</th>\n",
       "      <th>position</th>\n",
       "      <th>rtn</th>\n",
       "      <th>str_rtn</th>\n",
       "      <th>cum_str_rtn</th>\n",
       "    </tr>\n",
       "    <tr>\n",
       "      <th>Date</th>\n",
       "      <th></th>\n",
       "      <th></th>\n",
       "      <th></th>\n",
       "      <th></th>\n",
       "      <th></th>\n",
       "      <th></th>\n",
       "      <th></th>\n",
       "      <th></th>\n",
       "      <th></th>\n",
       "      <th></th>\n",
       "    </tr>\n",
       "  </thead>\n",
       "  <tbody>\n",
       "    <tr>\n",
       "      <th>2018-03-29</th>\n",
       "      <td>48700</td>\n",
       "      <td>49560</td>\n",
       "      <td>48320</td>\n",
       "      <td>49040</td>\n",
       "      <td>201340</td>\n",
       "      <td>0.006982</td>\n",
       "      <td>0.0</td>\n",
       "      <td>0.000000</td>\n",
       "      <td>0.0</td>\n",
       "      <td>1.00000</td>\n",
       "    </tr>\n",
       "    <tr>\n",
       "      <th>2018-03-30</th>\n",
       "      <td>49080</td>\n",
       "      <td>49900</td>\n",
       "      <td>49080</td>\n",
       "      <td>49220</td>\n",
       "      <td>155542</td>\n",
       "      <td>0.003670</td>\n",
       "      <td>0.0</td>\n",
       "      <td>0.003664</td>\n",
       "      <td>0.0</td>\n",
       "      <td>1.00000</td>\n",
       "    </tr>\n",
       "    <tr>\n",
       "      <th>2018-04-02</th>\n",
       "      <td>49000</td>\n",
       "      <td>49220</td>\n",
       "      <td>48500</td>\n",
       "      <td>48540</td>\n",
       "      <td>142313</td>\n",
       "      <td>-0.013816</td>\n",
       "      <td>0.0</td>\n",
       "      <td>-0.013912</td>\n",
       "      <td>-0.0</td>\n",
       "      <td>1.00000</td>\n",
       "    </tr>\n",
       "    <tr>\n",
       "      <th>2018-04-03</th>\n",
       "      <td>47880</td>\n",
       "      <td>48140</td>\n",
       "      <td>47280</td>\n",
       "      <td>48120</td>\n",
       "      <td>255365</td>\n",
       "      <td>-0.008653</td>\n",
       "      <td>0.0</td>\n",
       "      <td>-0.008690</td>\n",
       "      <td>-0.0</td>\n",
       "      <td>1.00000</td>\n",
       "    </tr>\n",
       "    <tr>\n",
       "      <th>2018-04-04</th>\n",
       "      <td>48160</td>\n",
       "      <td>48260</td>\n",
       "      <td>46920</td>\n",
       "      <td>46920</td>\n",
       "      <td>247684</td>\n",
       "      <td>-0.024938</td>\n",
       "      <td>0.0</td>\n",
       "      <td>-0.025254</td>\n",
       "      <td>-0.0</td>\n",
       "      <td>1.00000</td>\n",
       "    </tr>\n",
       "    <tr>\n",
       "      <th>...</th>\n",
       "      <td>...</td>\n",
       "      <td>...</td>\n",
       "      <td>...</td>\n",
       "      <td>...</td>\n",
       "      <td>...</td>\n",
       "      <td>...</td>\n",
       "      <td>...</td>\n",
       "      <td>...</td>\n",
       "      <td>...</td>\n",
       "      <td>...</td>\n",
       "    </tr>\n",
       "    <tr>\n",
       "      <th>2022-04-25</th>\n",
       "      <td>66500</td>\n",
       "      <td>66700</td>\n",
       "      <td>66300</td>\n",
       "      <td>66300</td>\n",
       "      <td>11016474</td>\n",
       "      <td>-0.010448</td>\n",
       "      <td>0.0</td>\n",
       "      <td>-0.010503</td>\n",
       "      <td>-0.0</td>\n",
       "      <td>1.24892</td>\n",
       "    </tr>\n",
       "    <tr>\n",
       "      <th>2022-04-26</th>\n",
       "      <td>66400</td>\n",
       "      <td>66700</td>\n",
       "      <td>66100</td>\n",
       "      <td>66100</td>\n",
       "      <td>12946923</td>\n",
       "      <td>-0.003017</td>\n",
       "      <td>0.0</td>\n",
       "      <td>-0.003021</td>\n",
       "      <td>-0.0</td>\n",
       "      <td>1.24892</td>\n",
       "    </tr>\n",
       "    <tr>\n",
       "      <th>2022-04-27</th>\n",
       "      <td>65400</td>\n",
       "      <td>65500</td>\n",
       "      <td>64900</td>\n",
       "      <td>65000</td>\n",
       "      <td>18122084</td>\n",
       "      <td>-0.016641</td>\n",
       "      <td>0.0</td>\n",
       "      <td>-0.016781</td>\n",
       "      <td>-0.0</td>\n",
       "      <td>1.24892</td>\n",
       "    </tr>\n",
       "    <tr>\n",
       "      <th>2022-04-28</th>\n",
       "      <td>65400</td>\n",
       "      <td>65500</td>\n",
       "      <td>64500</td>\n",
       "      <td>64800</td>\n",
       "      <td>16895527</td>\n",
       "      <td>-0.003077</td>\n",
       "      <td>0.0</td>\n",
       "      <td>-0.003082</td>\n",
       "      <td>-0.0</td>\n",
       "      <td>1.24892</td>\n",
       "    </tr>\n",
       "    <tr>\n",
       "      <th>2022-04-29</th>\n",
       "      <td>65100</td>\n",
       "      <td>67000</td>\n",
       "      <td>65000</td>\n",
       "      <td>66900</td>\n",
       "      <td>13398857</td>\n",
       "      <td>0.032407</td>\n",
       "      <td>0.0</td>\n",
       "      <td>0.031893</td>\n",
       "      <td>0.0</td>\n",
       "      <td>1.24892</td>\n",
       "    </tr>\n",
       "  </tbody>\n",
       "</table>\n",
       "<p>1007 rows × 10 columns</p>\n",
       "</div>"
      ],
      "text/plain": [
       "             Open   High    Low  Close    Volume    Change  position  \\\n",
       "Date                                                                   \n",
       "2018-03-29  48700  49560  48320  49040    201340  0.006982       0.0   \n",
       "2018-03-30  49080  49900  49080  49220    155542  0.003670       0.0   \n",
       "2018-04-02  49000  49220  48500  48540    142313 -0.013816       0.0   \n",
       "2018-04-03  47880  48140  47280  48120    255365 -0.008653       0.0   \n",
       "2018-04-04  48160  48260  46920  46920    247684 -0.024938       0.0   \n",
       "...           ...    ...    ...    ...       ...       ...       ...   \n",
       "2022-04-25  66500  66700  66300  66300  11016474 -0.010448       0.0   \n",
       "2022-04-26  66400  66700  66100  66100  12946923 -0.003017       0.0   \n",
       "2022-04-27  65400  65500  64900  65000  18122084 -0.016641       0.0   \n",
       "2022-04-28  65400  65500  64500  64800  16895527 -0.003077       0.0   \n",
       "2022-04-29  65100  67000  65000  66900  13398857  0.032407       0.0   \n",
       "\n",
       "                 rtn  str_rtn  cum_str_rtn  \n",
       "Date                                        \n",
       "2018-03-29  0.000000      0.0      1.00000  \n",
       "2018-03-30  0.003664      0.0      1.00000  \n",
       "2018-04-02 -0.013912     -0.0      1.00000  \n",
       "2018-04-03 -0.008690     -0.0      1.00000  \n",
       "2018-04-04 -0.025254     -0.0      1.00000  \n",
       "...              ...      ...          ...  \n",
       "2022-04-25 -0.010503     -0.0      1.24892  \n",
       "2022-04-26 -0.003021     -0.0      1.24892  \n",
       "2022-04-27 -0.016781     -0.0      1.24892  \n",
       "2022-04-28 -0.003082     -0.0      1.24892  \n",
       "2022-04-29  0.031893      0.0      1.24892  \n",
       "\n",
       "[1007 rows x 10 columns]"
      ]
     },
     "execution_count": 40,
     "metadata": {},
     "output_type": "execute_result"
    }
   ],
   "source": [
    "df"
   ]
  },
  {
   "cell_type": "code",
   "execution_count": 43,
   "id": "4c750601",
   "metadata": {},
   "outputs": [],
   "source": [
    "cagr = get_cagr_series(df['cum_str_rtn'], num_day_in_year = 250)\n",
    "sharp_ratio = get_sharpe_ratio(df['str_rtn'], yearly_rfr = 0.025)\n",
    "mdd, ldd_period, ldd_st, ldd_ed = get_drawdown_infos(df['cum_str_rtn'])"
   ]
  },
  {
   "cell_type": "code",
   "execution_count": 44,
   "id": "119dc76f",
   "metadata": {},
   "outputs": [
    {
     "name": "stdout",
     "output_type": "stream",
     "text": [
      "cagr : 0.05673457282832617\n",
      "sharp_ratio : 0.16520368873398802\n",
      "Max_drawdown : -0.2680411180411182\n",
      "Longest_dd_period : -607\n",
      "Longest_dd_st_date : 2018-04-19 00:00:00\n",
      "Longest_dd_ed_date : 2019-12-17 00:00:00\n"
     ]
    }
   ],
   "source": [
    "print('cagr :', cagr)\n",
    "print('sharp_ratio :', sharp_ratio)\n",
    "print('Max_drawdown :', mdd)\n",
    "print('Longest_dd_period :', ldd_period)\n",
    "print('Longest_dd_st_date :', ldd_st)\n",
    "print('Longest_dd_ed_date :', ldd_ed)"
   ]
  },
  {
   "cell_type": "code",
   "execution_count": 45,
   "id": "294b6c86",
   "metadata": {},
   "outputs": [
    {
     "data": {
      "text/plain": [
       "<AxesSubplot:xlabel='Date'>"
      ]
     },
     "execution_count": 45,
     "metadata": {},
     "output_type": "execute_result"
    },
    {
     "data": {
      "image/png": "[encoded data removed]",
      "text/plain": [
       "<Figure size 1080x360 with 1 Axes>"
      ]
     },
     "metadata": {
      "needs_background": "light"
     },
     "output_type": "display_data"
    }
   ],
   "source": [
    "df.loc[:, 'cum_str_rtn'].plot(figsize=(15,5))"
   ]
  },
  {
   "cell_type": "code",
   "execution_count": null,
   "id": "ebde700a",
   "metadata": {},
   "outputs": [],
   "source": []
  },
  {
   "cell_type": "code",
   "execution_count": null,
   "id": "2e51a5d8",
   "metadata": {},
   "outputs": [],
   "source": []
  },
  {
   "cell_type": "code",
   "execution_count": 48,
   "id": "288cf96a",
   "metadata": {},
   "outputs": [],
   "source": [
    "def momentum(df, mw):\n",
    "    \n",
    "    momentum_window=mw\n",
    "    \n",
    "    position = np.sign(get_returns_df(df['Close'], N=momentum_window))\n",
    "    position[position == -1] = 0\n",
    "    \n",
    "    df.loc[:, 'position'] = position\n",
    "    df.dropna(inplace=True)\n",
    "    \n",
    "    df.loc[:, 'rtn'] = get_returns_df(df['Close'], N=1, log=True)\n",
    "    df.loc[:, 'str_rtn'] = (df['position'].shift(1) * df['rtn']).fillna(0)\n",
    "\n",
    "    df.loc[:, 'cum_str_rtn'] = get_cum_returns_df(df['str_rtn'], log=True)\n",
    "    \n",
    "    cagr = get_cagr_series(df['cum_str_rtn'], num_day_in_year = 250)\n",
    "    sharp_ratio = get_sharpe_ratio(df['str_rtn'], yearly_rfr = 0.025)\n",
    "    mdd, ldd_period, ldd_st, ldd_ed = get_drawdown_infos(df['cum_str_rtn'])\n",
    "    \n",
    "    print('cagr :', cagr)\n",
    "    print('sharp_ratio :', sharp_ratio)\n",
    "    print('Max_drawdown :', mdd)\n",
    "    print('Longest_dd_period :', ldd_period)\n",
    "    print('Longest_dd_st_date :', ldd_st)\n",
    "    print('Longest_dd_ed_date :', ldd_ed)\n",
    "    \n",
    "    df.loc[:, 'cum_str_rtn'].plot(figsize=(15,5))"
   ]
  },
  {
   "cell_type": "code",
   "execution_count": null,
   "id": "f4db7db6",
   "metadata": {},
   "outputs": [],
   "source": []
  },
  {
   "cell_type": "code",
   "execution_count": 49,
   "id": "6cd32b8b",
   "metadata": {},
   "outputs": [
    {
     "name": "stdout",
     "output_type": "stream",
     "text": [
      "cagr : -0.01443062614986812\n",
      "sharp_ratio : -0.11613861219199131\n",
      "Max_drawdown : -0.5940000597344159\n",
      "Longest_dd_period : -13\n",
      "Longest_dd_st_date : 2018-05-15 00:00:00\n",
      "Longest_dd_ed_date : 2018-05-28 00:00:00\n"
     ]
    },
    {
     "data": {
      "image/png": "[encoded data removed]",
      "text/plain": [
       "<Figure size 1080x360 with 1 Axes>"
      ]
     },
     "metadata": {
      "needs_background": "light"
     },
     "output_type": "display_data"
    }
   ],
   "source": [
    "df = fdr.DataReader('000720','2018-01-02','2022-04-29')\n",
    "mw = 60\n",
    "\n",
    "momentum(df, mw)"
   ]
  },
  {
   "cell_type": "code",
   "execution_count": null,
   "id": "0fc51c6d",
   "metadata": {},
   "outputs": [],
   "source": []
  },
  {
   "cell_type": "code",
   "execution_count": null,
   "id": "e2f1be90",
   "metadata": {},
   "outputs": [],
   "source": []
  },
  {
   "cell_type": "markdown",
   "id": "ba748d11",
   "metadata": {},
   "source": [
    "### Mean-Reversion전략"
   ]
  },
  {
   "cell_type": "code",
   "execution_count": 75,
   "id": "50f00105",
   "metadata": {
    "collapsed": true
   },
   "outputs": [
    {
     "data": {
      "text/html": [
       "<div>\n",
       "<style scoped>\n",
       "    .dataframe tbody tr th:only-of-type {\n",
       "        vertical-align: middle;\n",
       "    }\n",
       "\n",
       "    .dataframe tbody tr th {\n",
       "        vertical-align: top;\n",
       "    }\n",
       "\n",
       "    .dataframe thead th {\n",
       "        text-align: right;\n",
       "    }\n",
       "</style>\n",
       "<table border=\"1\" class=\"dataframe\">\n",
       "  <thead>\n",
       "    <tr style=\"text-align: right;\">\n",
       "      <th></th>\n",
       "      <th>Open</th>\n",
       "      <th>High</th>\n",
       "      <th>Low</th>\n",
       "      <th>Close</th>\n",
       "      <th>Volume</th>\n",
       "      <th>Change</th>\n",
       "    </tr>\n",
       "    <tr>\n",
       "      <th>Date</th>\n",
       "      <th></th>\n",
       "      <th></th>\n",
       "      <th></th>\n",
       "      <th></th>\n",
       "      <th></th>\n",
       "      <th></th>\n",
       "    </tr>\n",
       "  </thead>\n",
       "  <tbody>\n",
       "    <tr>\n",
       "      <th>2020-01-02</th>\n",
       "      <td>55500</td>\n",
       "      <td>56000</td>\n",
       "      <td>55000</td>\n",
       "      <td>55200</td>\n",
       "      <td>12993228</td>\n",
       "      <td>-0.010753</td>\n",
       "    </tr>\n",
       "    <tr>\n",
       "      <th>2020-01-03</th>\n",
       "      <td>56000</td>\n",
       "      <td>56600</td>\n",
       "      <td>54900</td>\n",
       "      <td>55500</td>\n",
       "      <td>15422255</td>\n",
       "      <td>0.005435</td>\n",
       "    </tr>\n",
       "    <tr>\n",
       "      <th>2020-01-06</th>\n",
       "      <td>54900</td>\n",
       "      <td>55600</td>\n",
       "      <td>54600</td>\n",
       "      <td>55500</td>\n",
       "      <td>10278951</td>\n",
       "      <td>0.000000</td>\n",
       "    </tr>\n",
       "    <tr>\n",
       "      <th>2020-01-07</th>\n",
       "      <td>55700</td>\n",
       "      <td>56400</td>\n",
       "      <td>55600</td>\n",
       "      <td>55800</td>\n",
       "      <td>10009778</td>\n",
       "      <td>0.005405</td>\n",
       "    </tr>\n",
       "    <tr>\n",
       "      <th>2020-01-08</th>\n",
       "      <td>56200</td>\n",
       "      <td>57400</td>\n",
       "      <td>55900</td>\n",
       "      <td>56800</td>\n",
       "      <td>23501171</td>\n",
       "      <td>0.017921</td>\n",
       "    </tr>\n",
       "  </tbody>\n",
       "</table>\n",
       "</div>"
      ],
      "text/plain": [
       "             Open   High    Low  Close    Volume    Change\n",
       "Date                                                      \n",
       "2020-01-02  55500  56000  55000  55200  12993228 -0.010753\n",
       "2020-01-03  56000  56600  54900  55500  15422255  0.005435\n",
       "2020-01-06  54900  55600  54600  55500  10278951  0.000000\n",
       "2020-01-07  55700  56400  55600  55800  10009778  0.005405\n",
       "2020-01-08  56200  57400  55900  56800  23501171  0.017921"
      ]
     },
     "execution_count": 75,
     "metadata": {},
     "output_type": "execute_result"
    }
   ],
   "source": [
    "df = fdr.DataReader('005930', '2020-01-02', '2022-04-30')\n",
    "df.head()"
   ]
  },
  {
   "cell_type": "code",
   "execution_count": 76,
   "id": "620b2ee7",
   "metadata": {
    "collapsed": true
   },
   "outputs": [
    {
     "data": {
      "text/html": [
       "<div>\n",
       "<style scoped>\n",
       "    .dataframe tbody tr th:only-of-type {\n",
       "        vertical-align: middle;\n",
       "    }\n",
       "\n",
       "    .dataframe tbody tr th {\n",
       "        vertical-align: top;\n",
       "    }\n",
       "\n",
       "    .dataframe thead th {\n",
       "        text-align: right;\n",
       "    }\n",
       "</style>\n",
       "<table border=\"1\" class=\"dataframe\">\n",
       "  <thead>\n",
       "    <tr style=\"text-align: right;\">\n",
       "      <th></th>\n",
       "      <th>Close</th>\n",
       "    </tr>\n",
       "    <tr>\n",
       "      <th>Date</th>\n",
       "      <th></th>\n",
       "    </tr>\n",
       "  </thead>\n",
       "  <tbody>\n",
       "    <tr>\n",
       "      <th>2020-01-02</th>\n",
       "      <td>55200</td>\n",
       "    </tr>\n",
       "    <tr>\n",
       "      <th>2020-01-03</th>\n",
       "      <td>55500</td>\n",
       "    </tr>\n",
       "    <tr>\n",
       "      <th>2020-01-06</th>\n",
       "      <td>55500</td>\n",
       "    </tr>\n",
       "    <tr>\n",
       "      <th>2020-01-07</th>\n",
       "      <td>55800</td>\n",
       "    </tr>\n",
       "    <tr>\n",
       "      <th>2020-01-08</th>\n",
       "      <td>56800</td>\n",
       "    </tr>\n",
       "    <tr>\n",
       "      <th>...</th>\n",
       "      <td>...</td>\n",
       "    </tr>\n",
       "    <tr>\n",
       "      <th>2022-04-25</th>\n",
       "      <td>66300</td>\n",
       "    </tr>\n",
       "    <tr>\n",
       "      <th>2022-04-26</th>\n",
       "      <td>66100</td>\n",
       "    </tr>\n",
       "    <tr>\n",
       "      <th>2022-04-27</th>\n",
       "      <td>65000</td>\n",
       "    </tr>\n",
       "    <tr>\n",
       "      <th>2022-04-28</th>\n",
       "      <td>64800</td>\n",
       "    </tr>\n",
       "    <tr>\n",
       "      <th>2022-04-29</th>\n",
       "      <td>67000</td>\n",
       "    </tr>\n",
       "  </tbody>\n",
       "</table>\n",
       "<p>576 rows × 1 columns</p>\n",
       "</div>"
      ],
      "text/plain": [
       "            Close\n",
       "Date             \n",
       "2020-01-02  55200\n",
       "2020-01-03  55500\n",
       "2020-01-06  55500\n",
       "2020-01-07  55800\n",
       "2020-01-08  56800\n",
       "...           ...\n",
       "2022-04-25  66300\n",
       "2022-04-26  66100\n",
       "2022-04-27  65000\n",
       "2022-04-28  64800\n",
       "2022-04-29  67000\n",
       "\n",
       "[576 rows x 1 columns]"
      ]
     },
     "execution_count": 76,
     "metadata": {},
     "output_type": "execute_result"
    }
   ],
   "source": [
    "df = df[['Close']]\n",
    "df"
   ]
  },
  {
   "cell_type": "code",
   "execution_count": 77,
   "id": "826cded3",
   "metadata": {},
   "outputs": [],
   "source": [
    "window = 20\n",
    "df.loc[:, 'sma'] = df['Close'].rolling(window).mean()"
   ]
  },
  {
   "cell_type": "code",
   "execution_count": 78,
   "id": "c0d1b5cd",
   "metadata": {},
   "outputs": [],
   "source": [
    "rolling_std = df['Close'].rolling(window).std()"
   ]
  },
  {
   "cell_type": "code",
   "execution_count": 79,
   "id": "2ab359e3",
   "metadata": {},
   "outputs": [],
   "source": [
    "df.dropna(inplace=True)"
   ]
  },
  {
   "cell_type": "code",
   "execution_count": 80,
   "id": "81c9bd30",
   "metadata": {},
   "outputs": [
    {
     "data": {
      "text/plain": [
       "<AxesSubplot:xlabel='Date'>"
      ]
     },
     "execution_count": 80,
     "metadata": {},
     "output_type": "execute_result"
    },
    {
     "data": {
      "image/png": "[encoded data removed]",
      "text/plain": [
       "<Figure size 1080x360 with 1 Axes>"
      ]
     },
     "metadata": {
      "needs_background": "light"
     },
     "output_type": "display_data"
    }
   ],
   "source": [
    "df.plot(figsize=(15,5))"
   ]
  },
  {
   "cell_type": "code",
   "execution_count": 81,
   "id": "a82ca3aa",
   "metadata": {},
   "outputs": [],
   "source": [
    "df['+threshold'] = df['sma'] + 2*rolling_std\n",
    "df['-threshold'] = df['sma'] - 2*rolling_std"
   ]
  },
  {
   "cell_type": "code",
   "execution_count": 82,
   "id": "55620dc3",
   "metadata": {},
   "outputs": [
    {
     "data": {
      "text/html": [
       "<div>\n",
       "<style scoped>\n",
       "    .dataframe tbody tr th:only-of-type {\n",
       "        vertical-align: middle;\n",
       "    }\n",
       "\n",
       "    .dataframe tbody tr th {\n",
       "        vertical-align: top;\n",
       "    }\n",
       "\n",
       "    .dataframe thead th {\n",
       "        text-align: right;\n",
       "    }\n",
       "</style>\n",
       "<table border=\"1\" class=\"dataframe\">\n",
       "  <thead>\n",
       "    <tr style=\"text-align: right;\">\n",
       "      <th></th>\n",
       "      <th>Close</th>\n",
       "      <th>sma</th>\n",
       "      <th>+threshold</th>\n",
       "      <th>-threshold</th>\n",
       "    </tr>\n",
       "    <tr>\n",
       "      <th>Date</th>\n",
       "      <th></th>\n",
       "      <th></th>\n",
       "      <th></th>\n",
       "      <th></th>\n",
       "    </tr>\n",
       "  </thead>\n",
       "  <tbody>\n",
       "    <tr>\n",
       "      <th>2020-01-31</th>\n",
       "      <td>56400</td>\n",
       "      <td>58815.0</td>\n",
       "      <td>63526.140213</td>\n",
       "      <td>54103.859787</td>\n",
       "    </tr>\n",
       "    <tr>\n",
       "      <th>2020-02-03</th>\n",
       "      <td>57200</td>\n",
       "      <td>58915.0</td>\n",
       "      <td>63381.612987</td>\n",
       "      <td>54448.387013</td>\n",
       "    </tr>\n",
       "    <tr>\n",
       "      <th>2020-02-04</th>\n",
       "      <td>58900</td>\n",
       "      <td>59085.0</td>\n",
       "      <td>63253.187793</td>\n",
       "      <td>54916.812207</td>\n",
       "    </tr>\n",
       "    <tr>\n",
       "      <th>2020-02-05</th>\n",
       "      <td>59500</td>\n",
       "      <td>59285.0</td>\n",
       "      <td>63097.596850</td>\n",
       "      <td>55472.403150</td>\n",
       "    </tr>\n",
       "    <tr>\n",
       "      <th>2020-02-06</th>\n",
       "      <td>61100</td>\n",
       "      <td>59550.0</td>\n",
       "      <td>63068.073636</td>\n",
       "      <td>56031.926364</td>\n",
       "    </tr>\n",
       "  </tbody>\n",
       "</table>\n",
       "</div>"
      ],
      "text/plain": [
       "            Close      sma    +threshold    -threshold\n",
       "Date                                                  \n",
       "2020-01-31  56400  58815.0  63526.140213  54103.859787\n",
       "2020-02-03  57200  58915.0  63381.612987  54448.387013\n",
       "2020-02-04  58900  59085.0  63253.187793  54916.812207\n",
       "2020-02-05  59500  59285.0  63097.596850  55472.403150\n",
       "2020-02-06  61100  59550.0  63068.073636  56031.926364"
      ]
     },
     "execution_count": 82,
     "metadata": {},
     "output_type": "execute_result"
    }
   ],
   "source": [
    "df.head()"
   ]
  },
  {
   "cell_type": "code",
   "execution_count": null,
   "id": "dc87655f",
   "metadata": {},
   "outputs": [],
   "source": []
  },
  {
   "cell_type": "code",
   "execution_count": 83,
   "id": "c264d3fb",
   "metadata": {},
   "outputs": [
    {
     "data": {
      "text/plain": [
       "<AxesSubplot:xlabel='Date'>"
      ]
     },
     "execution_count": 83,
     "metadata": {},
     "output_type": "execute_result"
    },
    {
     "data": {
      "image/png": "[encoded data removed]",
      "text/plain": [
       "<Figure size 1080x360 with 1 Axes>"
      ]
     },
     "metadata": {
      "needs_background": "light"
     },
     "output_type": "display_data"
    }
   ],
   "source": [
    "df[['Close', 'sma', '+threshold', '-threshold']].iloc[-300:].plot(figsize=(15,5))"
   ]
  },
  {
   "cell_type": "code",
   "execution_count": null,
   "id": "38ec3e8b",
   "metadata": {},
   "outputs": [],
   "source": []
  },
  {
   "cell_type": "code",
   "execution_count": 84,
   "id": "13d64d44",
   "metadata": {},
   "outputs": [],
   "source": [
    "pos1 = np.where(df['Close'] <= df['-threshold'], 1, 0)\n",
    "pos2 = np.where(df['Close'] >= df['+threshold'], -1, 0)\n",
    "\n",
    "df.loc[:, 'position'] = pos1 + pos2"
   ]
  },
  {
   "cell_type": "code",
   "execution_count": 85,
   "id": "29819e43",
   "metadata": {
    "collapsed": true
   },
   "outputs": [
    {
     "data": {
      "text/html": [
       "<div>\n",
       "<style scoped>\n",
       "    .dataframe tbody tr th:only-of-type {\n",
       "        vertical-align: middle;\n",
       "    }\n",
       "\n",
       "    .dataframe tbody tr th {\n",
       "        vertical-align: top;\n",
       "    }\n",
       "\n",
       "    .dataframe thead th {\n",
       "        text-align: right;\n",
       "    }\n",
       "</style>\n",
       "<table border=\"1\" class=\"dataframe\">\n",
       "  <thead>\n",
       "    <tr style=\"text-align: right;\">\n",
       "      <th></th>\n",
       "      <th>Close</th>\n",
       "      <th>sma</th>\n",
       "      <th>+threshold</th>\n",
       "      <th>-threshold</th>\n",
       "      <th>position</th>\n",
       "    </tr>\n",
       "    <tr>\n",
       "      <th>Date</th>\n",
       "      <th></th>\n",
       "      <th></th>\n",
       "      <th></th>\n",
       "      <th></th>\n",
       "      <th></th>\n",
       "    </tr>\n",
       "  </thead>\n",
       "  <tbody>\n",
       "    <tr>\n",
       "      <th>2020-01-31</th>\n",
       "      <td>56400</td>\n",
       "      <td>58815.0</td>\n",
       "      <td>63526.140213</td>\n",
       "      <td>54103.859787</td>\n",
       "      <td>0</td>\n",
       "    </tr>\n",
       "    <tr>\n",
       "      <th>2020-02-03</th>\n",
       "      <td>57200</td>\n",
       "      <td>58915.0</td>\n",
       "      <td>63381.612987</td>\n",
       "      <td>54448.387013</td>\n",
       "      <td>0</td>\n",
       "    </tr>\n",
       "    <tr>\n",
       "      <th>2020-02-04</th>\n",
       "      <td>58900</td>\n",
       "      <td>59085.0</td>\n",
       "      <td>63253.187793</td>\n",
       "      <td>54916.812207</td>\n",
       "      <td>0</td>\n",
       "    </tr>\n",
       "    <tr>\n",
       "      <th>2020-02-05</th>\n",
       "      <td>59500</td>\n",
       "      <td>59285.0</td>\n",
       "      <td>63097.596850</td>\n",
       "      <td>55472.403150</td>\n",
       "      <td>0</td>\n",
       "    </tr>\n",
       "    <tr>\n",
       "      <th>2020-02-06</th>\n",
       "      <td>61100</td>\n",
       "      <td>59550.0</td>\n",
       "      <td>63068.073636</td>\n",
       "      <td>56031.926364</td>\n",
       "      <td>0</td>\n",
       "    </tr>\n",
       "    <tr>\n",
       "      <th>...</th>\n",
       "      <td>...</td>\n",
       "      <td>...</td>\n",
       "      <td>...</td>\n",
       "      <td>...</td>\n",
       "      <td>...</td>\n",
       "    </tr>\n",
       "    <tr>\n",
       "      <th>2022-04-25</th>\n",
       "      <td>66300</td>\n",
       "      <td>68085.0</td>\n",
       "      <td>70412.207498</td>\n",
       "      <td>65757.792502</td>\n",
       "      <td>0</td>\n",
       "    </tr>\n",
       "    <tr>\n",
       "      <th>2022-04-26</th>\n",
       "      <td>66100</td>\n",
       "      <td>67880.0</td>\n",
       "      <td>70144.229856</td>\n",
       "      <td>65615.770144</td>\n",
       "      <td>0</td>\n",
       "    </tr>\n",
       "    <tr>\n",
       "      <th>2022-04-27</th>\n",
       "      <td>65000</td>\n",
       "      <td>67635.0</td>\n",
       "      <td>70035.241216</td>\n",
       "      <td>65234.758784</td>\n",
       "      <td>1</td>\n",
       "    </tr>\n",
       "    <tr>\n",
       "      <th>2022-04-28</th>\n",
       "      <td>64800</td>\n",
       "      <td>67395.0</td>\n",
       "      <td>69924.385197</td>\n",
       "      <td>64865.614803</td>\n",
       "      <td>1</td>\n",
       "    </tr>\n",
       "    <tr>\n",
       "      <th>2022-04-29</th>\n",
       "      <td>67000</td>\n",
       "      <td>67290.0</td>\n",
       "      <td>69692.542513</td>\n",
       "      <td>64887.457487</td>\n",
       "      <td>0</td>\n",
       "    </tr>\n",
       "  </tbody>\n",
       "</table>\n",
       "<p>557 rows × 5 columns</p>\n",
       "</div>"
      ],
      "text/plain": [
       "            Close      sma    +threshold    -threshold  position\n",
       "Date                                                            \n",
       "2020-01-31  56400  58815.0  63526.140213  54103.859787         0\n",
       "2020-02-03  57200  58915.0  63381.612987  54448.387013         0\n",
       "2020-02-04  58900  59085.0  63253.187793  54916.812207         0\n",
       "2020-02-05  59500  59285.0  63097.596850  55472.403150         0\n",
       "2020-02-06  61100  59550.0  63068.073636  56031.926364         0\n",
       "...           ...      ...           ...           ...       ...\n",
       "2022-04-25  66300  68085.0  70412.207498  65757.792502         0\n",
       "2022-04-26  66100  67880.0  70144.229856  65615.770144         0\n",
       "2022-04-27  65000  67635.0  70035.241216  65234.758784         1\n",
       "2022-04-28  64800  67395.0  69924.385197  64865.614803         1\n",
       "2022-04-29  67000  67290.0  69692.542513  64887.457487         0\n",
       "\n",
       "[557 rows x 5 columns]"
      ]
     },
     "execution_count": 85,
     "metadata": {},
     "output_type": "execute_result"
    }
   ],
   "source": [
    "df"
   ]
  },
  {
   "cell_type": "code",
   "execution_count": 86,
   "id": "6aecb65d",
   "metadata": {},
   "outputs": [
    {
     "data": {
      "text/plain": [
       "<AxesSubplot:xlabel='Date'>"
      ]
     },
     "execution_count": 86,
     "metadata": {},
     "output_type": "execute_result"
    },
    {
     "data": {
      "image/png": "[encoded data removed]",
      "text/plain": [
       "<Figure size 1080x360 with 1 Axes>"
      ]
     },
     "metadata": {
      "needs_background": "light"
     },
     "output_type": "display_data"
    }
   ],
   "source": [
    "df['position'].plot(\n",
    "    marker='.', linestyle='none', markersize=5, figsize=(15,5)\n",
    ")"
   ]
  },
  {
   "cell_type": "code",
   "execution_count": null,
   "id": "e3d42149",
   "metadata": {},
   "outputs": [],
   "source": []
  },
  {
   "cell_type": "code",
   "execution_count": 87,
   "id": "1aba767a",
   "metadata": {},
   "outputs": [
    {
     "data": {
      "text/plain": [
       "DatetimeIndex(['2020-06-01', '2020-06-03', '2020-07-21', '2020-07-28',\n",
       "               '2020-09-14', '2020-11-13', '2020-12-24', '2020-12-30',\n",
       "               '2021-01-08', '2021-04-02', '2021-08-03', '2021-11-15',\n",
       "               '2021-11-22'],\n",
       "              dtype='datetime64[ns]', name='Date', freq=None)"
      ]
     },
     "execution_count": 87,
     "metadata": {},
     "output_type": "execute_result"
    }
   ],
   "source": [
    "short_index = df[\n",
    "    ((df['position'] - df['position'].shift()) == -1) & (df['position'] == -1)\n",
    "].index\n",
    "\n",
    "short_index\n"
   ]
  },
  {
   "cell_type": "code",
   "execution_count": 88,
   "id": "c899a8cc",
   "metadata": {},
   "outputs": [
    {
     "data": {
      "text/plain": [
       "DatetimeIndex(['2020-02-28', '2020-03-12', '2020-08-31', '2020-10-30',\n",
       "               '2021-05-12', '2021-08-13', '2021-09-29', '2021-10-12',\n",
       "               '2022-01-25', '2022-02-24', '2022-03-07', '2022-04-06',\n",
       "               '2022-04-12', '2022-04-15', '2022-04-27'],\n",
       "              dtype='datetime64[ns]', name='Date', freq=None)"
      ]
     },
     "execution_count": 88,
     "metadata": {},
     "output_type": "execute_result"
    }
   ],
   "source": [
    "long_index = df[\n",
    "    ((df['position'] - df['position'].shift()) ==1) & (df['position'] == 1)\n",
    "].index\n",
    "\n",
    "long_index"
   ]
  },
  {
   "cell_type": "code",
   "execution_count": 89,
   "id": "c043d6b7",
   "metadata": {},
   "outputs": [
    {
     "data": {
      "text/plain": [
       "<AxesSubplot:xlabel='Date'>"
      ]
     },
     "execution_count": 89,
     "metadata": {},
     "output_type": "execute_result"
    },
    {
     "data": {
      "image/png": "[encoded data removed]",
      "text/plain": [
       "<Figure size 1080x360 with 1 Axes>"
      ]
     },
     "metadata": {
      "needs_background": "light"
     },
     "output_type": "display_data"
    }
   ],
   "source": [
    "ax = df[['Close', 'sma', '+threshold', '-threshold']].plot(figsize=(15,5))\n",
    "df.loc[short_index, 'Close'].plot(ax=ax, marker='o', markersize=5, linestyle='none', color='blue')\n",
    "df.loc[long_index, 'Close'].plot(ax=ax, marker='o', markersize=5, linestyle='none', color='red')"
   ]
  },
  {
   "cell_type": "code",
   "execution_count": 90,
   "id": "858c66b1",
   "metadata": {},
   "outputs": [],
   "source": [
    "df['rtn'] = get_returns_df(df['Close'], log=True)\n",
    "df['str_rtn'] = (df['position'].shift() * df['rtn']).fillna(0)"
   ]
  },
  {
   "cell_type": "code",
   "execution_count": 94,
   "id": "95045d80",
   "metadata": {},
   "outputs": [],
   "source": [
    "df.loc[:, 'cum_rtn'] = get_cum_returns_df(df['rtn'], log=True)\n",
    "df.loc[:, 'str_cum_rtn'] = get_cum_returns_df(df['str_rtn'], log=True)"
   ]
  },
  {
   "cell_type": "code",
   "execution_count": 97,
   "id": "08a21ca7",
   "metadata": {},
   "outputs": [
    {
     "data": {
      "text/plain": [
       "<AxesSubplot:xlabel='Date'>"
      ]
     },
     "execution_count": 97,
     "metadata": {},
     "output_type": "execute_result"
    },
    {
     "data": {
      "image/png": "[encoded data removed]",
      "text/plain": [
       "<Figure size 432x288 with 1 Axes>"
      ]
     },
     "metadata": {
      "needs_background": "light"
     },
     "output_type": "display_data"
    }
   ],
   "source": [
    "df['str_cum_rtn'].plot()"
   ]
  },
  {
   "cell_type": "code",
   "execution_count": null,
   "id": "3fc18ca2",
   "metadata": {},
   "outputs": [],
   "source": []
  },
  {
   "cell_type": "code",
   "execution_count": 107,
   "id": "1b7284f1",
   "metadata": {},
   "outputs": [],
   "source": [
    "def backtest_eval(scr, sr):\n",
    "\n",
    "    cagr = get_cagr_series(df[scr], num_day_in_year = 250)\n",
    "    sharp_ratio = get_sharpe_ratio(df[sr], yearly_rfr = 0.025)\n",
    "    mdd, ldd_period, ldd_st, ldd_ed = get_drawdown_infos(df[scr])\n",
    "\n",
    "    print('cagr :', cagr)\n",
    "    print('sharp_ratio :', sharp_ratio)\n",
    "    print('Max_drawdown :', mdd)\n",
    "    print('Longest_dd_period :', ldd_period)\n",
    "    print('Longest_dd_st_date :', ldd_st)\n",
    "    print('Longest_dd_ed_date :', ldd_ed)"
   ]
  },
  {
   "cell_type": "code",
   "execution_count": 108,
   "id": "f394b322",
   "metadata": {},
   "outputs": [
    {
     "name": "stdout",
     "output_type": "stream",
     "text": [
      "cagr : -0.052615319332170896\n",
      "sharp_ratio : -0.7946427288757496\n",
      "Max_drawdown : -0.2070170212747433\n",
      "Longest_dd_period : -3\n",
      "Longest_dd_st_date : 2020-01-31 00:00:00\n",
      "Longest_dd_ed_date : 2020-02-03 00:00:00\n"
     ]
    }
   ],
   "source": [
    "cr = 'str_cum_rtn'\n",
    "sr = 'str_rtn'\n",
    "\n",
    "backtest_eval(cr, sr)"
   ]
  },
  {
   "cell_type": "code",
   "execution_count": null,
   "id": "f3348b82",
   "metadata": {},
   "outputs": [],
   "source": []
  },
  {
   "cell_type": "code",
   "execution_count": null,
   "id": "4fd6dcbb",
   "metadata": {},
   "outputs": [],
   "source": []
  },
  {
   "cell_type": "markdown",
   "id": "d43146aa",
   "metadata": {},
   "source": [
    "### 변동성 돌파 전략.."
   ]
  },
  {
   "cell_type": "code",
   "execution_count": 109,
   "id": "1fbf44fc",
   "metadata": {
    "collapsed": true
   },
   "outputs": [
    {
     "data": {
      "text/html": [
       "<div>\n",
       "<style scoped>\n",
       "    .dataframe tbody tr th:only-of-type {\n",
       "        vertical-align: middle;\n",
       "    }\n",
       "\n",
       "    .dataframe tbody tr th {\n",
       "        vertical-align: top;\n",
       "    }\n",
       "\n",
       "    .dataframe thead th {\n",
       "        text-align: right;\n",
       "    }\n",
       "</style>\n",
       "<table border=\"1\" class=\"dataframe\">\n",
       "  <thead>\n",
       "    <tr style=\"text-align: right;\">\n",
       "      <th></th>\n",
       "      <th>Open</th>\n",
       "      <th>High</th>\n",
       "      <th>Low</th>\n",
       "      <th>Close</th>\n",
       "      <th>Volume</th>\n",
       "      <th>Change</th>\n",
       "    </tr>\n",
       "    <tr>\n",
       "      <th>Date</th>\n",
       "      <th></th>\n",
       "      <th></th>\n",
       "      <th></th>\n",
       "      <th></th>\n",
       "      <th></th>\n",
       "      <th></th>\n",
       "    </tr>\n",
       "  </thead>\n",
       "  <tbody>\n",
       "    <tr>\n",
       "      <th>2020-01-02</th>\n",
       "      <td>55500</td>\n",
       "      <td>56000</td>\n",
       "      <td>55000</td>\n",
       "      <td>55200</td>\n",
       "      <td>12993228</td>\n",
       "      <td>-0.010753</td>\n",
       "    </tr>\n",
       "    <tr>\n",
       "      <th>2020-01-03</th>\n",
       "      <td>56000</td>\n",
       "      <td>56600</td>\n",
       "      <td>54900</td>\n",
       "      <td>55500</td>\n",
       "      <td>15422255</td>\n",
       "      <td>0.005435</td>\n",
       "    </tr>\n",
       "    <tr>\n",
       "      <th>2020-01-06</th>\n",
       "      <td>54900</td>\n",
       "      <td>55600</td>\n",
       "      <td>54600</td>\n",
       "      <td>55500</td>\n",
       "      <td>10278951</td>\n",
       "      <td>0.000000</td>\n",
       "    </tr>\n",
       "    <tr>\n",
       "      <th>2020-01-07</th>\n",
       "      <td>55700</td>\n",
       "      <td>56400</td>\n",
       "      <td>55600</td>\n",
       "      <td>55800</td>\n",
       "      <td>10009778</td>\n",
       "      <td>0.005405</td>\n",
       "    </tr>\n",
       "    <tr>\n",
       "      <th>2020-01-08</th>\n",
       "      <td>56200</td>\n",
       "      <td>57400</td>\n",
       "      <td>55900</td>\n",
       "      <td>56800</td>\n",
       "      <td>23501171</td>\n",
       "      <td>0.017921</td>\n",
       "    </tr>\n",
       "  </tbody>\n",
       "</table>\n",
       "</div>"
      ],
      "text/plain": [
       "             Open   High    Low  Close    Volume    Change\n",
       "Date                                                      \n",
       "2020-01-02  55500  56000  55000  55200  12993228 -0.010753\n",
       "2020-01-03  56000  56600  54900  55500  15422255  0.005435\n",
       "2020-01-06  54900  55600  54600  55500  10278951  0.000000\n",
       "2020-01-07  55700  56400  55600  55800  10009778  0.005405\n",
       "2020-01-08  56200  57400  55900  56800  23501171  0.017921"
      ]
     },
     "execution_count": 109,
     "metadata": {},
     "output_type": "execute_result"
    }
   ],
   "source": [
    "df = fdr.DataReader('005930', '2020-01-02', '2022-04-30')\n",
    "df.head()"
   ]
  },
  {
   "cell_type": "code",
   "execution_count": 111,
   "id": "0e83f5d0",
   "metadata": {},
   "outputs": [],
   "source": [
    "df = df[['Open', 'High', 'Close', 'Low']]"
   ]
  },
  {
   "cell_type": "code",
   "execution_count": 114,
   "id": "869e3725",
   "metadata": {},
   "outputs": [
    {
     "data": {
      "text/html": [
       "<div>\n",
       "<style scoped>\n",
       "    .dataframe tbody tr th:only-of-type {\n",
       "        vertical-align: middle;\n",
       "    }\n",
       "\n",
       "    .dataframe tbody tr th {\n",
       "        vertical-align: top;\n",
       "    }\n",
       "\n",
       "    .dataframe thead th {\n",
       "        text-align: right;\n",
       "    }\n",
       "</style>\n",
       "<table border=\"1\" class=\"dataframe\">\n",
       "  <thead>\n",
       "    <tr style=\"text-align: right;\">\n",
       "      <th></th>\n",
       "      <th>Open</th>\n",
       "      <th>High</th>\n",
       "      <th>Close</th>\n",
       "      <th>Low</th>\n",
       "      <th>range</th>\n",
       "      <th>threshold</th>\n",
       "    </tr>\n",
       "    <tr>\n",
       "      <th>Date</th>\n",
       "      <th></th>\n",
       "      <th></th>\n",
       "      <th></th>\n",
       "      <th></th>\n",
       "      <th></th>\n",
       "      <th></th>\n",
       "    </tr>\n",
       "  </thead>\n",
       "  <tbody>\n",
       "    <tr>\n",
       "      <th>2020-01-02</th>\n",
       "      <td>55500</td>\n",
       "      <td>56000</td>\n",
       "      <td>55200</td>\n",
       "      <td>55000</td>\n",
       "      <td>1000</td>\n",
       "      <td>NaN</td>\n",
       "    </tr>\n",
       "    <tr>\n",
       "      <th>2020-01-03</th>\n",
       "      <td>56000</td>\n",
       "      <td>56600</td>\n",
       "      <td>55500</td>\n",
       "      <td>54900</td>\n",
       "      <td>1700</td>\n",
       "      <td>56600.0</td>\n",
       "    </tr>\n",
       "    <tr>\n",
       "      <th>2020-01-06</th>\n",
       "      <td>54900</td>\n",
       "      <td>55600</td>\n",
       "      <td>55500</td>\n",
       "      <td>54600</td>\n",
       "      <td>1000</td>\n",
       "      <td>55920.0</td>\n",
       "    </tr>\n",
       "    <tr>\n",
       "      <th>2020-01-07</th>\n",
       "      <td>55700</td>\n",
       "      <td>56400</td>\n",
       "      <td>55800</td>\n",
       "      <td>55600</td>\n",
       "      <td>800</td>\n",
       "      <td>56300.0</td>\n",
       "    </tr>\n",
       "    <tr>\n",
       "      <th>2020-01-08</th>\n",
       "      <td>56200</td>\n",
       "      <td>57400</td>\n",
       "      <td>56800</td>\n",
       "      <td>55900</td>\n",
       "      <td>1500</td>\n",
       "      <td>56680.0</td>\n",
       "    </tr>\n",
       "  </tbody>\n",
       "</table>\n",
       "</div>"
      ],
      "text/plain": [
       "             Open   High  Close    Low  range  threshold\n",
       "Date                                                    \n",
       "2020-01-02  55500  56000  55200  55000   1000        NaN\n",
       "2020-01-03  56000  56600  55500  54900   1700    56600.0\n",
       "2020-01-06  54900  55600  55500  54600   1000    55920.0\n",
       "2020-01-07  55700  56400  55800  55600    800    56300.0\n",
       "2020-01-08  56200  57400  56800  55900   1500    56680.0"
      ]
     },
     "execution_count": 114,
     "metadata": {},
     "output_type": "execute_result"
    }
   ],
   "source": [
    "df['range'] = df['High'] - df['Low']\n",
    "df['threshold'] = df['Open'] + df['range'].shift()*0.6\n",
    "df.head()"
   ]
  },
  {
   "cell_type": "code",
   "execution_count": 115,
   "id": "09787ce5",
   "metadata": {},
   "outputs": [],
   "source": [
    "df.dropna(inplace=True)"
   ]
  },
  {
   "cell_type": "code",
   "execution_count": 116,
   "id": "bd9f4f94",
   "metadata": {},
   "outputs": [],
   "source": [
    "cond = df['threshold'] <= df['High']\n",
    "df['position'] = cond.astype(int)"
   ]
  },
  {
   "cell_type": "code",
   "execution_count": 117,
   "id": "1e7c67b4",
   "metadata": {
    "collapsed": true
   },
   "outputs": [
    {
     "data": {
      "text/html": [
       "<div>\n",
       "<style scoped>\n",
       "    .dataframe tbody tr th:only-of-type {\n",
       "        vertical-align: middle;\n",
       "    }\n",
       "\n",
       "    .dataframe tbody tr th {\n",
       "        vertical-align: top;\n",
       "    }\n",
       "\n",
       "    .dataframe thead th {\n",
       "        text-align: right;\n",
       "    }\n",
       "</style>\n",
       "<table border=\"1\" class=\"dataframe\">\n",
       "  <thead>\n",
       "    <tr style=\"text-align: right;\">\n",
       "      <th></th>\n",
       "      <th>Open</th>\n",
       "      <th>High</th>\n",
       "      <th>Close</th>\n",
       "      <th>Low</th>\n",
       "      <th>range</th>\n",
       "      <th>threshold</th>\n",
       "      <th>position</th>\n",
       "    </tr>\n",
       "    <tr>\n",
       "      <th>Date</th>\n",
       "      <th></th>\n",
       "      <th></th>\n",
       "      <th></th>\n",
       "      <th></th>\n",
       "      <th></th>\n",
       "      <th></th>\n",
       "      <th></th>\n",
       "    </tr>\n",
       "  </thead>\n",
       "  <tbody>\n",
       "    <tr>\n",
       "      <th>2020-01-03</th>\n",
       "      <td>56000</td>\n",
       "      <td>56600</td>\n",
       "      <td>55500</td>\n",
       "      <td>54900</td>\n",
       "      <td>1700</td>\n",
       "      <td>56600.0</td>\n",
       "      <td>1</td>\n",
       "    </tr>\n",
       "    <tr>\n",
       "      <th>2020-01-06</th>\n",
       "      <td>54900</td>\n",
       "      <td>55600</td>\n",
       "      <td>55500</td>\n",
       "      <td>54600</td>\n",
       "      <td>1000</td>\n",
       "      <td>55920.0</td>\n",
       "      <td>0</td>\n",
       "    </tr>\n",
       "    <tr>\n",
       "      <th>2020-01-07</th>\n",
       "      <td>55700</td>\n",
       "      <td>56400</td>\n",
       "      <td>55800</td>\n",
       "      <td>55600</td>\n",
       "      <td>800</td>\n",
       "      <td>56300.0</td>\n",
       "      <td>1</td>\n",
       "    </tr>\n",
       "    <tr>\n",
       "      <th>2020-01-08</th>\n",
       "      <td>56200</td>\n",
       "      <td>57400</td>\n",
       "      <td>56800</td>\n",
       "      <td>55900</td>\n",
       "      <td>1500</td>\n",
       "      <td>56680.0</td>\n",
       "      <td>1</td>\n",
       "    </tr>\n",
       "    <tr>\n",
       "      <th>2020-01-09</th>\n",
       "      <td>58400</td>\n",
       "      <td>58600</td>\n",
       "      <td>58600</td>\n",
       "      <td>57400</td>\n",
       "      <td>1200</td>\n",
       "      <td>59300.0</td>\n",
       "      <td>0</td>\n",
       "    </tr>\n",
       "    <tr>\n",
       "      <th>...</th>\n",
       "      <td>...</td>\n",
       "      <td>...</td>\n",
       "      <td>...</td>\n",
       "      <td>...</td>\n",
       "      <td>...</td>\n",
       "      <td>...</td>\n",
       "      <td>...</td>\n",
       "    </tr>\n",
       "    <tr>\n",
       "      <th>2022-04-25</th>\n",
       "      <td>66500</td>\n",
       "      <td>66700</td>\n",
       "      <td>66300</td>\n",
       "      <td>66300</td>\n",
       "      <td>400</td>\n",
       "      <td>66860.0</td>\n",
       "      <td>0</td>\n",
       "    </tr>\n",
       "    <tr>\n",
       "      <th>2022-04-26</th>\n",
       "      <td>66400</td>\n",
       "      <td>66700</td>\n",
       "      <td>66100</td>\n",
       "      <td>66100</td>\n",
       "      <td>600</td>\n",
       "      <td>66640.0</td>\n",
       "      <td>1</td>\n",
       "    </tr>\n",
       "    <tr>\n",
       "      <th>2022-04-27</th>\n",
       "      <td>65400</td>\n",
       "      <td>65500</td>\n",
       "      <td>65000</td>\n",
       "      <td>64900</td>\n",
       "      <td>600</td>\n",
       "      <td>65760.0</td>\n",
       "      <td>0</td>\n",
       "    </tr>\n",
       "    <tr>\n",
       "      <th>2022-04-28</th>\n",
       "      <td>65400</td>\n",
       "      <td>65500</td>\n",
       "      <td>64800</td>\n",
       "      <td>64500</td>\n",
       "      <td>1000</td>\n",
       "      <td>65760.0</td>\n",
       "      <td>0</td>\n",
       "    </tr>\n",
       "    <tr>\n",
       "      <th>2022-04-29</th>\n",
       "      <td>65100</td>\n",
       "      <td>67200</td>\n",
       "      <td>66700</td>\n",
       "      <td>65000</td>\n",
       "      <td>2200</td>\n",
       "      <td>65700.0</td>\n",
       "      <td>1</td>\n",
       "    </tr>\n",
       "  </tbody>\n",
       "</table>\n",
       "<p>575 rows × 7 columns</p>\n",
       "</div>"
      ],
      "text/plain": [
       "             Open   High  Close    Low  range  threshold  position\n",
       "Date                                                              \n",
       "2020-01-03  56000  56600  55500  54900   1700    56600.0         1\n",
       "2020-01-06  54900  55600  55500  54600   1000    55920.0         0\n",
       "2020-01-07  55700  56400  55800  55600    800    56300.0         1\n",
       "2020-01-08  56200  57400  56800  55900   1500    56680.0         1\n",
       "2020-01-09  58400  58600  58600  57400   1200    59300.0         0\n",
       "...           ...    ...    ...    ...    ...        ...       ...\n",
       "2022-04-25  66500  66700  66300  66300    400    66860.0         0\n",
       "2022-04-26  66400  66700  66100  66100    600    66640.0         1\n",
       "2022-04-27  65400  65500  65000  64900    600    65760.0         0\n",
       "2022-04-28  65400  65500  64800  64500   1000    65760.0         0\n",
       "2022-04-29  65100  67200  66700  65000   2200    65700.0         1\n",
       "\n",
       "[575 rows x 7 columns]"
      ]
     },
     "execution_count": 117,
     "metadata": {},
     "output_type": "execute_result"
    }
   ],
   "source": [
    "df"
   ]
  },
  {
   "cell_type": "code",
   "execution_count": 118,
   "id": "071c6641",
   "metadata": {},
   "outputs": [],
   "source": [
    "p_current = df['Open']\n",
    "p_prev = df['threshold'].shift()\n",
    "df['rtn'] = p_current/ p_prev -1"
   ]
  },
  {
   "cell_type": "code",
   "execution_count": 119,
   "id": "2449f9ad",
   "metadata": {},
   "outputs": [
    {
     "data": {
      "text/html": [
       "<div>\n",
       "<style scoped>\n",
       "    .dataframe tbody tr th:only-of-type {\n",
       "        vertical-align: middle;\n",
       "    }\n",
       "\n",
       "    .dataframe tbody tr th {\n",
       "        vertical-align: top;\n",
       "    }\n",
       "\n",
       "    .dataframe thead th {\n",
       "        text-align: right;\n",
       "    }\n",
       "</style>\n",
       "<table border=\"1\" class=\"dataframe\">\n",
       "  <thead>\n",
       "    <tr style=\"text-align: right;\">\n",
       "      <th></th>\n",
       "      <th>Open</th>\n",
       "      <th>High</th>\n",
       "      <th>Close</th>\n",
       "      <th>Low</th>\n",
       "      <th>range</th>\n",
       "      <th>threshold</th>\n",
       "      <th>position</th>\n",
       "      <th>rtn</th>\n",
       "    </tr>\n",
       "    <tr>\n",
       "      <th>Date</th>\n",
       "      <th></th>\n",
       "      <th></th>\n",
       "      <th></th>\n",
       "      <th></th>\n",
       "      <th></th>\n",
       "      <th></th>\n",
       "      <th></th>\n",
       "      <th></th>\n",
       "    </tr>\n",
       "  </thead>\n",
       "  <tbody>\n",
       "    <tr>\n",
       "      <th>2020-01-03</th>\n",
       "      <td>56000</td>\n",
       "      <td>56600</td>\n",
       "      <td>55500</td>\n",
       "      <td>54900</td>\n",
       "      <td>1700</td>\n",
       "      <td>56600.0</td>\n",
       "      <td>1</td>\n",
       "      <td>NaN</td>\n",
       "    </tr>\n",
       "    <tr>\n",
       "      <th>2020-01-06</th>\n",
       "      <td>54900</td>\n",
       "      <td>55600</td>\n",
       "      <td>55500</td>\n",
       "      <td>54600</td>\n",
       "      <td>1000</td>\n",
       "      <td>55920.0</td>\n",
       "      <td>0</td>\n",
       "      <td>-0.030035</td>\n",
       "    </tr>\n",
       "    <tr>\n",
       "      <th>2020-01-07</th>\n",
       "      <td>55700</td>\n",
       "      <td>56400</td>\n",
       "      <td>55800</td>\n",
       "      <td>55600</td>\n",
       "      <td>800</td>\n",
       "      <td>56300.0</td>\n",
       "      <td>1</td>\n",
       "      <td>-0.003934</td>\n",
       "    </tr>\n",
       "    <tr>\n",
       "      <th>2020-01-08</th>\n",
       "      <td>56200</td>\n",
       "      <td>57400</td>\n",
       "      <td>56800</td>\n",
       "      <td>55900</td>\n",
       "      <td>1500</td>\n",
       "      <td>56680.0</td>\n",
       "      <td>1</td>\n",
       "      <td>-0.001776</td>\n",
       "    </tr>\n",
       "    <tr>\n",
       "      <th>2020-01-09</th>\n",
       "      <td>58400</td>\n",
       "      <td>58600</td>\n",
       "      <td>58600</td>\n",
       "      <td>57400</td>\n",
       "      <td>1200</td>\n",
       "      <td>59300.0</td>\n",
       "      <td>0</td>\n",
       "      <td>0.030346</td>\n",
       "    </tr>\n",
       "    <tr>\n",
       "      <th>...</th>\n",
       "      <td>...</td>\n",
       "      <td>...</td>\n",
       "      <td>...</td>\n",
       "      <td>...</td>\n",
       "      <td>...</td>\n",
       "      <td>...</td>\n",
       "      <td>...</td>\n",
       "      <td>...</td>\n",
       "    </tr>\n",
       "    <tr>\n",
       "      <th>2022-04-25</th>\n",
       "      <td>66500</td>\n",
       "      <td>66700</td>\n",
       "      <td>66300</td>\n",
       "      <td>66300</td>\n",
       "      <td>400</td>\n",
       "      <td>66860.0</td>\n",
       "      <td>0</td>\n",
       "      <td>-0.017435</td>\n",
       "    </tr>\n",
       "    <tr>\n",
       "      <th>2022-04-26</th>\n",
       "      <td>66400</td>\n",
       "      <td>66700</td>\n",
       "      <td>66100</td>\n",
       "      <td>66100</td>\n",
       "      <td>600</td>\n",
       "      <td>66640.0</td>\n",
       "      <td>1</td>\n",
       "      <td>-0.006880</td>\n",
       "    </tr>\n",
       "    <tr>\n",
       "      <th>2022-04-27</th>\n",
       "      <td>65400</td>\n",
       "      <td>65500</td>\n",
       "      <td>65000</td>\n",
       "      <td>64900</td>\n",
       "      <td>600</td>\n",
       "      <td>65760.0</td>\n",
       "      <td>0</td>\n",
       "      <td>-0.018607</td>\n",
       "    </tr>\n",
       "    <tr>\n",
       "      <th>2022-04-28</th>\n",
       "      <td>65400</td>\n",
       "      <td>65500</td>\n",
       "      <td>64800</td>\n",
       "      <td>64500</td>\n",
       "      <td>1000</td>\n",
       "      <td>65760.0</td>\n",
       "      <td>0</td>\n",
       "      <td>-0.005474</td>\n",
       "    </tr>\n",
       "    <tr>\n",
       "      <th>2022-04-29</th>\n",
       "      <td>65100</td>\n",
       "      <td>67200</td>\n",
       "      <td>66700</td>\n",
       "      <td>65000</td>\n",
       "      <td>2200</td>\n",
       "      <td>65700.0</td>\n",
       "      <td>1</td>\n",
       "      <td>-0.010036</td>\n",
       "    </tr>\n",
       "  </tbody>\n",
       "</table>\n",
       "<p>575 rows × 8 columns</p>\n",
       "</div>"
      ],
      "text/plain": [
       "             Open   High  Close    Low  range  threshold  position       rtn\n",
       "Date                                                                        \n",
       "2020-01-03  56000  56600  55500  54900   1700    56600.0         1       NaN\n",
       "2020-01-06  54900  55600  55500  54600   1000    55920.0         0 -0.030035\n",
       "2020-01-07  55700  56400  55800  55600    800    56300.0         1 -0.003934\n",
       "2020-01-08  56200  57400  56800  55900   1500    56680.0         1 -0.001776\n",
       "2020-01-09  58400  58600  58600  57400   1200    59300.0         0  0.030346\n",
       "...           ...    ...    ...    ...    ...        ...       ...       ...\n",
       "2022-04-25  66500  66700  66300  66300    400    66860.0         0 -0.017435\n",
       "2022-04-26  66400  66700  66100  66100    600    66640.0         1 -0.006880\n",
       "2022-04-27  65400  65500  65000  64900    600    65760.0         0 -0.018607\n",
       "2022-04-28  65400  65500  64800  64500   1000    65760.0         0 -0.005474\n",
       "2022-04-29  65100  67200  66700  65000   2200    65700.0         1 -0.010036\n",
       "\n",
       "[575 rows x 8 columns]"
      ]
     },
     "execution_count": 119,
     "metadata": {},
     "output_type": "execute_result"
    }
   ],
   "source": [
    "df"
   ]
  },
  {
   "cell_type": "code",
   "execution_count": 120,
   "id": "5033db79",
   "metadata": {},
   "outputs": [],
   "source": [
    "df['str_rtn'] = df['position'].shift() * df['rtn']\n",
    "df['str_rtn'] = df['str_rtn'].fillna(0)"
   ]
  },
  {
   "cell_type": "code",
   "execution_count": 121,
   "id": "d1a0b431",
   "metadata": {},
   "outputs": [],
   "source": [
    "df.loc[:, 'str_cum_rtn'] = get_cum_returns_df(df['str_rtn'], log=False)"
   ]
  },
  {
   "cell_type": "code",
   "execution_count": 123,
   "id": "0a7ce170",
   "metadata": {},
   "outputs": [
    {
     "data": {
      "text/plain": [
       "<AxesSubplot:xlabel='Date'>"
      ]
     },
     "execution_count": 123,
     "metadata": {},
     "output_type": "execute_result"
    },
    {
     "data": {
      "image/png": "[encoded data removed]",
      "text/plain": [
       "<Figure size 432x288 with 1 Axes>"
      ]
     },
     "metadata": {
      "needs_background": "light"
     },
     "output_type": "display_data"
    }
   ],
   "source": [
    "df['str_cum_rtn'].plot()"
   ]
  },
  {
   "cell_type": "code",
   "execution_count": 124,
   "id": "e411c9dc",
   "metadata": {
    "collapsed": true
   },
   "outputs": [
    {
     "name": "stdout",
     "output_type": "stream",
     "text": [
      "cagr : 0.2992110530693959\n",
      "sharp_ratio : 1.4282388585691228\n",
      "Max_drawdown : -0.12318200796557954\n",
      "Longest_dd_period : -316\n",
      "Longest_dd_st_date : 2021-01-11 00:00:00\n",
      "Longest_dd_ed_date : 2021-11-23 00:00:00\n"
     ]
    }
   ],
   "source": [
    "cr = 'str_cum_rtn'\n",
    "sr = 'str_rtn'\n",
    "\n",
    "backtest_eval(cr, sr)"
   ]
  },
  {
   "cell_type": "code",
   "execution_count": null,
   "id": "5b3f2766",
   "metadata": {},
   "outputs": [],
   "source": []
  },
  {
   "cell_type": "code",
   "execution_count": null,
   "id": "a3e92a94",
   "metadata": {},
   "outputs": [],
   "source": []
  },
  {
   "cell_type": "code",
   "execution_count": null,
   "id": "52a44dc2",
   "metadata": {},
   "outputs": [],
   "source": []
  }
 ],
 "metadata": {
  "kernelspec": {
   "display_name": "Python 3 (ipykernel)",
   "language": "python",
   "name": "python3"
  },
  "language_info": {
   "codemirror_mode": {
    "name": "ipython",
    "version": 3
   },
   "file_extension": ".py",
   "mimetype": "text/x-python",
   "name": "python",
   "nbconvert_exporter": "python",
   "pygments_lexer": "ipython3",
   "version": "3.9.7"
  }
 },
 "nbformat": 4,
 "nbformat_minor": 5
}
