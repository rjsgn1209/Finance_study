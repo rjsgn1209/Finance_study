{
 "cells": [
  {
   "cell_type": "code",
   "execution_count": 1,
   "id": "5d4a8e3a",
   "metadata": {},
   "outputs": [],
   "source": [
    "# Log Return\n",
    "\n",
    "# CAGR\n",
    "# Sharp ratio\n",
    "# Maxdraw down"
   ]
  },
  {
   "cell_type": "code",
   "execution_count": null,
   "id": "8b85744d",
   "metadata": {},
   "outputs": [],
   "source": []
  },
  {
   "cell_type": "code",
   "execution_count": 2,
   "id": "38060821",
   "metadata": {},
   "outputs": [],
   "source": [
    "import pandas as pd\n",
    "import numpy as np\n",
    "import matplotlib.pyplot as plt\n",
    "import seaborn as sns"
   ]
  },
  {
   "cell_type": "code",
   "execution_count": 3,
   "id": "e76f98c3",
   "metadata": {},
   "outputs": [],
   "source": [
    "import FinanceDataReader as fdr"
   ]
  },
  {
   "cell_type": "code",
   "execution_count": 54,
   "id": "2921b40e",
   "metadata": {},
   "outputs": [],
   "source": [
    "df1 = fdr.DataReader('005930', '2018-01-02', '2018-10-30')\n",
    "df2 = fdr.DataReader('069500', '2018-01-02', '2018-10-30')"
   ]
  },
  {
   "cell_type": "code",
   "execution_count": 55,
   "id": "7bb1868a",
   "metadata": {},
   "outputs": [
    {
     "data": {
      "text/html": [
       "<div>\n",
       "<style scoped>\n",
       "    .dataframe tbody tr th:only-of-type {\n",
       "        vertical-align: middle;\n",
       "    }\n",
       "\n",
       "    .dataframe tbody tr th {\n",
       "        vertical-align: top;\n",
       "    }\n",
       "\n",
       "    .dataframe thead th {\n",
       "        text-align: right;\n",
       "    }\n",
       "</style>\n",
       "<table border=\"1\" class=\"dataframe\">\n",
       "  <thead>\n",
       "    <tr style=\"text-align: right;\">\n",
       "      <th></th>\n",
       "      <th>Close</th>\n",
       "      <th>Close</th>\n",
       "    </tr>\n",
       "    <tr>\n",
       "      <th>Date</th>\n",
       "      <th></th>\n",
       "      <th></th>\n",
       "    </tr>\n",
       "  </thead>\n",
       "  <tbody>\n",
       "    <tr>\n",
       "      <th>2018-01-02</th>\n",
       "      <td>51020</td>\n",
       "      <td>29836</td>\n",
       "    </tr>\n",
       "    <tr>\n",
       "      <th>2018-01-03</th>\n",
       "      <td>51620</td>\n",
       "      <td>29964</td>\n",
       "    </tr>\n",
       "    <tr>\n",
       "      <th>2018-01-04</th>\n",
       "      <td>51080</td>\n",
       "      <td>29727</td>\n",
       "    </tr>\n",
       "    <tr>\n",
       "      <th>2018-01-05</th>\n",
       "      <td>52120</td>\n",
       "      <td>30131</td>\n",
       "    </tr>\n",
       "    <tr>\n",
       "      <th>2018-01-08</th>\n",
       "      <td>52020</td>\n",
       "      <td>30333</td>\n",
       "    </tr>\n",
       "  </tbody>\n",
       "</table>\n",
       "</div>"
      ],
      "text/plain": [
       "            Close  Close\n",
       "Date                    \n",
       "2018-01-02  51020  29836\n",
       "2018-01-03  51620  29964\n",
       "2018-01-04  51080  29727\n",
       "2018-01-05  52120  30131\n",
       "2018-01-08  52020  30333"
      ]
     },
     "execution_count": 55,
     "metadata": {},
     "output_type": "execute_result"
    }
   ],
   "source": [
    "df = pd.concat([df1['Close'], df2['Close']], axis=1)\n",
    "df.head()"
   ]
  },
  {
   "cell_type": "code",
   "execution_count": 56,
   "id": "fc670592",
   "metadata": {
    "collapsed": true
   },
   "outputs": [
    {
     "data": {
      "text/html": [
       "<div>\n",
       "<style scoped>\n",
       "    .dataframe tbody tr th:only-of-type {\n",
       "        vertical-align: middle;\n",
       "    }\n",
       "\n",
       "    .dataframe tbody tr th {\n",
       "        vertical-align: top;\n",
       "    }\n",
       "\n",
       "    .dataframe thead th {\n",
       "        text-align: right;\n",
       "    }\n",
       "</style>\n",
       "<table border=\"1\" class=\"dataframe\">\n",
       "  <thead>\n",
       "    <tr style=\"text-align: right;\">\n",
       "      <th></th>\n",
       "      <th>삼성전자</th>\n",
       "      <th>kodex200</th>\n",
       "    </tr>\n",
       "    <tr>\n",
       "      <th>Date</th>\n",
       "      <th></th>\n",
       "      <th></th>\n",
       "    </tr>\n",
       "  </thead>\n",
       "  <tbody>\n",
       "    <tr>\n",
       "      <th>2018-01-02</th>\n",
       "      <td>51020</td>\n",
       "      <td>29836</td>\n",
       "    </tr>\n",
       "    <tr>\n",
       "      <th>2018-01-03</th>\n",
       "      <td>51620</td>\n",
       "      <td>29964</td>\n",
       "    </tr>\n",
       "    <tr>\n",
       "      <th>2018-01-04</th>\n",
       "      <td>51080</td>\n",
       "      <td>29727</td>\n",
       "    </tr>\n",
       "    <tr>\n",
       "      <th>2018-01-05</th>\n",
       "      <td>52120</td>\n",
       "      <td>30131</td>\n",
       "    </tr>\n",
       "    <tr>\n",
       "      <th>2018-01-08</th>\n",
       "      <td>52020</td>\n",
       "      <td>30333</td>\n",
       "    </tr>\n",
       "  </tbody>\n",
       "</table>\n",
       "</div>"
      ],
      "text/plain": [
       "             삼성전자  kodex200\n",
       "Date                       \n",
       "2018-01-02  51020     29836\n",
       "2018-01-03  51620     29964\n",
       "2018-01-04  51080     29727\n",
       "2018-01-05  52120     30131\n",
       "2018-01-08  52020     30333"
      ]
     },
     "execution_count": 56,
     "metadata": {},
     "output_type": "execute_result"
    }
   ],
   "source": [
    "df.columns = ['삼성전자', 'kodex200']\n",
    "df.head()"
   ]
  },
  {
   "cell_type": "code",
   "execution_count": null,
   "id": "a1505011",
   "metadata": {},
   "outputs": [],
   "source": []
  },
  {
   "cell_type": "code",
   "execution_count": 57,
   "id": "c47dd860",
   "metadata": {
    "collapsed": true
   },
   "outputs": [
    {
     "data": {
      "text/html": [
       "<div>\n",
       "<style scoped>\n",
       "    .dataframe tbody tr th:only-of-type {\n",
       "        vertical-align: middle;\n",
       "    }\n",
       "\n",
       "    .dataframe tbody tr th {\n",
       "        vertical-align: top;\n",
       "    }\n",
       "\n",
       "    .dataframe thead th {\n",
       "        text-align: right;\n",
       "    }\n",
       "</style>\n",
       "<table border=\"1\" class=\"dataframe\">\n",
       "  <thead>\n",
       "    <tr style=\"text-align: right;\">\n",
       "      <th></th>\n",
       "      <th>삼성전자</th>\n",
       "      <th>kodex200</th>\n",
       "    </tr>\n",
       "    <tr>\n",
       "      <th>Date</th>\n",
       "      <th></th>\n",
       "      <th></th>\n",
       "    </tr>\n",
       "  </thead>\n",
       "  <tbody>\n",
       "    <tr>\n",
       "      <th>2018-01-02</th>\n",
       "      <td>0.000000</td>\n",
       "      <td>0.000000</td>\n",
       "    </tr>\n",
       "    <tr>\n",
       "      <th>2018-01-03</th>\n",
       "      <td>0.011760</td>\n",
       "      <td>0.004290</td>\n",
       "    </tr>\n",
       "    <tr>\n",
       "      <th>2018-01-04</th>\n",
       "      <td>-0.010461</td>\n",
       "      <td>-0.007909</td>\n",
       "    </tr>\n",
       "    <tr>\n",
       "      <th>2018-01-05</th>\n",
       "      <td>0.020360</td>\n",
       "      <td>0.013590</td>\n",
       "    </tr>\n",
       "    <tr>\n",
       "      <th>2018-01-08</th>\n",
       "      <td>-0.001919</td>\n",
       "      <td>0.006704</td>\n",
       "    </tr>\n",
       "    <tr>\n",
       "      <th>...</th>\n",
       "      <td>...</td>\n",
       "      <td>...</td>\n",
       "    </tr>\n",
       "    <tr>\n",
       "      <th>2018-10-24</th>\n",
       "      <td>-0.011614</td>\n",
       "      <td>-0.005153</td>\n",
       "    </tr>\n",
       "    <tr>\n",
       "      <th>2018-10-25</th>\n",
       "      <td>-0.036428</td>\n",
       "      <td>-0.015976</td>\n",
       "    </tr>\n",
       "    <tr>\n",
       "      <th>2018-10-26</th>\n",
       "      <td>0.000000</td>\n",
       "      <td>-0.015871</td>\n",
       "    </tr>\n",
       "    <tr>\n",
       "      <th>2018-10-29</th>\n",
       "      <td>0.009756</td>\n",
       "      <td>-0.008064</td>\n",
       "    </tr>\n",
       "    <tr>\n",
       "      <th>2018-10-30</th>\n",
       "      <td>0.022947</td>\n",
       "      <td>0.006926</td>\n",
       "    </tr>\n",
       "  </tbody>\n",
       "</table>\n",
       "<p>202 rows × 2 columns</p>\n",
       "</div>"
      ],
      "text/plain": [
       "                삼성전자  kodex200\n",
       "Date                          \n",
       "2018-01-02  0.000000  0.000000\n",
       "2018-01-03  0.011760  0.004290\n",
       "2018-01-04 -0.010461 -0.007909\n",
       "2018-01-05  0.020360  0.013590\n",
       "2018-01-08 -0.001919  0.006704\n",
       "...              ...       ...\n",
       "2018-10-24 -0.011614 -0.005153\n",
       "2018-10-25 -0.036428 -0.015976\n",
       "2018-10-26  0.000000 -0.015871\n",
       "2018-10-29  0.009756 -0.008064\n",
       "2018-10-30  0.022947  0.006926\n",
       "\n",
       "[202 rows x 2 columns]"
      ]
     },
     "execution_count": 57,
     "metadata": {},
     "output_type": "execute_result"
    }
   ],
   "source": [
    "# simple return\n",
    "\n",
    "simple_rtn_df = df.pct_change(1).fillna(0)\n",
    "simple_rtn_df"
   ]
  },
  {
   "cell_type": "code",
   "execution_count": null,
   "id": "7e88371a",
   "metadata": {},
   "outputs": [],
   "source": []
  },
  {
   "cell_type": "code",
   "execution_count": 70,
   "id": "ecc19347",
   "metadata": {
    "collapsed": true
   },
   "outputs": [
    {
     "data": {
      "text/html": [
       "<div>\n",
       "<style scoped>\n",
       "    .dataframe tbody tr th:only-of-type {\n",
       "        vertical-align: middle;\n",
       "    }\n",
       "\n",
       "    .dataframe tbody tr th {\n",
       "        vertical-align: top;\n",
       "    }\n",
       "\n",
       "    .dataframe thead th {\n",
       "        text-align: right;\n",
       "    }\n",
       "</style>\n",
       "<table border=\"1\" class=\"dataframe\">\n",
       "  <thead>\n",
       "    <tr style=\"text-align: right;\">\n",
       "      <th></th>\n",
       "      <th>삼성전자</th>\n",
       "      <th>kodex200</th>\n",
       "    </tr>\n",
       "    <tr>\n",
       "      <th>Date</th>\n",
       "      <th></th>\n",
       "      <th></th>\n",
       "    </tr>\n",
       "  </thead>\n",
       "  <tbody>\n",
       "    <tr>\n",
       "      <th>2018-01-02</th>\n",
       "      <td>0.000000</td>\n",
       "      <td>0.000000</td>\n",
       "    </tr>\n",
       "    <tr>\n",
       "      <th>2018-01-03</th>\n",
       "      <td>0.011691</td>\n",
       "      <td>0.004281</td>\n",
       "    </tr>\n",
       "    <tr>\n",
       "      <th>2018-01-04</th>\n",
       "      <td>-0.010516</td>\n",
       "      <td>-0.007941</td>\n",
       "    </tr>\n",
       "    <tr>\n",
       "      <th>2018-01-05</th>\n",
       "      <td>0.020156</td>\n",
       "      <td>0.013499</td>\n",
       "    </tr>\n",
       "    <tr>\n",
       "      <th>2018-01-08</th>\n",
       "      <td>-0.001920</td>\n",
       "      <td>0.006682</td>\n",
       "    </tr>\n",
       "    <tr>\n",
       "      <th>...</th>\n",
       "      <td>...</td>\n",
       "      <td>...</td>\n",
       "    </tr>\n",
       "    <tr>\n",
       "      <th>2018-10-24</th>\n",
       "      <td>-0.011682</td>\n",
       "      <td>-0.005166</td>\n",
       "    </tr>\n",
       "    <tr>\n",
       "      <th>2018-10-25</th>\n",
       "      <td>-0.037108</td>\n",
       "      <td>-0.016105</td>\n",
       "    </tr>\n",
       "    <tr>\n",
       "      <th>2018-10-26</th>\n",
       "      <td>0.000000</td>\n",
       "      <td>-0.015998</td>\n",
       "    </tr>\n",
       "    <tr>\n",
       "      <th>2018-10-29</th>\n",
       "      <td>0.009709</td>\n",
       "      <td>-0.008096</td>\n",
       "    </tr>\n",
       "    <tr>\n",
       "      <th>2018-10-30</th>\n",
       "      <td>0.022688</td>\n",
       "      <td>0.006902</td>\n",
       "    </tr>\n",
       "  </tbody>\n",
       "</table>\n",
       "<p>202 rows × 2 columns</p>\n",
       "</div>"
      ],
      "text/plain": [
       "                삼성전자  kodex200\n",
       "Date                          \n",
       "2018-01-02  0.000000  0.000000\n",
       "2018-01-03  0.011691  0.004281\n",
       "2018-01-04 -0.010516 -0.007941\n",
       "2018-01-05  0.020156  0.013499\n",
       "2018-01-08 -0.001920  0.006682\n",
       "...              ...       ...\n",
       "2018-10-24 -0.011682 -0.005166\n",
       "2018-10-25 -0.037108 -0.016105\n",
       "2018-10-26  0.000000 -0.015998\n",
       "2018-10-29  0.009709 -0.008096\n",
       "2018-10-30  0.022688  0.006902\n",
       "\n",
       "[202 rows x 2 columns]"
      ]
     },
     "execution_count": 70,
     "metadata": {},
     "output_type": "execute_result"
    }
   ],
   "source": [
    "# log return\n",
    "\n",
    "log_rtn_df = np.log(df/df.shift(1)).fillna(0)\n",
    "log_rtn_df"
   ]
  },
  {
   "cell_type": "code",
   "execution_count": null,
   "id": "c8c503f7",
   "metadata": {},
   "outputs": [],
   "source": []
  },
  {
   "cell_type": "code",
   "execution_count": 59,
   "id": "87bf7bb7",
   "metadata": {
    "collapsed": true
   },
   "outputs": [
    {
     "name": "stderr",
     "output_type": "stream",
     "text": [
      "C:\\Users\\bitcamp\\anaconda3\\lib\\site-packages\\matplotlib\\backends\\backend_agg.py:240: RuntimeWarning: Glyph 49340 missing from current font.\n",
      "  font.set_text(s, 0.0, flags=flags)\n",
      "C:\\Users\\bitcamp\\anaconda3\\lib\\site-packages\\matplotlib\\backends\\backend_agg.py:240: RuntimeWarning: Glyph 49457 missing from current font.\n",
      "  font.set_text(s, 0.0, flags=flags)\n",
      "C:\\Users\\bitcamp\\anaconda3\\lib\\site-packages\\matplotlib\\backends\\backend_agg.py:240: RuntimeWarning: Glyph 51204 missing from current font.\n",
      "  font.set_text(s, 0.0, flags=flags)\n",
      "C:\\Users\\bitcamp\\anaconda3\\lib\\site-packages\\matplotlib\\backends\\backend_agg.py:240: RuntimeWarning: Glyph 51088 missing from current font.\n",
      "  font.set_text(s, 0.0, flags=flags)\n",
      "C:\\Users\\bitcamp\\anaconda3\\lib\\site-packages\\matplotlib\\backends\\backend_agg.py:203: RuntimeWarning: Glyph 49340 missing from current font.\n",
      "  font.set_text(s, 0, flags=flags)\n",
      "C:\\Users\\bitcamp\\anaconda3\\lib\\site-packages\\matplotlib\\backends\\backend_agg.py:203: RuntimeWarning: Glyph 49457 missing from current font.\n",
      "  font.set_text(s, 0, flags=flags)\n",
      "C:\\Users\\bitcamp\\anaconda3\\lib\\site-packages\\matplotlib\\backends\\backend_agg.py:203: RuntimeWarning: Glyph 51204 missing from current font.\n",
      "  font.set_text(s, 0, flags=flags)\n",
      "C:\\Users\\bitcamp\\anaconda3\\lib\\site-packages\\matplotlib\\backends\\backend_agg.py:203: RuntimeWarning: Glyph 51088 missing from current font.\n",
      "  font.set_text(s, 0, flags=flags)\n"
     ]
    },
    {
     "data": {
      "image/png": "[encoded data removed]",
      "text/plain": [
       "<Figure size 432x288 with 1 Axes>"
      ]
     },
     "metadata": {
      "needs_background": "light"
     },
     "output_type": "display_data"
    }
   ],
   "source": [
    "log_rtn_df.plot()\n",
    "plt.show()"
   ]
  },
  {
   "cell_type": "code",
   "execution_count": 21,
   "id": "04114ea8",
   "metadata": {},
   "outputs": [
    {
     "data": {
      "text/plain": [
       "<AxesSubplot:ylabel='Frequency'>"
      ]
     },
     "execution_count": 21,
     "metadata": {},
     "output_type": "execute_result"
    },
    {
     "data": {
      "image/png": "[encoded data removed]",
      "text/plain": [
       "<Figure size 432x288 with 1 Axes>"
      ]
     },
     "metadata": {
      "needs_background": "light"
     },
     "output_type": "display_data"
    }
   ],
   "source": [
    "log_rtn_df.plot(kind='hist', bins=50)"
   ]
  },
  {
   "cell_type": "code",
   "execution_count": null,
   "id": "1d9d18ba",
   "metadata": {},
   "outputs": [],
   "source": []
  },
  {
   "cell_type": "code",
   "execution_count": null,
   "id": "aa6c0dee",
   "metadata": {},
   "outputs": [],
   "source": []
  },
  {
   "cell_type": "code",
   "execution_count": null,
   "id": "ead10443",
   "metadata": {},
   "outputs": [],
   "source": [
    "# 누적수익률"
   ]
  },
  {
   "cell_type": "code",
   "execution_count": 66,
   "id": "f5fd476f",
   "metadata": {
    "collapsed": true
   },
   "outputs": [
    {
     "data": {
      "text/html": [
       "<div>\n",
       "<style scoped>\n",
       "    .dataframe tbody tr th:only-of-type {\n",
       "        vertical-align: middle;\n",
       "    }\n",
       "\n",
       "    .dataframe tbody tr th {\n",
       "        vertical-align: top;\n",
       "    }\n",
       "\n",
       "    .dataframe thead th {\n",
       "        text-align: right;\n",
       "    }\n",
       "</style>\n",
       "<table border=\"1\" class=\"dataframe\">\n",
       "  <thead>\n",
       "    <tr style=\"text-align: right;\">\n",
       "      <th></th>\n",
       "      <th>삼성전자</th>\n",
       "      <th>kodex200</th>\n",
       "    </tr>\n",
       "    <tr>\n",
       "      <th>Date</th>\n",
       "      <th></th>\n",
       "      <th></th>\n",
       "    </tr>\n",
       "  </thead>\n",
       "  <tbody>\n",
       "    <tr>\n",
       "      <th>2018-01-02</th>\n",
       "      <td>1.000000</td>\n",
       "      <td>1.000000</td>\n",
       "    </tr>\n",
       "    <tr>\n",
       "      <th>2018-01-03</th>\n",
       "      <td>1.011760</td>\n",
       "      <td>1.004290</td>\n",
       "    </tr>\n",
       "    <tr>\n",
       "      <th>2018-01-04</th>\n",
       "      <td>1.001176</td>\n",
       "      <td>0.996347</td>\n",
       "    </tr>\n",
       "    <tr>\n",
       "      <th>2018-01-05</th>\n",
       "      <td>1.021560</td>\n",
       "      <td>1.009887</td>\n",
       "    </tr>\n",
       "    <tr>\n",
       "      <th>2018-01-08</th>\n",
       "      <td>1.019600</td>\n",
       "      <td>1.016658</td>\n",
       "    </tr>\n",
       "    <tr>\n",
       "      <th>...</th>\n",
       "      <td>...</td>\n",
       "      <td>...</td>\n",
       "    </tr>\n",
       "    <tr>\n",
       "      <th>2018-10-24</th>\n",
       "      <td>0.833987</td>\n",
       "      <td>0.841266</td>\n",
       "    </tr>\n",
       "    <tr>\n",
       "      <th>2018-10-25</th>\n",
       "      <td>0.803606</td>\n",
       "      <td>0.827825</td>\n",
       "    </tr>\n",
       "    <tr>\n",
       "      <th>2018-10-26</th>\n",
       "      <td>0.803606</td>\n",
       "      <td>0.814687</td>\n",
       "    </tr>\n",
       "    <tr>\n",
       "      <th>2018-10-29</th>\n",
       "      <td>0.811446</td>\n",
       "      <td>0.808118</td>\n",
       "    </tr>\n",
       "    <tr>\n",
       "      <th>2018-10-30</th>\n",
       "      <td>0.830067</td>\n",
       "      <td>0.813715</td>\n",
       "    </tr>\n",
       "  </tbody>\n",
       "</table>\n",
       "<p>202 rows × 2 columns</p>\n",
       "</div>"
      ],
      "text/plain": [
       "                삼성전자  kodex200\n",
       "Date                          \n",
       "2018-01-02  1.000000  1.000000\n",
       "2018-01-03  1.011760  1.004290\n",
       "2018-01-04  1.001176  0.996347\n",
       "2018-01-05  1.021560  1.009887\n",
       "2018-01-08  1.019600  1.016658\n",
       "...              ...       ...\n",
       "2018-10-24  0.833987  0.841266\n",
       "2018-10-25  0.803606  0.827825\n",
       "2018-10-26  0.803606  0.814687\n",
       "2018-10-29  0.811446  0.808118\n",
       "2018-10-30  0.830067  0.813715\n",
       "\n",
       "[202 rows x 2 columns]"
      ]
     },
     "execution_count": 66,
     "metadata": {},
     "output_type": "execute_result"
    }
   ],
   "source": [
    "cum_rtn_df = (simple_rtn_df + 1).cumprod()\n",
    "cum_rtn_df"
   ]
  },
  {
   "cell_type": "code",
   "execution_count": 61,
   "id": "111b6081",
   "metadata": {
    "collapsed": true
   },
   "outputs": [
    {
     "data": {
      "text/html": [
       "<div>\n",
       "<style scoped>\n",
       "    .dataframe tbody tr th:only-of-type {\n",
       "        vertical-align: middle;\n",
       "    }\n",
       "\n",
       "    .dataframe tbody tr th {\n",
       "        vertical-align: top;\n",
       "    }\n",
       "\n",
       "    .dataframe thead th {\n",
       "        text-align: right;\n",
       "    }\n",
       "</style>\n",
       "<table border=\"1\" class=\"dataframe\">\n",
       "  <thead>\n",
       "    <tr style=\"text-align: right;\">\n",
       "      <th></th>\n",
       "      <th>삼성전자</th>\n",
       "      <th>kodex200</th>\n",
       "    </tr>\n",
       "    <tr>\n",
       "      <th>Date</th>\n",
       "      <th></th>\n",
       "      <th></th>\n",
       "    </tr>\n",
       "  </thead>\n",
       "  <tbody>\n",
       "    <tr>\n",
       "      <th>2018-01-02</th>\n",
       "      <td>1.000000</td>\n",
       "      <td>1.000000</td>\n",
       "    </tr>\n",
       "    <tr>\n",
       "      <th>2018-01-03</th>\n",
       "      <td>1.011760</td>\n",
       "      <td>1.004290</td>\n",
       "    </tr>\n",
       "    <tr>\n",
       "      <th>2018-01-04</th>\n",
       "      <td>1.001176</td>\n",
       "      <td>0.996347</td>\n",
       "    </tr>\n",
       "    <tr>\n",
       "      <th>2018-01-05</th>\n",
       "      <td>1.021560</td>\n",
       "      <td>1.009887</td>\n",
       "    </tr>\n",
       "    <tr>\n",
       "      <th>2018-01-08</th>\n",
       "      <td>1.019600</td>\n",
       "      <td>1.016658</td>\n",
       "    </tr>\n",
       "    <tr>\n",
       "      <th>...</th>\n",
       "      <td>...</td>\n",
       "      <td>...</td>\n",
       "    </tr>\n",
       "    <tr>\n",
       "      <th>2018-10-24</th>\n",
       "      <td>0.833987</td>\n",
       "      <td>0.841266</td>\n",
       "    </tr>\n",
       "    <tr>\n",
       "      <th>2018-10-25</th>\n",
       "      <td>0.803606</td>\n",
       "      <td>0.827825</td>\n",
       "    </tr>\n",
       "    <tr>\n",
       "      <th>2018-10-26</th>\n",
       "      <td>0.803606</td>\n",
       "      <td>0.814687</td>\n",
       "    </tr>\n",
       "    <tr>\n",
       "      <th>2018-10-29</th>\n",
       "      <td>0.811446</td>\n",
       "      <td>0.808118</td>\n",
       "    </tr>\n",
       "    <tr>\n",
       "      <th>2018-10-30</th>\n",
       "      <td>0.830067</td>\n",
       "      <td>0.813715</td>\n",
       "    </tr>\n",
       "  </tbody>\n",
       "</table>\n",
       "<p>202 rows × 2 columns</p>\n",
       "</div>"
      ],
      "text/plain": [
       "                삼성전자  kodex200\n",
       "Date                          \n",
       "2018-01-02  1.000000  1.000000\n",
       "2018-01-03  1.011760  1.004290\n",
       "2018-01-04  1.001176  0.996347\n",
       "2018-01-05  1.021560  1.009887\n",
       "2018-01-08  1.019600  1.016658\n",
       "...              ...       ...\n",
       "2018-10-24  0.833987  0.841266\n",
       "2018-10-25  0.803606  0.827825\n",
       "2018-10-26  0.803606  0.814687\n",
       "2018-10-29  0.811446  0.808118\n",
       "2018-10-30  0.830067  0.813715\n",
       "\n",
       "[202 rows x 2 columns]"
      ]
     },
     "execution_count": 61,
     "metadata": {},
     "output_type": "execute_result"
    }
   ],
   "source": [
    "log_rtn_df.cumsum()\n",
    "np.exp(log_rtn_df.cumsum())"
   ]
  },
  {
   "cell_type": "code",
   "execution_count": null,
   "id": "149a9a4a",
   "metadata": {},
   "outputs": [],
   "source": []
  },
  {
   "cell_type": "markdown",
   "id": "d9207953",
   "metadata": {},
   "source": [
    "### Log Return"
   ]
  },
  {
   "cell_type": "code",
   "execution_count": 72,
   "id": "5298ca65",
   "metadata": {},
   "outputs": [],
   "source": [
    "def get_annualized_returns_series(log_return_df, num_day_in_year=250):\n",
    "    return (log_return_df.mean() * num_day_in_year).round(2)\n",
    "\n",
    "def get_annualized_std_series(log_return_df, num_day_in_year=250):\n",
    "    return (log_return_df.std() * (num_day_in_year ** 0.5)).round(2)\n",
    "\n",
    "# var1 + var1 + var1.... => n * var1 => std1 * np.sqrt(n)"
   ]
  },
  {
   "cell_type": "code",
   "execution_count": null,
   "id": "243fdf97",
   "metadata": {},
   "outputs": [],
   "source": []
  },
  {
   "cell_type": "code",
   "execution_count": null,
   "id": "d6e2d07b",
   "metadata": {},
   "outputs": [],
   "source": []
  },
  {
   "cell_type": "code",
   "execution_count": 73,
   "id": "5b334bea",
   "metadata": {},
   "outputs": [
    {
     "data": {
      "text/plain": [
       "삼성전자       -0.23\n",
       "kodex200   -0.26\n",
       "dtype: float64"
      ]
     },
     "execution_count": 73,
     "metadata": {},
     "output_type": "execute_result"
    }
   ],
   "source": [
    "get_annualized_returns_series(log_rtn_df, num_day_in_year=250)  # 연평균 로그수익률"
   ]
  },
  {
   "cell_type": "code",
   "execution_count": 75,
   "id": "25407fb3",
   "metadata": {},
   "outputs": [
    {
     "data": {
      "text/plain": [
       "삼성전자        0.27\n",
       "kodex200    0.14\n",
       "dtype: float64"
      ]
     },
     "execution_count": 75,
     "metadata": {},
     "output_type": "execute_result"
    }
   ],
   "source": [
    "get_annualized_std_series(log_rtn_df, num_day_in_year=250)  # 연평균 로그수익률의 표준편차"
   ]
  },
  {
   "cell_type": "code",
   "execution_count": null,
   "id": "6fb3b234",
   "metadata": {},
   "outputs": [],
   "source": []
  },
  {
   "cell_type": "markdown",
   "id": "1c740391",
   "metadata": {},
   "source": [
    "### CAGR (연환산 복리수익률)"
   ]
  },
  {
   "cell_type": "code",
   "execution_count": 62,
   "id": "92024e04",
   "metadata": {
    "collapsed": true
   },
   "outputs": [
    {
     "data": {
      "text/plain": [
       "삼성전자        0.830067\n",
       "kodex200    0.813715\n",
       "Name: 2018-10-30 00:00:00, dtype: float64"
      ]
     },
     "execution_count": 62,
     "metadata": {},
     "output_type": "execute_result"
    }
   ],
   "source": [
    "cum_rtn_df.iloc[-1]  # 10개월 누적 복리수익률"
   ]
  },
  {
   "cell_type": "code",
   "execution_count": 63,
   "id": "f125ad1d",
   "metadata": {
    "collapsed": true
   },
   "outputs": [
    {
     "data": {
      "text/plain": [
       "삼성전자        0.792668\n",
       "kodex200    0.773236\n",
       "Name: 2018-10-30 00:00:00, dtype: float64"
      ]
     },
     "execution_count": 63,
     "metadata": {},
     "output_type": "execute_result"
    }
   ],
   "source": [
    "num_day_in_year = 252\n",
    "\n",
    "cum_rtn_df.iloc[-1]**(252/ len(cum_rtn_df))"
   ]
  },
  {
   "cell_type": "code",
   "execution_count": null,
   "id": "564811c5",
   "metadata": {},
   "outputs": [],
   "source": []
  },
  {
   "cell_type": "code",
   "execution_count": 64,
   "id": "4aad3411",
   "metadata": {},
   "outputs": [
    {
     "data": {
      "text/plain": [
       "202"
      ]
     },
     "execution_count": 64,
     "metadata": {},
     "output_type": "execute_result"
    }
   ],
   "source": [
    "len(cum_rtn_df)"
   ]
  },
  {
   "cell_type": "code",
   "execution_count": 65,
   "id": "aec7ae3c",
   "metadata": {},
   "outputs": [
    {
     "data": {
      "text/plain": [
       "1.2376237623762376"
      ]
     },
     "execution_count": 65,
     "metadata": {},
     "output_type": "execute_result"
    }
   ],
   "source": [
    "250/len(cum_rtn_df)"
   ]
  },
  {
   "cell_type": "code",
   "execution_count": 45,
   "id": "9f450611",
   "metadata": {},
   "outputs": [],
   "source": [
    "# 연 평균 복리수익률\n",
    "\n",
    "def get_cagr_series(cum_rtn_df, num_day_in_year = 250):\n",
    "    cagr_series = cum_rtn_df.iloc[-1]**(num_day_in_year/(len(cum_rtn_df))) - 1\n",
    "    return cagr_series"
   ]
  },
  {
   "cell_type": "code",
   "execution_count": 46,
   "id": "9ba86014",
   "metadata": {
    "collapsed": true
   },
   "outputs": [
    {
     "data": {
      "text/plain": [
       "삼성전자       -0.205869\n",
       "kodex200   -0.225184\n",
       "Name: 2018-10-30 00:00:00, dtype: float64"
      ]
     },
     "execution_count": 46,
     "metadata": {},
     "output_type": "execute_result"
    }
   ],
   "source": [
    "get_cagr_series(cum_rtn_df, num_day_in_year = 250)"
   ]
  },
  {
   "cell_type": "code",
   "execution_count": null,
   "id": "794ef1cf",
   "metadata": {},
   "outputs": [],
   "source": []
  },
  {
   "cell_type": "code",
   "execution_count": 47,
   "id": "b308467d",
   "metadata": {},
   "outputs": [],
   "source": [
    "temp_df = fdr.DataReader('069500', '2019-01-02', '2020-10-30')"
   ]
  },
  {
   "cell_type": "code",
   "execution_count": 52,
   "id": "572b9feb",
   "metadata": {},
   "outputs": [
    {
     "data": {
      "text/plain": [
       "0.10478620660928994"
      ]
     },
     "execution_count": 52,
     "metadata": {},
     "output_type": "execute_result"
    }
   ],
   "source": [
    "log_rtn_df = np.log(temp_df.pct_change() + 1).fillna(0)\n",
    "log_rtn_df = log_rtn_df['Close']\n",
    "cum_rtn_df = np.exp(log_rtn_df.cumsum())\n",
    "get_cagr_series(cum_rtn_df, num_day_in_year = 250)"
   ]
  },
  {
   "cell_type": "code",
   "execution_count": null,
   "id": "ce80f155",
   "metadata": {},
   "outputs": [],
   "source": []
  },
  {
   "cell_type": "code",
   "execution_count": null,
   "id": "29b59f63",
   "metadata": {},
   "outputs": [],
   "source": []
  },
  {
   "cell_type": "markdown",
   "id": "f8947e26",
   "metadata": {},
   "source": [
    "### Sharp ratio"
   ]
  },
  {
   "cell_type": "code",
   "execution_count": null,
   "id": "8e2800f9",
   "metadata": {},
   "outputs": [],
   "source": [
    "# sharp ratio = 초과수익률/변동성"
   ]
  },
  {
   "cell_type": "code",
   "execution_count": 76,
   "id": "95ff118e",
   "metadata": {},
   "outputs": [
    {
     "data": {
      "text/plain": [
       "삼성전자       -0.937691\n",
       "kodex200   -1.950080\n",
       "dtype: float64"
      ]
     },
     "execution_count": 76,
     "metadata": {},
     "output_type": "execute_result"
    }
   ],
   "source": [
    "yearly_rfr = 0.025\n",
    "excess_rtns = log_rtn_df.mean()*252 - yearly_rfr\n",
    "excess_rtns / (log_rtn_df.std() * np.sqrt(252))"
   ]
  },
  {
   "cell_type": "code",
   "execution_count": 77,
   "id": "b5f169f0",
   "metadata": {},
   "outputs": [],
   "source": [
    "def get_sharpe_ratio(log_rtn_df, yearly_rfr = 0.025):\n",
    "    excess_rtns = log_rtn_df.mean()*252 - yearly_rfr\n",
    "    return excess_rtns / (log_rtn_df.std() * np.sqrt(252))"
   ]
  },
  {
   "cell_type": "code",
   "execution_count": null,
   "id": "88c46582",
   "metadata": {},
   "outputs": [],
   "source": []
  },
  {
   "cell_type": "code",
   "execution_count": null,
   "id": "0fdd9c38",
   "metadata": {},
   "outputs": [],
   "source": []
  },
  {
   "cell_type": "markdown",
   "id": "d7227d81",
   "metadata": {},
   "source": [
    "### Drawdown"
   ]
  },
  {
   "cell_type": "code",
   "execution_count": 83,
   "id": "f3dbce59",
   "metadata": {},
   "outputs": [],
   "source": [
    "temp_df = fdr.DataReader('069500', '2019-01-02', '2020-10-30')\n",
    "\n",
    "log_rtn_df = np.log(temp_df.pct_change() + 1).fillna(0)\n",
    "log_rtn_df = log_rtn_df['Close']\n",
    "cum_rtn_df = np.exp(log_rtn_df.cumsum())"
   ]
  },
  {
   "cell_type": "code",
   "execution_count": 85,
   "id": "548fc057",
   "metadata": {},
   "outputs": [
    {
     "data": {
      "image/png": "[encoded data removed]",
      "text/plain": [
       "<Figure size 720x360 with 1 Axes>"
      ]
     },
     "metadata": {
      "needs_background": "light"
     },
     "output_type": "display_data"
    }
   ],
   "source": [
    "cummax_df = cum_rtn_df.cummax()  # 전고점\n",
    "\n",
    "ax = cum_rtn_df.plot(figsize=(10,5))\n",
    "cummax_df.plot(ax=ax)\n",
    "\n",
    "plt.show()"
   ]
  },
  {
   "cell_type": "code",
   "execution_count": null,
   "id": "e8d763b5",
   "metadata": {},
   "outputs": [],
   "source": []
  },
  {
   "cell_type": "code",
   "execution_count": 88,
   "id": "d8d1dfec",
   "metadata": {},
   "outputs": [
    {
     "data": {
      "text/plain": [
       "<AxesSubplot:xlabel='Date'>"
      ]
     },
     "execution_count": 88,
     "metadata": {},
     "output_type": "execute_result"
    },
    {
     "data": {
      "image/png": "[encoded data removed]",
      "text/plain": [
       "<Figure size 720x360 with 1 Axes>"
      ]
     },
     "metadata": {
      "needs_background": "light"
     },
     "output_type": "display_data"
    }
   ],
   "source": [
    "drawdown_df = cum_rtn_df/ cummax_df -1\n",
    "drawdown_df.plot(figsize=(10,5))"
   ]
  },
  {
   "cell_type": "code",
   "execution_count": null,
   "id": "307d61bb",
   "metadata": {},
   "outputs": [],
   "source": []
  },
  {
   "cell_type": "code",
   "execution_count": null,
   "id": "61d973ef",
   "metadata": {},
   "outputs": [],
   "source": [
    "# 1. MDD (max draw down)"
   ]
  },
  {
   "cell_type": "code",
   "execution_count": 90,
   "id": "15ab4411",
   "metadata": {},
   "outputs": [
    {
     "data": {
      "text/plain": [
       "-0.34642576590730545"
      ]
     },
     "execution_count": 90,
     "metadata": {},
     "output_type": "execute_result"
    }
   ],
   "source": [
    "mdd = drawdown_df.min()\n",
    "mdd"
   ]
  },
  {
   "cell_type": "code",
   "execution_count": 91,
   "id": "3222b5cd",
   "metadata": {},
   "outputs": [],
   "source": [
    "# 2. longest dd period"
   ]
  },
  {
   "cell_type": "code",
   "execution_count": 95,
   "id": "8efb326e",
   "metadata": {
    "collapsed": true
   },
   "outputs": [
    {
     "data": {
      "text/plain": [
       "Date\n",
       "2019-01-02    0.0\n",
       "2019-01-07    0.0\n",
       "2019-01-09    0.0\n",
       "2019-01-11    0.0\n",
       "2019-01-15    0.0\n",
       "2019-01-16    0.0\n",
       "2019-01-17    0.0\n",
       "2019-01-18    0.0\n",
       "2019-01-21    0.0\n",
       "2019-01-23    0.0\n",
       "2019-01-24    0.0\n",
       "2019-01-25    0.0\n",
       "2019-01-29    0.0\n",
       "2019-01-30    0.0\n",
       "2019-02-14    0.0\n",
       "2019-02-20    0.0\n",
       "2019-02-21    0.0\n",
       "2019-02-22    0.0\n",
       "2019-02-25    0.0\n",
       "2019-04-15    0.0\n",
       "2019-04-16    0.0\n",
       "2019-12-13    0.0\n",
       "2019-12-17    0.0\n",
       "2019-12-19    0.0\n",
       "2019-12-20    0.0\n",
       "2019-12-27    0.0\n",
       "2020-01-10    0.0\n",
       "2020-01-13    0.0\n",
       "2020-01-14    0.0\n",
       "2020-01-16    0.0\n",
       "2020-01-17    0.0\n",
       "2020-01-20    0.0\n",
       "2020-01-22    0.0\n",
       "2020-08-05    0.0\n",
       "2020-08-06    0.0\n",
       "2020-08-07    0.0\n",
       "2020-08-10    0.0\n",
       "2020-08-11    0.0\n",
       "2020-08-12    0.0\n",
       "2020-09-15    0.0\n",
       "Name: Close, dtype: float64"
      ]
     },
     "execution_count": 95,
     "metadata": {},
     "output_type": "execute_result"
    }
   ],
   "source": [
    "max_point_df = drawdown_df[drawdown_df == 0]\n",
    "max_point_df"
   ]
  },
  {
   "cell_type": "code",
   "execution_count": 100,
   "id": "6fa995e3",
   "metadata": {
    "collapsed": true
   },
   "outputs": [
    {
     "data": {
      "text/plain": [
       "Date\n",
       "2019-01-02    0.0\n",
       "2019-01-07    0.0\n",
       "2019-01-09    0.0\n",
       "2019-01-11    0.0\n",
       "2019-01-15    0.0\n",
       "2019-01-16    0.0\n",
       "2019-01-17    0.0\n",
       "2019-01-18    0.0\n",
       "2019-01-21    0.0\n",
       "2019-01-23    0.0\n",
       "2019-01-24    0.0\n",
       "2019-01-25    0.0\n",
       "2019-01-29    0.0\n",
       "2019-01-30    0.0\n",
       "2019-02-14    0.0\n",
       "2019-02-20    0.0\n",
       "2019-02-21    0.0\n",
       "2019-02-22    0.0\n",
       "2019-02-25    0.0\n",
       "2019-04-15    0.0\n",
       "2019-04-16    0.0\n",
       "2019-12-13    0.0\n",
       "2019-12-17    0.0\n",
       "2019-12-19    0.0\n",
       "2019-12-20    0.0\n",
       "2019-12-27    0.0\n",
       "2020-01-10    0.0\n",
       "2020-01-13    0.0\n",
       "2020-01-14    0.0\n",
       "2020-01-16    0.0\n",
       "2020-01-17    0.0\n",
       "2020-01-20    0.0\n",
       "2020-01-22    0.0\n",
       "2020-08-05    0.0\n",
       "2020-08-06    0.0\n",
       "2020-08-07    0.0\n",
       "2020-08-10    0.0\n",
       "2020-08-11    0.0\n",
       "2020-08-12    0.0\n",
       "2020-09-15    0.0\n",
       "Name: Close, dtype: float64"
      ]
     },
     "execution_count": 100,
     "metadata": {},
     "output_type": "execute_result"
    }
   ],
   "source": [
    "max_point_df"
   ]
  },
  {
   "cell_type": "code",
   "execution_count": 105,
   "id": "47abf4b0",
   "metadata": {},
   "outputs": [],
   "source": [
    "first_df = max_point_df.index[:-1]"
   ]
  },
  {
   "cell_type": "code",
   "execution_count": 106,
   "id": "4e215c05",
   "metadata": {},
   "outputs": [],
   "source": [
    "second_df = max_point_df.index[1:]"
   ]
  },
  {
   "cell_type": "code",
   "execution_count": 107,
   "id": "3c431efe",
   "metadata": {},
   "outputs": [
    {
     "data": {
      "text/plain": [
       "TimedeltaIndex([  '-5 days',   '-2 days',   '-2 days',   '-4 days',\n",
       "                  '-1 days',   '-1 days',   '-1 days',   '-3 days',\n",
       "                  '-2 days',   '-1 days',   '-1 days',   '-4 days',\n",
       "                  '-1 days',  '-15 days',   '-6 days',   '-1 days',\n",
       "                  '-1 days',   '-3 days',  '-49 days',   '-1 days',\n",
       "                '-241 days',   '-4 days',   '-2 days',   '-1 days',\n",
       "                  '-7 days',  '-14 days',   '-3 days',   '-1 days',\n",
       "                  '-2 days',   '-1 days',   '-3 days',   '-2 days',\n",
       "                '-196 days',   '-1 days',   '-1 days',   '-3 days',\n",
       "                  '-1 days',   '-1 days',  '-34 days'],\n",
       "               dtype='timedelta64[ns]', name='Date', freq=None)"
      ]
     },
     "execution_count": 107,
     "metadata": {},
     "output_type": "execute_result"
    }
   ],
   "source": [
    "period = first_df - second_df\n",
    "period"
   ]
  },
  {
   "cell_type": "code",
   "execution_count": 102,
   "id": "a99bae7c",
   "metadata": {},
   "outputs": [
    {
     "data": {
      "text/plain": [
       "20"
      ]
     },
     "execution_count": 102,
     "metadata": {},
     "output_type": "execute_result"
    }
   ],
   "source": [
    "period.argmin()"
   ]
  },
  {
   "cell_type": "code",
   "execution_count": 104,
   "id": "ed8f0eae",
   "metadata": {},
   "outputs": [
    {
     "data": {
      "text/plain": [
       "-241"
      ]
     },
     "execution_count": 104,
     "metadata": {},
     "output_type": "execute_result"
    }
   ],
   "source": [
    "period.min().days"
   ]
  },
  {
   "cell_type": "code",
   "execution_count": 111,
   "id": "3c3720a8",
   "metadata": {},
   "outputs": [],
   "source": [
    "ldd_st = first_df[period.argmin()]"
   ]
  },
  {
   "cell_type": "code",
   "execution_count": 110,
   "id": "ef20712f",
   "metadata": {},
   "outputs": [],
   "source": [
    "ldd_ed = second_df[period.argmin()]"
   ]
  },
  {
   "cell_type": "code",
   "execution_count": 112,
   "id": "ea40657a",
   "metadata": {},
   "outputs": [
    {
     "name": "stdout",
     "output_type": "stream",
     "text": [
      "2019-04-16 00:00:00 2019-12-13 00:00:00\n"
     ]
    }
   ],
   "source": [
    "print(ldd_st, ldd_ed)"
   ]
  },
  {
   "cell_type": "code",
   "execution_count": null,
   "id": "8ec51068",
   "metadata": {},
   "outputs": [],
   "source": []
  },
  {
   "cell_type": "code",
   "execution_count": 115,
   "id": "1588ca8a",
   "metadata": {},
   "outputs": [],
   "source": [
    "def get_drawdwon_infos(cum_returns_df):\n",
    "    cummax_df = cum_rtn_df.cummax()\n",
    "    dd_df = cum_returns_df / cummax_df -1\n",
    "    \n",
    "    mdd_series = dd_df.min()\n",
    "    \n",
    "    max_point_df = dd_df[dd_df == 0]\n",
    "    \n",
    "    first_df = max_point_df.index[:-1]\n",
    "    second_df = max_point_df.index[1:]\n",
    "    \n",
    "    period = first_df - second_df\n",
    "    \n",
    "    longest_dd_period = period.min().days\n",
    "    \n",
    "    ldd_st = first_df[period.argmin()]\n",
    "    ldd_ed = second_df[period.argmin()]\n",
    "    \n",
    "    return mdd_series, longest_dd_period, ldd_st, ldd_ed"
   ]
  },
  {
   "cell_type": "code",
   "execution_count": 117,
   "id": "82fc4143",
   "metadata": {},
   "outputs": [],
   "source": [
    "mdd, longest_dd, longest_dd_st, longest_dd_ed =  get_drawdwon_infos(cum_rtn_df)"
   ]
  },
  {
   "cell_type": "code",
   "execution_count": 119,
   "id": "0880ba6d",
   "metadata": {},
   "outputs": [
    {
     "name": "stdout",
     "output_type": "stream",
     "text": [
      "최대 하락률 : -0.34642576590730545\n",
      "최대 하락기간 : -241\n",
      "최대 하락기간 날짜 : 2019-04-16 00:00:00 ~ 2019-12-13 00:00:00\n"
     ]
    }
   ],
   "source": [
    "print('최대 하락률 :', mdd)\n",
    "print('최대 하락기간 :', longest_dd)\n",
    "print('최대 하락기간 날짜 :', longest_dd_st, '~', longest_dd_ed)"
   ]
  },
  {
   "cell_type": "code",
   "execution_count": null,
   "id": "c6e1b4ad",
   "metadata": {},
   "outputs": [],
   "source": []
  },
  {
   "cell_type": "code",
   "execution_count": null,
   "id": "848f02e3",
   "metadata": {},
   "outputs": [],
   "source": []
  }
 ],
 "metadata": {
  "kernelspec": {
   "display_name": "Python 3 (ipykernel)",
   "language": "python",
   "name": "python3"
  },
  "language_info": {
   "codemirror_mode": {
    "name": "ipython",
    "version": 3
   },
   "file_extension": ".py",
   "mimetype": "text/x-python",
   "name": "python",
   "nbconvert_exporter": "python",
   "pygments_lexer": "ipython3",
   "version": "3.9.7"
  }
 },
 "nbformat": 4,
 "nbformat_minor": 5
}
