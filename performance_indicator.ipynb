{
 "cells": [
  {
   "cell_type": "code",
   "execution_count": null,
   "id": "6548629b",
   "metadata": {},
   "outputs": [],
   "source": [
    "# Log Return\n",
    "\n",
    "# CAGR\n",
    "# Sharp ratio\n",
    "# Maxdraw down"
   ]
  },
  {
   "cell_type": "code",
   "execution_count": null,
   "id": "ca37c8f8",
   "metadata": {},
   "outputs": [],
   "source": []
  },
  {
   "cell_type": "code",
   "execution_count": 1,
   "id": "28fee284",
   "metadata": {},
   "outputs": [],
   "source": [
    "import pandas as pd\n",
    "import numpy as np\n",
    "import matplotlib.pyplot as plt\n",
    "import seaborn as sns"
   ]
  },
  {
   "cell_type": "code",
   "execution_count": 2,
   "id": "34c1e692",
   "metadata": {},
   "outputs": [],
   "source": [
    "import FinanceDataReader as fdr"
   ]
  },
  {
   "cell_type": "code",
   "execution_count": 144,
   "id": "22955182",
   "metadata": {},
   "outputs": [],
   "source": [
    "import plotly.express as px\n",
    "import plotly.graph_objects as go"
   ]
  },
  {
   "cell_type": "code",
   "execution_count": 159,
   "id": "b3545965",
   "metadata": {},
   "outputs": [],
   "source": [
    "def get_returns_df(df, N=1, log=False):\n",
    "    if log:\n",
    "        return np.log(df/df.shift(N).iloc[N-1:]).fillna(0)\n",
    "    else:\n",
    "        return df.pct_change(N, fill_method=None).iloc[N-1:].fillna(0)\n",
    "    \n",
    "def get_cum_returns_df(return_df, log=False):\n",
    "    if log:\n",
    "        return np.exp(return_df.cumsum())\n",
    "    else:\n",
    "        return (1 + return_df).cumprod()"
   ]
  },
  {
   "cell_type": "code",
   "execution_count": null,
   "id": "d19d1b5a",
   "metadata": {},
   "outputs": [],
   "source": [
    "def get_annualized_returns_series(log_return_df, num_day_in_year=250):\n",
    "    return (log_return_df.mean() * num_day_in_year).round(2)\n",
    "\n",
    "def get_annualized_std_series(log_return_df, num_day_in_year=250):\n",
    "    return (log_return_df.std() * (num_day_in_year ** 0.5)).round(2)"
   ]
  },
  {
   "cell_type": "code",
   "execution_count": 146,
   "id": "97af2eb9",
   "metadata": {},
   "outputs": [],
   "source": [
    "def get_cagr_series(cum_rtn_df, num_day_in_year=250):\n",
    "    cagr_series = cum_rtn_df.iloc[-1] ** (num_day_in_year/len(cum_rtn_df))\n",
    "    return cagr_series"
   ]
  },
  {
   "cell_type": "code",
   "execution_count": 147,
   "id": "22952f0b",
   "metadata": {},
   "outputs": [],
   "source": [
    "def get_sharpe_ratio(log_rtn_df, yearly_rfr = 0.025):\n",
    "    excess_rtns = log_rtn_df.mean()*252 - yearly_rfr"
   ]
  },
  {
   "cell_type": "code",
   "execution_count": 73,
   "id": "e1102281",
   "metadata": {},
   "outputs": [],
   "source": [
    "df1 = fdr.DataReader('005930', '2018-01-02', '2018-10-30')\n",
    "df2 = fdr.DataReader('069500', '2018-01-02', '2018-10-30')"
   ]
  },
  {
   "cell_type": "code",
   "execution_count": 74,
   "id": "988426da",
   "metadata": {},
   "outputs": [
    {
     "data": {
      "text/html": [
       "<div>\n",
       "<style scoped>\n",
       "    .dataframe tbody tr th:only-of-type {\n",
       "        vertical-align: middle;\n",
       "    }\n",
       "\n",
       "    .dataframe tbody tr th {\n",
       "        vertical-align: top;\n",
       "    }\n",
       "\n",
       "    .dataframe thead th {\n",
       "        text-align: right;\n",
       "    }\n",
       "</style>\n",
       "<table border=\"1\" class=\"dataframe\">\n",
       "  <thead>\n",
       "    <tr style=\"text-align: right;\">\n",
       "      <th></th>\n",
       "      <th>Close</th>\n",
       "      <th>Close</th>\n",
       "    </tr>\n",
       "    <tr>\n",
       "      <th>Date</th>\n",
       "      <th></th>\n",
       "      <th></th>\n",
       "    </tr>\n",
       "  </thead>\n",
       "  <tbody>\n",
       "    <tr>\n",
       "      <th>2018-01-02</th>\n",
       "      <td>51020</td>\n",
       "      <td>29836</td>\n",
       "    </tr>\n",
       "    <tr>\n",
       "      <th>2018-01-03</th>\n",
       "      <td>51620</td>\n",
       "      <td>29964</td>\n",
       "    </tr>\n",
       "    <tr>\n",
       "      <th>2018-01-04</th>\n",
       "      <td>51080</td>\n",
       "      <td>29727</td>\n",
       "    </tr>\n",
       "    <tr>\n",
       "      <th>2018-01-05</th>\n",
       "      <td>52120</td>\n",
       "      <td>30131</td>\n",
       "    </tr>\n",
       "    <tr>\n",
       "      <th>2018-01-08</th>\n",
       "      <td>52020</td>\n",
       "      <td>30333</td>\n",
       "    </tr>\n",
       "  </tbody>\n",
       "</table>\n",
       "</div>"
      ],
      "text/plain": [
       "            Close  Close\n",
       "Date                    \n",
       "2018-01-02  51020  29836\n",
       "2018-01-03  51620  29964\n",
       "2018-01-04  51080  29727\n",
       "2018-01-05  52120  30131\n",
       "2018-01-08  52020  30333"
      ]
     },
     "execution_count": 74,
     "metadata": {},
     "output_type": "execute_result"
    }
   ],
   "source": [
    "df = pd.concat([df1['Close'], df2['Close']], axis=1)\n",
    "df.head()"
   ]
  },
  {
   "cell_type": "code",
   "execution_count": 75,
   "id": "ffc28b18",
   "metadata": {},
   "outputs": [],
   "source": [
    "df.columns = ['상성전자', 'kodex200']"
   ]
  },
  {
   "cell_type": "code",
   "execution_count": 76,
   "id": "fba8a568",
   "metadata": {},
   "outputs": [],
   "source": [
    "# simple return\n",
    "simple_rtn_df = df.pct_change(1).fillna(0)"
   ]
  },
  {
   "cell_type": "code",
   "execution_count": null,
   "id": "497d97f1",
   "metadata": {},
   "outputs": [],
   "source": []
  },
  {
   "cell_type": "code",
   "execution_count": 77,
   "id": "ccd721ae",
   "metadata": {},
   "outputs": [
    {
     "data": {
      "text/html": [
       "<div>\n",
       "<style scoped>\n",
       "    .dataframe tbody tr th:only-of-type {\n",
       "        vertical-align: middle;\n",
       "    }\n",
       "\n",
       "    .dataframe tbody tr th {\n",
       "        vertical-align: top;\n",
       "    }\n",
       "\n",
       "    .dataframe thead th {\n",
       "        text-align: right;\n",
       "    }\n",
       "</style>\n",
       "<table border=\"1\" class=\"dataframe\">\n",
       "  <thead>\n",
       "    <tr style=\"text-align: right;\">\n",
       "      <th></th>\n",
       "      <th>상성전자</th>\n",
       "      <th>kodex200</th>\n",
       "    </tr>\n",
       "    <tr>\n",
       "      <th>Date</th>\n",
       "      <th></th>\n",
       "      <th></th>\n",
       "    </tr>\n",
       "  </thead>\n",
       "  <tbody>\n",
       "    <tr>\n",
       "      <th>2018-01-02</th>\n",
       "      <td>0.000000</td>\n",
       "      <td>0.000000</td>\n",
       "    </tr>\n",
       "    <tr>\n",
       "      <th>2018-01-03</th>\n",
       "      <td>0.011691</td>\n",
       "      <td>0.004281</td>\n",
       "    </tr>\n",
       "    <tr>\n",
       "      <th>2018-01-04</th>\n",
       "      <td>-0.010516</td>\n",
       "      <td>-0.007941</td>\n",
       "    </tr>\n",
       "    <tr>\n",
       "      <th>2018-01-05</th>\n",
       "      <td>0.020156</td>\n",
       "      <td>0.013499</td>\n",
       "    </tr>\n",
       "    <tr>\n",
       "      <th>2018-01-08</th>\n",
       "      <td>-0.001920</td>\n",
       "      <td>0.006682</td>\n",
       "    </tr>\n",
       "    <tr>\n",
       "      <th>...</th>\n",
       "      <td>...</td>\n",
       "      <td>...</td>\n",
       "    </tr>\n",
       "    <tr>\n",
       "      <th>2018-10-24</th>\n",
       "      <td>-0.011682</td>\n",
       "      <td>-0.005166</td>\n",
       "    </tr>\n",
       "    <tr>\n",
       "      <th>2018-10-25</th>\n",
       "      <td>-0.037108</td>\n",
       "      <td>-0.016105</td>\n",
       "    </tr>\n",
       "    <tr>\n",
       "      <th>2018-10-26</th>\n",
       "      <td>0.000000</td>\n",
       "      <td>-0.015998</td>\n",
       "    </tr>\n",
       "    <tr>\n",
       "      <th>2018-10-29</th>\n",
       "      <td>0.009709</td>\n",
       "      <td>-0.008096</td>\n",
       "    </tr>\n",
       "    <tr>\n",
       "      <th>2018-10-30</th>\n",
       "      <td>0.022688</td>\n",
       "      <td>0.006902</td>\n",
       "    </tr>\n",
       "  </tbody>\n",
       "</table>\n",
       "<p>202 rows × 2 columns</p>\n",
       "</div>"
      ],
      "text/plain": [
       "                상성전자  kodex200\n",
       "Date                          \n",
       "2018-01-02  0.000000  0.000000\n",
       "2018-01-03  0.011691  0.004281\n",
       "2018-01-04 -0.010516 -0.007941\n",
       "2018-01-05  0.020156  0.013499\n",
       "2018-01-08 -0.001920  0.006682\n",
       "...              ...       ...\n",
       "2018-10-24 -0.011682 -0.005166\n",
       "2018-10-25 -0.037108 -0.016105\n",
       "2018-10-26  0.000000 -0.015998\n",
       "2018-10-29  0.009709 -0.008096\n",
       "2018-10-30  0.022688  0.006902\n",
       "\n",
       "[202 rows x 2 columns]"
      ]
     },
     "execution_count": 77,
     "metadata": {},
     "output_type": "execute_result"
    }
   ],
   "source": [
    "# log return\n",
    "\n",
    "log_rtn_df = np.log(df / df.shift(1)).fillna(0)\n",
    "log_rtn_df"
   ]
  },
  {
   "cell_type": "code",
   "execution_count": 30,
   "id": "e6282a3b",
   "metadata": {},
   "outputs": [
    {
     "name": "stderr",
     "output_type": "stream",
     "text": [
      "C:\\Users\\bitcamp\\anaconda3\\lib\\site-packages\\matplotlib\\backends\\backend_agg.py:240: RuntimeWarning: Glyph 49345 missing from current font.\n",
      "  font.set_text(s, 0.0, flags=flags)\n",
      "C:\\Users\\bitcamp\\anaconda3\\lib\\site-packages\\matplotlib\\backends\\backend_agg.py:240: RuntimeWarning: Glyph 49457 missing from current font.\n",
      "  font.set_text(s, 0.0, flags=flags)\n",
      "C:\\Users\\bitcamp\\anaconda3\\lib\\site-packages\\matplotlib\\backends\\backend_agg.py:240: RuntimeWarning: Glyph 51204 missing from current font.\n",
      "  font.set_text(s, 0.0, flags=flags)\n",
      "C:\\Users\\bitcamp\\anaconda3\\lib\\site-packages\\matplotlib\\backends\\backend_agg.py:240: RuntimeWarning: Glyph 51088 missing from current font.\n",
      "  font.set_text(s, 0.0, flags=flags)\n",
      "C:\\Users\\bitcamp\\anaconda3\\lib\\site-packages\\matplotlib\\backends\\backend_agg.py:203: RuntimeWarning: Glyph 49345 missing from current font.\n",
      "  font.set_text(s, 0, flags=flags)\n",
      "C:\\Users\\bitcamp\\anaconda3\\lib\\site-packages\\matplotlib\\backends\\backend_agg.py:203: RuntimeWarning: Glyph 49457 missing from current font.\n",
      "  font.set_text(s, 0, flags=flags)\n",
      "C:\\Users\\bitcamp\\anaconda3\\lib\\site-packages\\matplotlib\\backends\\backend_agg.py:203: RuntimeWarning: Glyph 51204 missing from current font.\n",
      "  font.set_text(s, 0, flags=flags)\n",
      "C:\\Users\\bitcamp\\anaconda3\\lib\\site-packages\\matplotlib\\backends\\backend_agg.py:203: RuntimeWarning: Glyph 51088 missing from current font.\n",
      "  font.set_text(s, 0, flags=flags)\n"
     ]
    },
    {
     "data": {
      "image/png": "[encoded data removed]",
      "text/plain": [
       "<Figure size 432x288 with 1 Axes>"
      ]
     },
     "metadata": {
      "needs_background": "light"
     },
     "output_type": "display_data"
    }
   ],
   "source": [
    "log_rtn_df.plot()\n",
    "plt.show()"
   ]
  },
  {
   "cell_type": "code",
   "execution_count": 34,
   "id": "267fc960",
   "metadata": {},
   "outputs": [
    {
     "data": {
      "text/plain": [
       "<AxesSubplot:ylabel='Frequency'>"
      ]
     },
     "execution_count": 34,
     "metadata": {},
     "output_type": "execute_result"
    },
    {
     "data": {
      "image/png": "[encoded data removed]",
      "text/plain": [
       "<Figure size 432x288 with 1 Axes>"
      ]
     },
     "metadata": {
      "needs_background": "light"
     },
     "output_type": "display_data"
    }
   ],
   "source": [
    "log_rtn_df.plot(kind='hist', bins=50)"
   ]
  },
  {
   "cell_type": "code",
   "execution_count": null,
   "id": "f6100080",
   "metadata": {},
   "outputs": [],
   "source": []
  },
  {
   "cell_type": "code",
   "execution_count": null,
   "id": "299bdbdf",
   "metadata": {},
   "outputs": [],
   "source": [
    "# 누적수익률 "
   ]
  },
  {
   "cell_type": "code",
   "execution_count": 38,
   "id": "22afbd7c",
   "metadata": {},
   "outputs": [
    {
     "data": {
      "text/html": [
       "<div>\n",
       "<style scoped>\n",
       "    .dataframe tbody tr th:only-of-type {\n",
       "        vertical-align: middle;\n",
       "    }\n",
       "\n",
       "    .dataframe tbody tr th {\n",
       "        vertical-align: top;\n",
       "    }\n",
       "\n",
       "    .dataframe thead th {\n",
       "        text-align: right;\n",
       "    }\n",
       "</style>\n",
       "<table border=\"1\" class=\"dataframe\">\n",
       "  <thead>\n",
       "    <tr style=\"text-align: right;\">\n",
       "      <th></th>\n",
       "      <th>상성전자</th>\n",
       "      <th>kodex200</th>\n",
       "    </tr>\n",
       "    <tr>\n",
       "      <th>Date</th>\n",
       "      <th></th>\n",
       "      <th></th>\n",
       "    </tr>\n",
       "  </thead>\n",
       "  <tbody>\n",
       "    <tr>\n",
       "      <th>2018-01-02</th>\n",
       "      <td>1.000000</td>\n",
       "      <td>1.000000</td>\n",
       "    </tr>\n",
       "    <tr>\n",
       "      <th>2018-01-03</th>\n",
       "      <td>1.011760</td>\n",
       "      <td>1.004290</td>\n",
       "    </tr>\n",
       "    <tr>\n",
       "      <th>2018-01-04</th>\n",
       "      <td>1.001176</td>\n",
       "      <td>0.996347</td>\n",
       "    </tr>\n",
       "    <tr>\n",
       "      <th>2018-01-05</th>\n",
       "      <td>1.021560</td>\n",
       "      <td>1.009887</td>\n",
       "    </tr>\n",
       "    <tr>\n",
       "      <th>2018-01-08</th>\n",
       "      <td>1.019600</td>\n",
       "      <td>1.016658</td>\n",
       "    </tr>\n",
       "    <tr>\n",
       "      <th>...</th>\n",
       "      <td>...</td>\n",
       "      <td>...</td>\n",
       "    </tr>\n",
       "    <tr>\n",
       "      <th>2018-10-24</th>\n",
       "      <td>0.833987</td>\n",
       "      <td>0.841266</td>\n",
       "    </tr>\n",
       "    <tr>\n",
       "      <th>2018-10-25</th>\n",
       "      <td>0.803606</td>\n",
       "      <td>0.827825</td>\n",
       "    </tr>\n",
       "    <tr>\n",
       "      <th>2018-10-26</th>\n",
       "      <td>0.803606</td>\n",
       "      <td>0.814687</td>\n",
       "    </tr>\n",
       "    <tr>\n",
       "      <th>2018-10-29</th>\n",
       "      <td>0.811446</td>\n",
       "      <td>0.808118</td>\n",
       "    </tr>\n",
       "    <tr>\n",
       "      <th>2018-10-30</th>\n",
       "      <td>0.830067</td>\n",
       "      <td>0.813715</td>\n",
       "    </tr>\n",
       "  </tbody>\n",
       "</table>\n",
       "<p>202 rows × 2 columns</p>\n",
       "</div>"
      ],
      "text/plain": [
       "                상성전자  kodex200\n",
       "Date                          \n",
       "2018-01-02  1.000000  1.000000\n",
       "2018-01-03  1.011760  1.004290\n",
       "2018-01-04  1.001176  0.996347\n",
       "2018-01-05  1.021560  1.009887\n",
       "2018-01-08  1.019600  1.016658\n",
       "...              ...       ...\n",
       "2018-10-24  0.833987  0.841266\n",
       "2018-10-25  0.803606  0.827825\n",
       "2018-10-26  0.803606  0.814687\n",
       "2018-10-29  0.811446  0.808118\n",
       "2018-10-30  0.830067  0.813715\n",
       "\n",
       "[202 rows x 2 columns]"
      ]
     },
     "execution_count": 38,
     "metadata": {},
     "output_type": "execute_result"
    }
   ],
   "source": [
    "(simple_rtn_df + 1).cumprod()"
   ]
  },
  {
   "cell_type": "code",
   "execution_count": 42,
   "id": "324e6abd",
   "metadata": {},
   "outputs": [],
   "source": [
    "log_rtn_df.cumsum()\n",
    "cum_rtn_df = np.exp(log_rtn_df.cumsum())"
   ]
  },
  {
   "cell_type": "code",
   "execution_count": null,
   "id": "96651ff2",
   "metadata": {},
   "outputs": [],
   "source": []
  },
  {
   "cell_type": "markdown",
   "id": "261b6cd1",
   "metadata": {},
   "source": [
    "## Log Return"
   ]
  },
  {
   "cell_type": "code",
   "execution_count": 78,
   "id": "fe4fd253",
   "metadata": {},
   "outputs": [],
   "source": [
    "def get_annualized_returns_series(log_return_df, num_day_in_year = 250):\n",
    "    return (log_return_df.mean() * num_day_in_year).round(2)\n",
    "\n",
    "def get_annualized_std_series(log_returns_df, num_day_in_year = 250):\n",
    "    return (log_returns_df.std() * (num_day_in_year ** 0.5)).round(2)"
   ]
  },
  {
   "cell_type": "code",
   "execution_count": 79,
   "id": "39df394e",
   "metadata": {},
   "outputs": [
    {
     "data": {
      "text/plain": [
       "상성전자       -0.23\n",
       "kodex200   -0.26\n",
       "dtype: float64"
      ]
     },
     "execution_count": 79,
     "metadata": {},
     "output_type": "execute_result"
    }
   ],
   "source": [
    "get_annualized_returns_series(log_rtn_df, num_day_in_year=250)"
   ]
  },
  {
   "cell_type": "code",
   "execution_count": 80,
   "id": "029bee7c",
   "metadata": {},
   "outputs": [
    {
     "data": {
      "text/plain": [
       "상성전자        0.27\n",
       "kodex200    0.14\n",
       "dtype: float64"
      ]
     },
     "execution_count": 80,
     "metadata": {},
     "output_type": "execute_result"
    }
   ],
   "source": [
    "get_annualized_std_series(log_rtn_df, num_day_in_year=250)"
   ]
  },
  {
   "cell_type": "code",
   "execution_count": null,
   "id": "1ea7c690",
   "metadata": {},
   "outputs": [],
   "source": []
  },
  {
   "cell_type": "markdown",
   "id": "a128319e",
   "metadata": {},
   "source": [
    "## CAGR (연환산 복리 수익률)"
   ]
  },
  {
   "cell_type": "code",
   "execution_count": 44,
   "id": "2bb286e3",
   "metadata": {},
   "outputs": [
    {
     "data": {
      "text/plain": [
       "상성전자        0.830067\n",
       "kodex200    0.813715\n",
       "Name: 2018-10-30 00:00:00, dtype: float64"
      ]
     },
     "execution_count": 44,
     "metadata": {},
     "output_type": "execute_result"
    }
   ],
   "source": [
    "cum_rtn_df.iloc[-1] # 10개월 누적 복리수익율"
   ]
  },
  {
   "cell_type": "code",
   "execution_count": 45,
   "id": "50d910dc",
   "metadata": {},
   "outputs": [
    {
     "data": {
      "text/plain": [
       "상성전자        0.792668\n",
       "kodex200    0.773236\n",
       "Name: 2018-10-30 00:00:00, dtype: float64"
      ]
     },
     "execution_count": 45,
     "metadata": {},
     "output_type": "execute_result"
    }
   ],
   "source": [
    "num_day_in_year = 252\n",
    "\n",
    "cum_rtn_df.iloc[-1] ** (252/ len(cum_rtn_df))"
   ]
  },
  {
   "cell_type": "code",
   "execution_count": 50,
   "id": "8cebb524",
   "metadata": {},
   "outputs": [],
   "source": [
    "# 연 평균 복리 수악율\n",
    "\n",
    "def get_cagr_series(cum_rtn_df, num_day_in_year = 250):\n",
    "    cagr_series = cum_rtn_df.iloc[-1] ** (num_day_in_year/(len(cum_rtn_df))) - 1\n",
    "    return cagr_series"
   ]
  },
  {
   "cell_type": "code",
   "execution_count": 51,
   "id": "b1dc273f",
   "metadata": {},
   "outputs": [
    {
     "data": {
      "text/plain": [
       "상성전자        0.794131\n",
       "kodex200    0.774816\n",
       "Name: 2018-10-30 00:00:00, dtype: float64"
      ]
     },
     "execution_count": 51,
     "metadata": {},
     "output_type": "execute_result"
    }
   ],
   "source": [
    "get_cagr_series(cum_rtn_df, num_day_in_year = 250)"
   ]
  },
  {
   "cell_type": "code",
   "execution_count": null,
   "id": "4b9cff73",
   "metadata": {},
   "outputs": [],
   "source": []
  },
  {
   "cell_type": "code",
   "execution_count": 56,
   "id": "1ae52681",
   "metadata": {},
   "outputs": [],
   "source": [
    "temp_df = fdr.DataReader('069500', '2019-01-02', '2020-10-30')"
   ]
  },
  {
   "cell_type": "code",
   "execution_count": 59,
   "id": "5d0456b9",
   "metadata": {},
   "outputs": [
    {
     "data": {
      "text/plain": [
       "1.10478620660929"
      ]
     },
     "execution_count": 59,
     "metadata": {},
     "output_type": "execute_result"
    }
   ],
   "source": [
    "log_rtn_df = np.log(temp_df.pct_change() + 1).fillna(0)\n",
    "log_rtn_df = log_rtn_df['Close']\n",
    "cum_rtn_df = np.exp(log_rtn_df.cumsum())\n",
    "get_cagr_series(cum_rtn_df, num_day_in_year = 250)"
   ]
  },
  {
   "cell_type": "code",
   "execution_count": null,
   "id": "10bfb8ec",
   "metadata": {},
   "outputs": [],
   "source": []
  },
  {
   "cell_type": "markdown",
   "id": "93d6be61",
   "metadata": {},
   "source": [
    "## sharp ratio"
   ]
  },
  {
   "cell_type": "code",
   "execution_count": 81,
   "id": "37c89453",
   "metadata": {},
   "outputs": [],
   "source": [
    "# sharp ratio = 수익율 / 변동성"
   ]
  },
  {
   "cell_type": "code",
   "execution_count": 83,
   "id": "1fa8c57f",
   "metadata": {},
   "outputs": [
    {
     "data": {
      "text/plain": [
       "상성전자       -0.937691\n",
       "kodex200   -1.950080\n",
       "dtype: float64"
      ]
     },
     "execution_count": 83,
     "metadata": {},
     "output_type": "execute_result"
    }
   ],
   "source": [
    "yearly_rfr = 0.025\n",
    "excess_rtns = log_rtn_df.mean() * 252 - yearly_rfr\n",
    "excess_rtns / (log_rtn_df.std() * np.sqrt(252))"
   ]
  },
  {
   "cell_type": "code",
   "execution_count": 84,
   "id": "8fda1043",
   "metadata": {},
   "outputs": [],
   "source": [
    "def get_sharpe_ratio(log_rtn_df, yearly_rfr = 0.025):\n",
    "    excess_rtns = log_rtn_df.mean()*252 - yearly_rfr\n",
    "    return excess_rtns / (log_rtn_df.std() * np.sqer(252))"
   ]
  },
  {
   "cell_type": "code",
   "execution_count": null,
   "id": "4d9326ee",
   "metadata": {},
   "outputs": [],
   "source": []
  },
  {
   "cell_type": "markdown",
   "id": "8c7e5b20",
   "metadata": {},
   "source": [
    "## Drawdown"
   ]
  },
  {
   "cell_type": "code",
   "execution_count": 88,
   "id": "6dd7fb3d",
   "metadata": {},
   "outputs": [
    {
     "data": {
      "image/png": "[encoded data removed]",
      "text/plain": [
       "<Figure size 720x360 with 1 Axes>"
      ]
     },
     "metadata": {
      "needs_background": "light"
     },
     "output_type": "display_data"
    }
   ],
   "source": [
    "cummax_df = cum_rtn_df.cummax()\n",
    "\n",
    "ax = cummax_df.plot(figsize=(10, 5))\n",
    "cum_rtn_df.plot(ax=ax)\n",
    "\n",
    "plt.show()"
   ]
  },
  {
   "cell_type": "code",
   "execution_count": null,
   "id": "061b72a1",
   "metadata": {},
   "outputs": [],
   "source": []
  },
  {
   "cell_type": "code",
   "execution_count": 93,
   "id": "3917d6ee",
   "metadata": {},
   "outputs": [],
   "source": [
    "drawdown_df = cum_rtn_df / cummax_df - 1"
   ]
  },
  {
   "cell_type": "code",
   "execution_count": 95,
   "id": "7ebfa3db",
   "metadata": {},
   "outputs": [
    {
     "data": {
      "text/plain": [
       "<AxesSubplot:xlabel='Date'>"
      ]
     },
     "execution_count": 95,
     "metadata": {},
     "output_type": "execute_result"
    },
    {
     "data": {
      "image/png": "[encoded data removed]",
      "text/plain": [
       "<Figure size 720x360 with 1 Axes>"
      ]
     },
     "metadata": {
      "needs_background": "light"
     },
     "output_type": "display_data"
    }
   ],
   "source": [
    "drawdown_df.plot(figsize=(10,5))"
   ]
  },
  {
   "cell_type": "code",
   "execution_count": null,
   "id": "0c1577c8",
   "metadata": {},
   "outputs": [],
   "source": []
  },
  {
   "cell_type": "code",
   "execution_count": null,
   "id": "26e0d9da",
   "metadata": {},
   "outputs": [],
   "source": [
    "# 1. MDD (max draw down)"
   ]
  },
  {
   "cell_type": "code",
   "execution_count": 96,
   "id": "28c38442",
   "metadata": {},
   "outputs": [
    {
     "data": {
      "text/plain": [
       "-0.34642576590730545"
      ]
     },
     "execution_count": 96,
     "metadata": {},
     "output_type": "execute_result"
    }
   ],
   "source": [
    "mdd = drawdown_df.min()\n",
    "mdd"
   ]
  },
  {
   "cell_type": "code",
   "execution_count": 97,
   "id": "01af8d13",
   "metadata": {},
   "outputs": [],
   "source": [
    "# 2. longest dd period"
   ]
  },
  {
   "cell_type": "code",
   "execution_count": 98,
   "id": "2bcb50d4",
   "metadata": {
    "collapsed": true
   },
   "outputs": [
    {
     "data": {
      "text/plain": [
       "Date\n",
       "2019-01-02    0.0\n",
       "2019-01-07    0.0\n",
       "2019-01-09    0.0\n",
       "2019-01-11    0.0\n",
       "2019-01-15    0.0\n",
       "2019-01-16    0.0\n",
       "2019-01-17    0.0\n",
       "2019-01-18    0.0\n",
       "2019-01-21    0.0\n",
       "2019-01-23    0.0\n",
       "2019-01-24    0.0\n",
       "2019-01-25    0.0\n",
       "2019-01-29    0.0\n",
       "2019-01-30    0.0\n",
       "2019-02-14    0.0\n",
       "2019-02-20    0.0\n",
       "2019-02-21    0.0\n",
       "2019-02-22    0.0\n",
       "2019-02-25    0.0\n",
       "2019-04-15    0.0\n",
       "2019-04-16    0.0\n",
       "2019-12-13    0.0\n",
       "2019-12-17    0.0\n",
       "2019-12-19    0.0\n",
       "2019-12-20    0.0\n",
       "2019-12-27    0.0\n",
       "2020-01-10    0.0\n",
       "2020-01-13    0.0\n",
       "2020-01-14    0.0\n",
       "2020-01-16    0.0\n",
       "2020-01-17    0.0\n",
       "2020-01-20    0.0\n",
       "2020-01-22    0.0\n",
       "2020-08-05    0.0\n",
       "2020-08-06    0.0\n",
       "2020-08-07    0.0\n",
       "2020-08-10    0.0\n",
       "2020-08-11    0.0\n",
       "2020-08-12    0.0\n",
       "2020-09-15    0.0\n",
       "Name: Close, dtype: float64"
      ]
     },
     "execution_count": 98,
     "metadata": {},
     "output_type": "execute_result"
    }
   ],
   "source": [
    "max_point_df = drawdown_df[drawdown_df == 0]\n",
    "max_point_df"
   ]
  },
  {
   "cell_type": "code",
   "execution_count": 102,
   "id": "30edbd5b",
   "metadata": {},
   "outputs": [
    {
     "data": {
      "text/plain": [
       "DatetimeIndex(['2019-01-02', '2019-01-07', '2019-01-09', '2019-01-11',\n",
       "               '2019-01-15', '2019-01-16', '2019-01-17', '2019-01-18',\n",
       "               '2019-01-21', '2019-01-23', '2019-01-24', '2019-01-25',\n",
       "               '2019-01-29', '2019-01-30', '2019-02-14', '2019-02-20',\n",
       "               '2019-02-21', '2019-02-22', '2019-02-25', '2019-04-15',\n",
       "               '2019-04-16', '2019-12-13', '2019-12-17', '2019-12-19',\n",
       "               '2019-12-20', '2019-12-27', '2020-01-10', '2020-01-13',\n",
       "               '2020-01-14', '2020-01-16', '2020-01-17', '2020-01-20',\n",
       "               '2020-01-22', '2020-08-05', '2020-08-06', '2020-08-07',\n",
       "               '2020-08-10', '2020-08-11', '2020-08-12'],\n",
       "              dtype='datetime64[ns]', name='Date', freq=None)"
      ]
     },
     "execution_count": 102,
     "metadata": {},
     "output_type": "execute_result"
    }
   ],
   "source": [
    "first_df = max_point_df.index[:-1]\n",
    "second_df = max_point_df.index[]"
   ]
  },
  {
   "cell_type": "code",
   "execution_count": null,
   "id": "7fb7f35a",
   "metadata": {},
   "outputs": [],
   "source": [
    "max_point_df.index[]"
   ]
  },
  {
   "cell_type": "code",
   "execution_count": 103,
   "id": "3179eca2",
   "metadata": {},
   "outputs": [
    {
     "ename": "NameError",
     "evalue": "name 'first_df' is not defined",
     "output_type": "error",
     "traceback": [
      "\u001b[1;31m---------------------------------------------------------------------------\u001b[0m",
      "\u001b[1;31mNameError\u001b[0m                                 Traceback (most recent call last)",
      "\u001b[1;32m~\\AppData\\Local\\Temp/ipykernel_21196/105240201.py\u001b[0m in \u001b[0;36m<module>\u001b[1;34m\u001b[0m\n\u001b[1;32m----> 1\u001b[1;33m \u001b[0mldd_st\u001b[0m \u001b[1;33m=\u001b[0m \u001b[0mfirst_df\u001b[0m\u001b[1;33m[\u001b[0m\u001b[0mperiod\u001b[0m\u001b[1;33m.\u001b[0m\u001b[0margmin\u001b[0m\u001b[1;33m(\u001b[0m\u001b[1;33m)\u001b[0m\u001b[1;33m]\u001b[0m\u001b[1;33m\u001b[0m\u001b[1;33m\u001b[0m\u001b[0m\n\u001b[0m\u001b[0;32m      2\u001b[0m \u001b[0mldd_emd\u001b[0m \u001b[1;33m=\u001b[0m \u001b[0msecond_df\u001b[0m\u001b[1;33m[\u001b[0m\u001b[0mperiod\u001b[0m\u001b[1;33m.\u001b[0m\u001b[0margmin\u001b[0m\u001b[1;33m(\u001b[0m\u001b[1;33m)\u001b[0m\u001b[1;33m]\u001b[0m\u001b[1;33m\u001b[0m\u001b[1;33m\u001b[0m\u001b[0m\n",
      "\u001b[1;31mNameError\u001b[0m: name 'first_df' is not defined"
     ]
    }
   ],
   "source": [
    "ldd_st = first_df[period.argmin()]\n",
    "ldd_emd = second_df[period.argmin()]"
   ]
  },
  {
   "cell_type": "code",
   "execution_count": 104,
   "id": "950b56f5",
   "metadata": {},
   "outputs": [
    {
     "ename": "NameError",
     "evalue": "name 'ldd_st' is not defined",
     "output_type": "error",
     "traceback": [
      "\u001b[1;31m---------------------------------------------------------------------------\u001b[0m",
      "\u001b[1;31mNameError\u001b[0m                                 Traceback (most recent call last)",
      "\u001b[1;32m~\\AppData\\Local\\Temp/ipykernel_21196/3589208842.py\u001b[0m in \u001b[0;36m<module>\u001b[1;34m\u001b[0m\n\u001b[1;32m----> 1\u001b[1;33m \u001b[0mprint\u001b[0m\u001b[1;33m(\u001b[0m\u001b[0mldd_st\u001b[0m\u001b[1;33m,\u001b[0m \u001b[0mldd_ed\u001b[0m\u001b[1;33m)\u001b[0m\u001b[1;33m\u001b[0m\u001b[1;33m\u001b[0m\u001b[0m\n\u001b[0m",
      "\u001b[1;31mNameError\u001b[0m: name 'ldd_st' is not defined"
     ]
    }
   ],
   "source": [
    "print(ldd_st, ldd_ed)"
   ]
  },
  {
   "cell_type": "code",
   "execution_count": null,
   "id": "cf36c115",
   "metadata": {},
   "outputs": [],
   "source": []
  },
  {
   "cell_type": "code",
   "execution_count": 108,
   "id": "f885609c",
   "metadata": {},
   "outputs": [],
   "source": [
    "def get_drawdown_infos(cum_returns_df):\n",
    "    cummax_df = cum_rtn_df.cummax()\n",
    "    dd_df = cum_returns_df / cummax_df - 1\n",
    "    \n",
    "    mdd_series = dd_df.min()\n",
    "    \n",
    "    max_point_df = dd_df[dd_df == 0]\n",
    "    \n",
    "    first_df = max_point_df.index[:-1]\n",
    "    second_df = max_point_df.index[1:]\n",
    "    \n",
    "    period = first_df - second_df\n",
    "    \n",
    "    longest_dd_period = period.min().days\n",
    "    \n",
    "    ldd_st = first_df[period.argmin()]\n",
    "    ldd_ed = second_df[period.argmin()]\n",
    "    \n",
    "    return mdd_series, longest_dd_period, ldd_st, ldd_ed"
   ]
  },
  {
   "cell_type": "code",
   "execution_count": 109,
   "id": "2b82331f",
   "metadata": {},
   "outputs": [],
   "source": [
    "mdd, longest_dd, longest_dd_st, longest_dd_ed = get_drawdown_infos(cum_rtn_df)"
   ]
  },
  {
   "cell_type": "code",
   "execution_count": 113,
   "id": "e2a84c67",
   "metadata": {},
   "outputs": [
    {
     "name": "stdout",
     "output_type": "stream",
     "text": [
      "최대 하락률 : -0.34642576590730545\n",
      "최대 하락기간 : -241\n",
      "최대 하락기간 시작 날짜 : 2019-04-16 00:00:00\n",
      "최대 하락기간 끝 날짜 : 2019-12-13 00:00:00\n"
     ]
    }
   ],
   "source": [
    "print('최대 하락률 :', mdd)\n",
    "print('최대 하락기간 :', longest_dd)\n",
    "print('최대 하락기간 시작 날짜 :', longest_dd_st)\n",
    "print('최대 하락기간 끝 날짜 :',longest_dd_ed)"
   ]
  },
  {
   "cell_type": "code",
   "execution_count": null,
   "id": "dac23c0b",
   "metadata": {},
   "outputs": [],
   "source": []
  },
  {
   "cell_type": "markdown",
   "id": "dcd60637",
   "metadata": {},
   "source": [
    "## 이동 편균선 매매 전략"
   ]
  },
  {
   "cell_type": "code",
   "execution_count": 121,
   "id": "96513a90",
   "metadata": {},
   "outputs": [],
   "source": [
    "df = fdr.DataReader('005930', '2010-01-02', '2020-10-30')"
   ]
  },
  {
   "cell_type": "code",
   "execution_count": 122,
   "id": "d83d2211",
   "metadata": {},
   "outputs": [
    {
     "data": {
      "text/html": [
       "<div>\n",
       "<style scoped>\n",
       "    .dataframe tbody tr th:only-of-type {\n",
       "        vertical-align: middle;\n",
       "    }\n",
       "\n",
       "    .dataframe tbody tr th {\n",
       "        vertical-align: top;\n",
       "    }\n",
       "\n",
       "    .dataframe thead th {\n",
       "        text-align: right;\n",
       "    }\n",
       "</style>\n",
       "<table border=\"1\" class=\"dataframe\">\n",
       "  <thead>\n",
       "    <tr style=\"text-align: right;\">\n",
       "      <th></th>\n",
       "      <th>Open</th>\n",
       "      <th>High</th>\n",
       "      <th>Low</th>\n",
       "      <th>Close</th>\n",
       "      <th>Volume</th>\n",
       "      <th>Change</th>\n",
       "      <th>sma</th>\n",
       "      <th>lma</th>\n",
       "    </tr>\n",
       "    <tr>\n",
       "      <th>Date</th>\n",
       "      <th></th>\n",
       "      <th></th>\n",
       "      <th></th>\n",
       "      <th></th>\n",
       "      <th></th>\n",
       "      <th></th>\n",
       "      <th></th>\n",
       "      <th></th>\n",
       "    </tr>\n",
       "  </thead>\n",
       "  <tbody>\n",
       "    <tr>\n",
       "      <th>2010-01-04</th>\n",
       "      <td>16060</td>\n",
       "      <td>16180</td>\n",
       "      <td>16000</td>\n",
       "      <td>16180</td>\n",
       "      <td>239271</td>\n",
       "      <td>0.012516</td>\n",
       "      <td>NaN</td>\n",
       "      <td>NaN</td>\n",
       "    </tr>\n",
       "    <tr>\n",
       "      <th>2010-01-05</th>\n",
       "      <td>16520</td>\n",
       "      <td>16580</td>\n",
       "      <td>16300</td>\n",
       "      <td>16440</td>\n",
       "      <td>559219</td>\n",
       "      <td>0.016069</td>\n",
       "      <td>NaN</td>\n",
       "      <td>NaN</td>\n",
       "    </tr>\n",
       "    <tr>\n",
       "      <th>2010-01-06</th>\n",
       "      <td>16580</td>\n",
       "      <td>16820</td>\n",
       "      <td>16520</td>\n",
       "      <td>16820</td>\n",
       "      <td>459755</td>\n",
       "      <td>0.023114</td>\n",
       "      <td>NaN</td>\n",
       "      <td>NaN</td>\n",
       "    </tr>\n",
       "    <tr>\n",
       "      <th>2010-01-07</th>\n",
       "      <td>16820</td>\n",
       "      <td>16820</td>\n",
       "      <td>16260</td>\n",
       "      <td>16260</td>\n",
       "      <td>443237</td>\n",
       "      <td>-0.033294</td>\n",
       "      <td>NaN</td>\n",
       "      <td>NaN</td>\n",
       "    </tr>\n",
       "    <tr>\n",
       "      <th>2010-01-08</th>\n",
       "      <td>16400</td>\n",
       "      <td>16420</td>\n",
       "      <td>16120</td>\n",
       "      <td>16420</td>\n",
       "      <td>295798</td>\n",
       "      <td>0.009840</td>\n",
       "      <td>16424.0</td>\n",
       "      <td>NaN</td>\n",
       "    </tr>\n",
       "  </tbody>\n",
       "</table>\n",
       "</div>"
      ],
      "text/plain": [
       "             Open   High    Low  Close  Volume    Change      sma  lma\n",
       "Date                                                                  \n",
       "2010-01-04  16060  16180  16000  16180  239271  0.012516      NaN  NaN\n",
       "2010-01-05  16520  16580  16300  16440  559219  0.016069      NaN  NaN\n",
       "2010-01-06  16580  16820  16520  16820  459755  0.023114      NaN  NaN\n",
       "2010-01-07  16820  16820  16260  16260  443237 -0.033294      NaN  NaN\n",
       "2010-01-08  16400  16420  16120  16420  295798  0.009840  16424.0  NaN"
      ]
     },
     "execution_count": 122,
     "metadata": {},
     "output_type": "execute_result"
    }
   ],
   "source": [
    "df['sma'] = df['Close'].rolling(5).mean()\n",
    "df['lma'] = df['Close'].rolling(20).mean()\n",
    "df.head()"
   ]
  },
  {
   "cell_type": "code",
   "execution_count": 123,
   "id": "55768dea",
   "metadata": {},
   "outputs": [],
   "source": [
    "df.dropna(inplace=True)"
   ]
  },
  {
   "cell_type": "code",
   "execution_count": 130,
   "id": "faf19f09",
   "metadata": {},
   "outputs": [
    {
     "data": {
      "text/plain": [
       "<AxesSubplot:xlabel='Date'>"
      ]
     },
     "execution_count": 130,
     "metadata": {},
     "output_type": "execute_result"
    },
    {
     "data": {
      "image/png": "[encoded data removed]",
      "text/plain": [
       "<Figure size 1080x360 with 1 Axes>"
      ]
     },
     "metadata": {
      "needs_background": "light"
     },
     "output_type": "display_data"
    }
   ],
   "source": [
    "#df[['Close', 'sma', 'lma']].plot(figsize=(15, 5))\n",
    "df[['sma', 'lma']].iloc[-200:].plot(figsize=(15,5))"
   ]
  },
  {
   "cell_type": "code",
   "execution_count": 126,
   "id": "ad4a535e",
   "metadata": {},
   "outputs": [
    {
     "data": {
      "text/html": [
       "<div>\n",
       "<style scoped>\n",
       "    .dataframe tbody tr th:only-of-type {\n",
       "        vertical-align: middle;\n",
       "    }\n",
       "\n",
       "    .dataframe tbody tr th {\n",
       "        vertical-align: top;\n",
       "    }\n",
       "\n",
       "    .dataframe thead th {\n",
       "        text-align: right;\n",
       "    }\n",
       "</style>\n",
       "<table border=\"1\" class=\"dataframe\">\n",
       "  <thead>\n",
       "    <tr style=\"text-align: right;\">\n",
       "      <th></th>\n",
       "      <th>Open</th>\n",
       "      <th>High</th>\n",
       "      <th>Low</th>\n",
       "      <th>Close</th>\n",
       "      <th>Volume</th>\n",
       "      <th>Change</th>\n",
       "      <th>sma</th>\n",
       "      <th>lma</th>\n",
       "    </tr>\n",
       "    <tr>\n",
       "      <th>Date</th>\n",
       "      <th></th>\n",
       "      <th></th>\n",
       "      <th></th>\n",
       "      <th></th>\n",
       "      <th></th>\n",
       "      <th></th>\n",
       "      <th></th>\n",
       "      <th></th>\n",
       "    </tr>\n",
       "  </thead>\n",
       "  <tbody>\n",
       "    <tr>\n",
       "      <th>2010-01-29</th>\n",
       "      <td>16000</td>\n",
       "      <td>16019</td>\n",
       "      <td>15600</td>\n",
       "      <td>15680</td>\n",
       "      <td>457285</td>\n",
       "      <td>-0.029703</td>\n",
       "      <td>16196.0</td>\n",
       "      <td>16402.0</td>\n",
       "    </tr>\n",
       "    <tr>\n",
       "      <th>2010-02-01</th>\n",
       "      <td>15679</td>\n",
       "      <td>15700</td>\n",
       "      <td>15300</td>\n",
       "      <td>15540</td>\n",
       "      <td>501042</td>\n",
       "      <td>-0.008929</td>\n",
       "      <td>15936.0</td>\n",
       "      <td>16370.0</td>\n",
       "    </tr>\n",
       "    <tr>\n",
       "      <th>2010-02-02</th>\n",
       "      <td>15800</td>\n",
       "      <td>15800</td>\n",
       "      <td>15400</td>\n",
       "      <td>15440</td>\n",
       "      <td>393803</td>\n",
       "      <td>-0.006435</td>\n",
       "      <td>15764.0</td>\n",
       "      <td>16320.0</td>\n",
       "    </tr>\n",
       "    <tr>\n",
       "      <th>2010-02-03</th>\n",
       "      <td>15640</td>\n",
       "      <td>15700</td>\n",
       "      <td>15360</td>\n",
       "      <td>15540</td>\n",
       "      <td>330235</td>\n",
       "      <td>0.006477</td>\n",
       "      <td>15672.0</td>\n",
       "      <td>16256.0</td>\n",
       "    </tr>\n",
       "    <tr>\n",
       "      <th>2010-02-04</th>\n",
       "      <td>15500</td>\n",
       "      <td>15660</td>\n",
       "      <td>15440</td>\n",
       "      <td>15520</td>\n",
       "      <td>239799</td>\n",
       "      <td>-0.001287</td>\n",
       "      <td>15544.0</td>\n",
       "      <td>16219.0</td>\n",
       "    </tr>\n",
       "  </tbody>\n",
       "</table>\n",
       "</div>"
      ],
      "text/plain": [
       "             Open   High    Low  Close  Volume    Change      sma      lma\n",
       "Date                                                                      \n",
       "2010-01-29  16000  16019  15600  15680  457285 -0.029703  16196.0  16402.0\n",
       "2010-02-01  15679  15700  15300  15540  501042 -0.008929  15936.0  16370.0\n",
       "2010-02-02  15800  15800  15400  15440  393803 -0.006435  15764.0  16320.0\n",
       "2010-02-03  15640  15700  15360  15540  330235  0.006477  15672.0  16256.0\n",
       "2010-02-04  15500  15660  15440  15520  239799 -0.001287  15544.0  16219.0"
      ]
     },
     "execution_count": 126,
     "metadata": {},
     "output_type": "execute_result"
    }
   ],
   "source": [
    "df.head()"
   ]
  },
  {
   "cell_type": "code",
   "execution_count": 131,
   "id": "7cc481a1",
   "metadata": {},
   "outputs": [],
   "source": [
    "df['position'] = np.where(df['sma'] >= df['lma'], 1, 0)"
   ]
  },
  {
   "cell_type": "code",
   "execution_count": 135,
   "id": "2748ae64",
   "metadata": {},
   "outputs": [
    {
     "data": {
      "text/plain": [
       "<AxesSubplot:xlabel='Date'>"
      ]
     },
     "execution_count": 135,
     "metadata": {},
     "output_type": "execute_result"
    },
    {
     "data": {
      "image/png": "[encoded data removed]",
      "text/plain": [
       "<Figure size 1080x216 with 1 Axes>"
      ]
     },
     "metadata": {
      "needs_background": "light"
     },
     "output_type": "display_data"
    }
   ],
   "source": [
    "df['position'].plot(marker='.', linestyle='none', figsize=(15, 3), ylim=[-1.01, 1.7])"
   ]
  },
  {
   "cell_type": "code",
   "execution_count": 137,
   "id": "dfe12d1a",
   "metadata": {},
   "outputs": [],
   "source": [
    "long_index = df[df['position'] - df['position'].shift(1) == 1].index\n",
    "exit_index = df[df['position'] - df['position'].shift(1) == -1].index"
   ]
  },
  {
   "cell_type": "code",
   "execution_count": 143,
   "id": "32b8ac16",
   "metadata": {},
   "outputs": [
    {
     "data": {
      "text/plain": [
       "<AxesSubplot:xlabel='Date'>"
      ]
     },
     "execution_count": 143,
     "metadata": {},
     "output_type": "execute_result"
    },
    {
     "data": {
      "image/png": "[encoded data removed]",
      "text/plain": [
       "<Figure size 1080x360 with 1 Axes>"
      ]
     },
     "metadata": {
      "needs_background": "light"
     },
     "output_type": "display_data"
    }
   ],
   "source": [
    "df[['sma', 'lma']].loc['2020-01-01':].plot(figsize=(15, 5))\n",
    "df.loc[long_index, 'sma'].loc['2020-01-01':].plot(marker='o', color='red', linestyle='none', markersize=3)\n",
    "df.loc[exit_index, 'sma'].loc['2020-01-01':].plot(marker='o', color='blue', linestyle='none', markersize=3)"
   ]
  },
  {
   "cell_type": "code",
   "execution_count": 154,
   "id": "274e39e3",
   "metadata": {},
   "outputs": [],
   "source": [
    "df.loc[:, 'rtn'] = get_returns_df(df['Close'], N=1, log=True)"
   ]
  },
  {
   "cell_type": "code",
   "execution_count": 155,
   "id": "cac8400a",
   "metadata": {},
   "outputs": [],
   "source": [
    "df.loc[:, 'str_rtn'] = (df['position'].shift(1) * df['rtn']).fillna(0)"
   ]
  },
  {
   "cell_type": "code",
   "execution_count": 160,
   "id": "a158214c",
   "metadata": {},
   "outputs": [],
   "source": [
    "df.loc[:, 'cum_str_rtn'] = get_cum_returns_df(df['str_rtn'], log=True)"
   ]
  },
  {
   "cell_type": "code",
   "execution_count": 165,
   "id": "2f136011",
   "metadata": {
    "collapsed": true
   },
   "outputs": [
    {
     "ename": "ValueError",
     "evalue": "attempt to get argmin of an empty sequence",
     "output_type": "error",
     "traceback": [
      "\u001b[1;31m---------------------------------------------------------------------------\u001b[0m",
      "\u001b[1;31mValueError\u001b[0m                                Traceback (most recent call last)",
      "\u001b[1;32m~\\AppData\\Local\\Temp/ipykernel_21196/1196151905.py\u001b[0m in \u001b[0;36m<module>\u001b[1;34m\u001b[0m\n\u001b[0;32m      1\u001b[0m \u001b[0mcagr\u001b[0m \u001b[1;33m=\u001b[0m \u001b[0mget_cagr_series\u001b[0m\u001b[1;33m(\u001b[0m\u001b[0mdf\u001b[0m\u001b[1;33m[\u001b[0m\u001b[1;34m'cum_str_rtn'\u001b[0m\u001b[1;33m]\u001b[0m\u001b[1;33m,\u001b[0m \u001b[0mnum_day_in_year\u001b[0m\u001b[1;33m=\u001b[0m\u001b[1;36m250\u001b[0m\u001b[1;33m)\u001b[0m\u001b[1;33m\u001b[0m\u001b[1;33m\u001b[0m\u001b[0m\n\u001b[0;32m      2\u001b[0m \u001b[0msharp_ratio\u001b[0m \u001b[1;33m=\u001b[0m \u001b[0mget_sharpe_ratio\u001b[0m\u001b[1;33m(\u001b[0m\u001b[0mdf\u001b[0m\u001b[1;33m[\u001b[0m\u001b[1;34m'str_rtn'\u001b[0m\u001b[1;33m]\u001b[0m\u001b[1;33m,\u001b[0m \u001b[0myearly_rfr\u001b[0m\u001b[1;33m=\u001b[0m\u001b[1;36m0.025\u001b[0m\u001b[1;33m)\u001b[0m\u001b[1;33m\u001b[0m\u001b[1;33m\u001b[0m\u001b[0m\n\u001b[1;32m----> 3\u001b[1;33m \u001b[0mmdd\u001b[0m\u001b[1;33m,\u001b[0m \u001b[0mldd_period\u001b[0m\u001b[1;33m,\u001b[0m \u001b[0mldd_st\u001b[0m\u001b[1;33m,\u001b[0m \u001b[0mldd_ed\u001b[0m \u001b[1;33m=\u001b[0m \u001b[0mget_drawdown_infos\u001b[0m\u001b[1;33m(\u001b[0m\u001b[0mdf\u001b[0m\u001b[1;33m[\u001b[0m\u001b[1;34m'cum_str_rtn'\u001b[0m\u001b[1;33m]\u001b[0m\u001b[1;33m)\u001b[0m\u001b[1;33m\u001b[0m\u001b[1;33m\u001b[0m\u001b[0m\n\u001b[0m",
      "\u001b[1;32m~\\AppData\\Local\\Temp/ipykernel_21196/1702256887.py\u001b[0m in \u001b[0;36mget_drawdown_infos\u001b[1;34m(cum_returns_df)\u001b[0m\n\u001b[0;32m     14\u001b[0m     \u001b[0mlongest_dd_period\u001b[0m \u001b[1;33m=\u001b[0m \u001b[0mperiod\u001b[0m\u001b[1;33m.\u001b[0m\u001b[0mmin\u001b[0m\u001b[1;33m(\u001b[0m\u001b[1;33m)\u001b[0m\u001b[1;33m.\u001b[0m\u001b[0mdays\u001b[0m\u001b[1;33m\u001b[0m\u001b[1;33m\u001b[0m\u001b[0m\n\u001b[0;32m     15\u001b[0m \u001b[1;33m\u001b[0m\u001b[0m\n\u001b[1;32m---> 16\u001b[1;33m     \u001b[0mldd_st\u001b[0m \u001b[1;33m=\u001b[0m \u001b[0mfirst_df\u001b[0m\u001b[1;33m[\u001b[0m\u001b[0mperiod\u001b[0m\u001b[1;33m.\u001b[0m\u001b[0margmin\u001b[0m\u001b[1;33m(\u001b[0m\u001b[1;33m)\u001b[0m\u001b[1;33m]\u001b[0m\u001b[1;33m\u001b[0m\u001b[1;33m\u001b[0m\u001b[0m\n\u001b[0m\u001b[0;32m     17\u001b[0m     \u001b[0mldd_ed\u001b[0m \u001b[1;33m=\u001b[0m \u001b[0msecond_df\u001b[0m\u001b[1;33m[\u001b[0m\u001b[0mperiod\u001b[0m\u001b[1;33m.\u001b[0m\u001b[0margmin\u001b[0m\u001b[1;33m(\u001b[0m\u001b[1;33m)\u001b[0m\u001b[1;33m]\u001b[0m\u001b[1;33m\u001b[0m\u001b[1;33m\u001b[0m\u001b[0m\n\u001b[0;32m     18\u001b[0m \u001b[1;33m\u001b[0m\u001b[0m\n",
      "\u001b[1;32m~\\anaconda3\\lib\\site-packages\\pandas\\core\\indexes\\datetimelike.py\u001b[0m in \u001b[0;36margmin\u001b[1;34m(self, axis, skipna, *args, **kwargs)\u001b[0m\n\u001b[0;32m    254\u001b[0m             \u001b[0mi8\u001b[0m \u001b[1;33m=\u001b[0m \u001b[0mi8\u001b[0m\u001b[1;33m.\u001b[0m\u001b[0mcopy\u001b[0m\u001b[1;33m(\u001b[0m\u001b[1;33m)\u001b[0m\u001b[1;33m\u001b[0m\u001b[1;33m\u001b[0m\u001b[0m\n\u001b[0;32m    255\u001b[0m             \u001b[0mi8\u001b[0m\u001b[1;33m[\u001b[0m\u001b[0mmask\u001b[0m\u001b[1;33m]\u001b[0m \u001b[1;33m=\u001b[0m \u001b[0mnp\u001b[0m\u001b[1;33m.\u001b[0m\u001b[0miinfo\u001b[0m\u001b[1;33m(\u001b[0m\u001b[1;34m\"int64\"\u001b[0m\u001b[1;33m)\u001b[0m\u001b[1;33m.\u001b[0m\u001b[0mmax\u001b[0m\u001b[1;33m\u001b[0m\u001b[1;33m\u001b[0m\u001b[0m\n\u001b[1;32m--> 256\u001b[1;33m         \u001b[1;32mreturn\u001b[0m \u001b[0mi8\u001b[0m\u001b[1;33m.\u001b[0m\u001b[0margmin\u001b[0m\u001b[1;33m(\u001b[0m\u001b[1;33m)\u001b[0m\u001b[1;33m\u001b[0m\u001b[1;33m\u001b[0m\u001b[0m\n\u001b[0m\u001b[0;32m    257\u001b[0m \u001b[1;33m\u001b[0m\u001b[0m\n\u001b[0;32m    258\u001b[0m     \u001b[1;32mdef\u001b[0m \u001b[0mmax\u001b[0m\u001b[1;33m(\u001b[0m\u001b[0mself\u001b[0m\u001b[1;33m,\u001b[0m \u001b[0maxis\u001b[0m\u001b[1;33m=\u001b[0m\u001b[1;32mNone\u001b[0m\u001b[1;33m,\u001b[0m \u001b[0mskipna\u001b[0m\u001b[1;33m=\u001b[0m\u001b[1;32mTrue\u001b[0m\u001b[1;33m,\u001b[0m \u001b[1;33m*\u001b[0m\u001b[0margs\u001b[0m\u001b[1;33m,\u001b[0m \u001b[1;33m**\u001b[0m\u001b[0mkwargs\u001b[0m\u001b[1;33m)\u001b[0m\u001b[1;33m:\u001b[0m\u001b[1;33m\u001b[0m\u001b[1;33m\u001b[0m\u001b[0m\n",
      "\u001b[1;31mValueError\u001b[0m: attempt to get argmin of an empty sequence"
     ]
    }
   ],
   "source": [
    "cagr = get_cagr_series(df['cum_str_rtn'], num_day_in_year=250)\n",
    "sharp_ratio = get_sharpe_ratio(df['str_rtn'], yearly_rfr=0.025)\n",
    "mdd, ldd_period, ldd_st, ldd_ed = get_drawdown_infos(df['cum_str_rtn'])"
   ]
  },
  {
   "cell_type": "code",
   "execution_count": 167,
   "id": "3962c3df",
   "metadata": {
    "collapsed": true
   },
   "outputs": [
    {
     "name": "stdout",
     "output_type": "stream",
     "text": [
      "cagr : 1.025080520098154\n",
      "sharp_ratio : None\n"
     ]
    },
    {
     "ename": "NameError",
     "evalue": "name 'mdd_series' is not defined",
     "output_type": "error",
     "traceback": [
      "\u001b[1;31m---------------------------------------------------------------------------\u001b[0m",
      "\u001b[1;31mNameError\u001b[0m                                 Traceback (most recent call last)",
      "\u001b[1;32m~\\AppData\\Local\\Temp/ipykernel_21196/3167830742.py\u001b[0m in \u001b[0;36m<module>\u001b[1;34m\u001b[0m\n\u001b[0;32m      1\u001b[0m \u001b[0mprint\u001b[0m\u001b[1;33m(\u001b[0m\u001b[1;34m'cagr :'\u001b[0m\u001b[1;33m,\u001b[0m \u001b[0mcagr\u001b[0m\u001b[1;33m)\u001b[0m\u001b[1;33m\u001b[0m\u001b[1;33m\u001b[0m\u001b[0m\n\u001b[0;32m      2\u001b[0m \u001b[0mprint\u001b[0m\u001b[1;33m(\u001b[0m\u001b[1;34m'sharp_ratio :'\u001b[0m\u001b[1;33m,\u001b[0m \u001b[0msharp_ratio\u001b[0m\u001b[1;33m)\u001b[0m\u001b[1;33m\u001b[0m\u001b[1;33m\u001b[0m\u001b[0m\n\u001b[1;32m----> 3\u001b[1;33m \u001b[0mprint\u001b[0m\u001b[1;33m(\u001b[0m\u001b[1;34m'Max_drawdown :'\u001b[0m\u001b[1;33m,\u001b[0m \u001b[0mmdd_series\u001b[0m\u001b[1;33m)\u001b[0m\u001b[1;33m\u001b[0m\u001b[1;33m\u001b[0m\u001b[0m\n\u001b[0m\u001b[0;32m      4\u001b[0m \u001b[0mprint\u001b[0m\u001b[1;33m(\u001b[0m\u001b[1;34m'Longest_dd_period :'\u001b[0m\u001b[1;33m,\u001b[0m \u001b[0mldd_period\u001b[0m\u001b[1;33m)\u001b[0m\u001b[1;33m\u001b[0m\u001b[1;33m\u001b[0m\u001b[0m\n\u001b[0;32m      5\u001b[0m \u001b[0mprint\u001b[0m\u001b[1;33m(\u001b[0m\u001b[1;34m'Longest_dd_st_date :'\u001b[0m\u001b[1;33m,\u001b[0m \u001b[0mldd_st\u001b[0m\u001b[1;33m)\u001b[0m\u001b[1;33m\u001b[0m\u001b[1;33m\u001b[0m\u001b[0m\n",
      "\u001b[1;31mNameError\u001b[0m: name 'mdd_series' is not defined"
     ]
    }
   ],
   "source": [
    "print('cagr :', cagr)\n",
    "print('sharp_ratio :', sharp_ratio)\n",
    "print('Max_drawdown :', mdd_series)\n",
    "print('Longest_dd_period :', ldd_period)\n",
    "print('Longest_dd_st_date :', ldd_st)\n",
    "print('Longest_dd_ed_date :', ldd_ed)"
   ]
  },
  {
   "cell_type": "code",
   "execution_count": 170,
   "id": "bca80994",
   "metadata": {},
   "outputs": [
    {
     "data": {
      "text/plain": [
       "<AxesSubplot:xlabel='Date'>"
      ]
     },
     "execution_count": 170,
     "metadata": {},
     "output_type": "execute_result"
    },
    {
     "data": {
      "image/png": "[encoded data removed]",
      "text/plain": [
       "<Figure size 432x288 with 1 Axes>"
      ]
     },
     "metadata": {
      "needs_background": "light"
     },
     "output_type": "display_data"
    }
   ],
   "source": [
    "df.loc[:, 'cum_str_rtn'].plot()"
   ]
  },
  {
   "cell_type": "code",
   "execution_count": null,
   "id": "b6165482",
   "metadata": {},
   "outputs": [],
   "source": []
  },
  {
   "cell_type": "code",
   "execution_count": 171,
   "id": "c955f3ae",
   "metadata": {},
   "outputs": [],
   "source": [
    "# Momentum"
   ]
  },
  {
   "cell_type": "code",
   "execution_count": 172,
   "id": "a54253f9",
   "metadata": {},
   "outputs": [
    {
     "data": {
      "text/html": [
       "<div>\n",
       "<style scoped>\n",
       "    .dataframe tbody tr th:only-of-type {\n",
       "        vertical-align: middle;\n",
       "    }\n",
       "\n",
       "    .dataframe tbody tr th {\n",
       "        vertical-align: top;\n",
       "    }\n",
       "\n",
       "    .dataframe thead th {\n",
       "        text-align: right;\n",
       "    }\n",
       "</style>\n",
       "<table border=\"1\" class=\"dataframe\">\n",
       "  <thead>\n",
       "    <tr style=\"text-align: right;\">\n",
       "      <th></th>\n",
       "      <th>Open</th>\n",
       "      <th>High</th>\n",
       "      <th>Low</th>\n",
       "      <th>Close</th>\n",
       "      <th>Volume</th>\n",
       "      <th>Change</th>\n",
       "    </tr>\n",
       "    <tr>\n",
       "      <th>Date</th>\n",
       "      <th></th>\n",
       "      <th></th>\n",
       "      <th></th>\n",
       "      <th></th>\n",
       "      <th></th>\n",
       "      <th></th>\n",
       "    </tr>\n",
       "  </thead>\n",
       "  <tbody>\n",
       "    <tr>\n",
       "      <th>2018-01-02</th>\n",
       "      <td>51380</td>\n",
       "      <td>51400</td>\n",
       "      <td>50780</td>\n",
       "      <td>51020</td>\n",
       "      <td>169485</td>\n",
       "      <td>0.001177</td>\n",
       "    </tr>\n",
       "    <tr>\n",
       "      <th>2018-01-03</th>\n",
       "      <td>52540</td>\n",
       "      <td>52560</td>\n",
       "      <td>51420</td>\n",
       "      <td>51620</td>\n",
       "      <td>200270</td>\n",
       "      <td>0.011760</td>\n",
       "    </tr>\n",
       "    <tr>\n",
       "      <th>2018-01-04</th>\n",
       "      <td>52120</td>\n",
       "      <td>52180</td>\n",
       "      <td>50640</td>\n",
       "      <td>51080</td>\n",
       "      <td>233909</td>\n",
       "      <td>-0.010461</td>\n",
       "    </tr>\n",
       "    <tr>\n",
       "      <th>2018-01-05</th>\n",
       "      <td>51300</td>\n",
       "      <td>52120</td>\n",
       "      <td>51200</td>\n",
       "      <td>52120</td>\n",
       "      <td>189623</td>\n",
       "      <td>0.020360</td>\n",
       "    </tr>\n",
       "    <tr>\n",
       "      <th>2018-01-08</th>\n",
       "      <td>52400</td>\n",
       "      <td>52520</td>\n",
       "      <td>51500</td>\n",
       "      <td>52020</td>\n",
       "      <td>167673</td>\n",
       "      <td>-0.001919</td>\n",
       "    </tr>\n",
       "    <tr>\n",
       "      <th>...</th>\n",
       "      <td>...</td>\n",
       "      <td>...</td>\n",
       "      <td>...</td>\n",
       "      <td>...</td>\n",
       "      <td>...</td>\n",
       "      <td>...</td>\n",
       "    </tr>\n",
       "    <tr>\n",
       "      <th>2022-04-22</th>\n",
       "      <td>67200</td>\n",
       "      <td>67300</td>\n",
       "      <td>66700</td>\n",
       "      <td>67000</td>\n",
       "      <td>11791478</td>\n",
       "      <td>-0.010340</td>\n",
       "    </tr>\n",
       "    <tr>\n",
       "      <th>2022-04-25</th>\n",
       "      <td>66500</td>\n",
       "      <td>66700</td>\n",
       "      <td>66300</td>\n",
       "      <td>66300</td>\n",
       "      <td>11016474</td>\n",
       "      <td>-0.010448</td>\n",
       "    </tr>\n",
       "    <tr>\n",
       "      <th>2022-04-26</th>\n",
       "      <td>66400</td>\n",
       "      <td>66700</td>\n",
       "      <td>66100</td>\n",
       "      <td>66100</td>\n",
       "      <td>12946923</td>\n",
       "      <td>-0.003017</td>\n",
       "    </tr>\n",
       "    <tr>\n",
       "      <th>2022-04-27</th>\n",
       "      <td>65400</td>\n",
       "      <td>65500</td>\n",
       "      <td>64900</td>\n",
       "      <td>65000</td>\n",
       "      <td>18122084</td>\n",
       "      <td>-0.016641</td>\n",
       "    </tr>\n",
       "    <tr>\n",
       "      <th>2022-04-28</th>\n",
       "      <td>65400</td>\n",
       "      <td>65500</td>\n",
       "      <td>64500</td>\n",
       "      <td>64800</td>\n",
       "      <td>16683159</td>\n",
       "      <td>-0.003077</td>\n",
       "    </tr>\n",
       "  </tbody>\n",
       "</table>\n",
       "<p>1065 rows × 6 columns</p>\n",
       "</div>"
      ],
      "text/plain": [
       "             Open   High    Low  Close    Volume    Change\n",
       "Date                                                      \n",
       "2018-01-02  51380  51400  50780  51020    169485  0.001177\n",
       "2018-01-03  52540  52560  51420  51620    200270  0.011760\n",
       "2018-01-04  52120  52180  50640  51080    233909 -0.010461\n",
       "2018-01-05  51300  52120  51200  52120    189623  0.020360\n",
       "2018-01-08  52400  52520  51500  52020    167673 -0.001919\n",
       "...           ...    ...    ...    ...       ...       ...\n",
       "2022-04-22  67200  67300  66700  67000  11791478 -0.010340\n",
       "2022-04-25  66500  66700  66300  66300  11016474 -0.010448\n",
       "2022-04-26  66400  66700  66100  66100  12946923 -0.003017\n",
       "2022-04-27  65400  65500  64900  65000  18122084 -0.016641\n",
       "2022-04-28  65400  65500  64500  64800  16683159 -0.003077\n",
       "\n",
       "[1065 rows x 6 columns]"
      ]
     },
     "execution_count": 172,
     "metadata": {},
     "output_type": "execute_result"
    }
   ],
   "source": [
    "df = fdr.DataReader('005930', '2018-01-02', '2022-04-29')\n",
    "df"
   ]
  },
  {
   "cell_type": "code",
   "execution_count": 176,
   "id": "50398b84",
   "metadata": {},
   "outputs": [],
   "source": [
    "momentum_window = 20 * 3 "
   ]
  },
  {
   "cell_type": "code",
   "execution_count": 179,
   "id": "d4def6ee",
   "metadata": {},
   "outputs": [
    {
     "data": {
      "text/plain": [
       "Date\n",
       "2018-03-29    0.000000\n",
       "2018-03-30   -0.035280\n",
       "2018-04-02   -0.059667\n",
       "2018-04-03   -0.057948\n",
       "2018-04-04   -0.099770\n",
       "                ...   \n",
       "2022-04-22   -0.113757\n",
       "2022-04-25   -0.117177\n",
       "2022-04-26   -0.106757\n",
       "2022-04-27   -0.113233\n",
       "2022-04-28   -0.091164\n",
       "Name: Close, Length: 1006, dtype: float64"
      ]
     },
     "execution_count": 179,
     "metadata": {},
     "output_type": "execute_result"
    }
   ],
   "source": [
    "get_returns_df(df['Close'], N=momentum_window)"
   ]
  },
  {
   "cell_type": "code",
   "execution_count": 178,
   "id": "0b677988",
   "metadata": {},
   "outputs": [
    {
     "data": {
      "text/plain": [
       "Date\n",
       "2018-03-29    0.0\n",
       "2018-03-30   -1.0\n",
       "2018-04-02   -1.0\n",
       "2018-04-03   -1.0\n",
       "2018-04-04   -1.0\n",
       "             ... \n",
       "2022-04-22   -1.0\n",
       "2022-04-25   -1.0\n",
       "2022-04-26   -1.0\n",
       "2022-04-27   -1.0\n",
       "2022-04-28   -1.0\n",
       "Name: Close, Length: 1006, dtype: float64"
      ]
     },
     "execution_count": 178,
     "metadata": {},
     "output_type": "execute_result"
    }
   ],
   "source": [
    "np.sign(get_returns_df(df['Close'], N=momentum_window))"
   ]
  },
  {
   "cell_type": "code",
   "execution_count": 180,
   "id": "874ddc11",
   "metadata": {},
   "outputs": [
    {
     "ename": "NameError",
     "evalue": "name 'position' is not defined",
     "output_type": "error",
     "traceback": [
      "\u001b[1;31m---------------------------------------------------------------------------\u001b[0m",
      "\u001b[1;31mNameError\u001b[0m                                 Traceback (most recent call last)",
      "\u001b[1;32m~\\AppData\\Local\\Temp/ipykernel_21196/1574535862.py\u001b[0m in \u001b[0;36m<module>\u001b[1;34m\u001b[0m\n\u001b[1;32m----> 1\u001b[1;33m \u001b[0mdf\u001b[0m\u001b[1;33m.\u001b[0m\u001b[0mloc\u001b[0m\u001b[1;33m[\u001b[0m\u001b[1;33m:\u001b[0m\u001b[1;33m,\u001b[0m \u001b[1;34m'position'\u001b[0m\u001b[1;33m]\u001b[0m \u001b[1;33m=\u001b[0m \u001b[0mposition\u001b[0m\u001b[1;33m\u001b[0m\u001b[1;33m\u001b[0m\u001b[0m\n\u001b[0m",
      "\u001b[1;31mNameError\u001b[0m: name 'position' is not defined"
     ]
    }
   ],
   "source": [
    "df.loc[:, 'position'] = position"
   ]
  },
  {
   "cell_type": "code",
   "execution_count": 181,
   "id": "eb7d7042",
   "metadata": {},
   "outputs": [],
   "source": [
    "df.dropna(inplace=True)"
   ]
  },
  {
   "cell_type": "code",
   "execution_count": null,
   "id": "6134fafc",
   "metadata": {},
   "outputs": [],
   "source": []
  },
  {
   "cell_type": "code",
   "execution_count": 182,
   "id": "a4a40c88",
   "metadata": {},
   "outputs": [
    {
     "ename": "KeyError",
     "evalue": "'position'",
     "output_type": "error",
     "traceback": [
      "\u001b[1;31m---------------------------------------------------------------------------\u001b[0m",
      "\u001b[1;31mKeyError\u001b[0m                                  Traceback (most recent call last)",
      "\u001b[1;32m~\\anaconda3\\lib\\site-packages\\pandas\\core\\indexes\\base.py\u001b[0m in \u001b[0;36mget_loc\u001b[1;34m(self, key, method, tolerance)\u001b[0m\n\u001b[0;32m   3360\u001b[0m             \u001b[1;32mtry\u001b[0m\u001b[1;33m:\u001b[0m\u001b[1;33m\u001b[0m\u001b[1;33m\u001b[0m\u001b[0m\n\u001b[1;32m-> 3361\u001b[1;33m                 \u001b[1;32mreturn\u001b[0m \u001b[0mself\u001b[0m\u001b[1;33m.\u001b[0m\u001b[0m_engine\u001b[0m\u001b[1;33m.\u001b[0m\u001b[0mget_loc\u001b[0m\u001b[1;33m(\u001b[0m\u001b[0mcasted_key\u001b[0m\u001b[1;33m)\u001b[0m\u001b[1;33m\u001b[0m\u001b[1;33m\u001b[0m\u001b[0m\n\u001b[0m\u001b[0;32m   3362\u001b[0m             \u001b[1;32mexcept\u001b[0m \u001b[0mKeyError\u001b[0m \u001b[1;32mas\u001b[0m \u001b[0merr\u001b[0m\u001b[1;33m:\u001b[0m\u001b[1;33m\u001b[0m\u001b[1;33m\u001b[0m\u001b[0m\n",
      "\u001b[1;32m~\\anaconda3\\lib\\site-packages\\pandas\\_libs\\index.pyx\u001b[0m in \u001b[0;36mpandas._libs.index.IndexEngine.get_loc\u001b[1;34m()\u001b[0m\n",
      "\u001b[1;32m~\\anaconda3\\lib\\site-packages\\pandas\\_libs\\index.pyx\u001b[0m in \u001b[0;36mpandas._libs.index.IndexEngine.get_loc\u001b[1;34m()\u001b[0m\n",
      "\u001b[1;32mpandas\\_libs\\hashtable_class_helper.pxi\u001b[0m in \u001b[0;36mpandas._libs.hashtable.PyObjectHashTable.get_item\u001b[1;34m()\u001b[0m\n",
      "\u001b[1;32mpandas\\_libs\\hashtable_class_helper.pxi\u001b[0m in \u001b[0;36mpandas._libs.hashtable.PyObjectHashTable.get_item\u001b[1;34m()\u001b[0m\n",
      "\u001b[1;31mKeyError\u001b[0m: 'position'",
      "\nThe above exception was the direct cause of the following exception:\n",
      "\u001b[1;31mKeyError\u001b[0m                                  Traceback (most recent call last)",
      "\u001b[1;32m~\\AppData\\Local\\Temp/ipykernel_21196/4143467301.py\u001b[0m in \u001b[0;36m<module>\u001b[1;34m\u001b[0m\n\u001b[1;32m----> 1\u001b[1;33m \u001b[0mlong_index\u001b[0m \u001b[1;33m=\u001b[0m \u001b[0mdf\u001b[0m\u001b[1;33m[\u001b[0m\u001b[1;33m(\u001b[0m\u001b[0mdf\u001b[0m\u001b[1;33m[\u001b[0m\u001b[1;34m'position'\u001b[0m\u001b[1;33m]\u001b[0m \u001b[1;33m-\u001b[0m \u001b[0mdf\u001b[0m\u001b[1;33m[\u001b[0m\u001b[1;34m'position'\u001b[0m\u001b[1;33m]\u001b[0m\u001b[1;33m.\u001b[0m\u001b[0mshift\u001b[0m\u001b[1;33m(\u001b[0m\u001b[1;36m1\u001b[0m\u001b[1;33m)\u001b[0m\u001b[1;33m)\u001b[0m \u001b[1;33m==\u001b[0m \u001b[1;36m1\u001b[0m\u001b[1;33m]\u001b[0m\u001b[1;33m.\u001b[0m\u001b[0mindex\u001b[0m\u001b[1;33m\u001b[0m\u001b[1;33m\u001b[0m\u001b[0m\n\u001b[0m\u001b[0;32m      2\u001b[0m \u001b[0mexit_index\u001b[0m \u001b[1;33m=\u001b[0m \u001b[0mdf\u001b[0m\u001b[1;33m[\u001b[0m\u001b[1;33m(\u001b[0m\u001b[0mdf\u001b[0m\u001b[1;33m[\u001b[0m\u001b[1;34m'position'\u001b[0m\u001b[1;33m]\u001b[0m \u001b[1;33m-\u001b[0m \u001b[0mdf\u001b[0m\u001b[1;33m[\u001b[0m\u001b[1;34m'position'\u001b[0m\u001b[1;33m]\u001b[0m\u001b[1;33m.\u001b[0m\u001b[0mshift\u001b[0m\u001b[1;33m(\u001b[0m\u001b[1;36m1\u001b[0m\u001b[1;33m)\u001b[0m\u001b[1;33m)\u001b[0m \u001b[1;33m==\u001b[0m \u001b[1;33m-\u001b[0m\u001b[1;36m1\u001b[0m\u001b[1;33m]\u001b[0m\u001b[1;33m.\u001b[0m\u001b[0mindex\u001b[0m\u001b[1;33m\u001b[0m\u001b[1;33m\u001b[0m\u001b[0m\n",
      "\u001b[1;32m~\\anaconda3\\lib\\site-packages\\pandas\\core\\frame.py\u001b[0m in \u001b[0;36m__getitem__\u001b[1;34m(self, key)\u001b[0m\n\u001b[0;32m   3456\u001b[0m             \u001b[1;32mif\u001b[0m \u001b[0mself\u001b[0m\u001b[1;33m.\u001b[0m\u001b[0mcolumns\u001b[0m\u001b[1;33m.\u001b[0m\u001b[0mnlevels\u001b[0m \u001b[1;33m>\u001b[0m \u001b[1;36m1\u001b[0m\u001b[1;33m:\u001b[0m\u001b[1;33m\u001b[0m\u001b[1;33m\u001b[0m\u001b[0m\n\u001b[0;32m   3457\u001b[0m                 \u001b[1;32mreturn\u001b[0m \u001b[0mself\u001b[0m\u001b[1;33m.\u001b[0m\u001b[0m_getitem_multilevel\u001b[0m\u001b[1;33m(\u001b[0m\u001b[0mkey\u001b[0m\u001b[1;33m)\u001b[0m\u001b[1;33m\u001b[0m\u001b[1;33m\u001b[0m\u001b[0m\n\u001b[1;32m-> 3458\u001b[1;33m             \u001b[0mindexer\u001b[0m \u001b[1;33m=\u001b[0m \u001b[0mself\u001b[0m\u001b[1;33m.\u001b[0m\u001b[0mcolumns\u001b[0m\u001b[1;33m.\u001b[0m\u001b[0mget_loc\u001b[0m\u001b[1;33m(\u001b[0m\u001b[0mkey\u001b[0m\u001b[1;33m)\u001b[0m\u001b[1;33m\u001b[0m\u001b[1;33m\u001b[0m\u001b[0m\n\u001b[0m\u001b[0;32m   3459\u001b[0m             \u001b[1;32mif\u001b[0m \u001b[0mis_integer\u001b[0m\u001b[1;33m(\u001b[0m\u001b[0mindexer\u001b[0m\u001b[1;33m)\u001b[0m\u001b[1;33m:\u001b[0m\u001b[1;33m\u001b[0m\u001b[1;33m\u001b[0m\u001b[0m\n\u001b[0;32m   3460\u001b[0m                 \u001b[0mindexer\u001b[0m \u001b[1;33m=\u001b[0m \u001b[1;33m[\u001b[0m\u001b[0mindexer\u001b[0m\u001b[1;33m]\u001b[0m\u001b[1;33m\u001b[0m\u001b[1;33m\u001b[0m\u001b[0m\n",
      "\u001b[1;32m~\\anaconda3\\lib\\site-packages\\pandas\\core\\indexes\\base.py\u001b[0m in \u001b[0;36mget_loc\u001b[1;34m(self, key, method, tolerance)\u001b[0m\n\u001b[0;32m   3361\u001b[0m                 \u001b[1;32mreturn\u001b[0m \u001b[0mself\u001b[0m\u001b[1;33m.\u001b[0m\u001b[0m_engine\u001b[0m\u001b[1;33m.\u001b[0m\u001b[0mget_loc\u001b[0m\u001b[1;33m(\u001b[0m\u001b[0mcasted_key\u001b[0m\u001b[1;33m)\u001b[0m\u001b[1;33m\u001b[0m\u001b[1;33m\u001b[0m\u001b[0m\n\u001b[0;32m   3362\u001b[0m             \u001b[1;32mexcept\u001b[0m \u001b[0mKeyError\u001b[0m \u001b[1;32mas\u001b[0m \u001b[0merr\u001b[0m\u001b[1;33m:\u001b[0m\u001b[1;33m\u001b[0m\u001b[1;33m\u001b[0m\u001b[0m\n\u001b[1;32m-> 3363\u001b[1;33m                 \u001b[1;32mraise\u001b[0m \u001b[0mKeyError\u001b[0m\u001b[1;33m(\u001b[0m\u001b[0mkey\u001b[0m\u001b[1;33m)\u001b[0m \u001b[1;32mfrom\u001b[0m \u001b[0merr\u001b[0m\u001b[1;33m\u001b[0m\u001b[1;33m\u001b[0m\u001b[0m\n\u001b[0m\u001b[0;32m   3364\u001b[0m \u001b[1;33m\u001b[0m\u001b[0m\n\u001b[0;32m   3365\u001b[0m         \u001b[1;32mif\u001b[0m \u001b[0mis_scalar\u001b[0m\u001b[1;33m(\u001b[0m\u001b[0mkey\u001b[0m\u001b[1;33m)\u001b[0m \u001b[1;32mand\u001b[0m \u001b[0misna\u001b[0m\u001b[1;33m(\u001b[0m\u001b[0mkey\u001b[0m\u001b[1;33m)\u001b[0m \u001b[1;32mand\u001b[0m \u001b[1;32mnot\u001b[0m \u001b[0mself\u001b[0m\u001b[1;33m.\u001b[0m\u001b[0mhasnans\u001b[0m\u001b[1;33m:\u001b[0m\u001b[1;33m\u001b[0m\u001b[1;33m\u001b[0m\u001b[0m\n",
      "\u001b[1;31mKeyError\u001b[0m: 'position'"
     ]
    }
   ],
   "source": [
    "long_index = df[(df['position'] - df['position'].shift(1)) == 1].index\n",
    "exit_index = df[(df['position'] - df['position'].shift(1)) == -1].index"
   ]
  },
  {
   "cell_type": "code",
   "execution_count": null,
   "id": "e70da7e9",
   "metadata": {},
   "outputs": [],
   "source": [
    "ax = "
   ]
  },
  {
   "cell_type": "code",
   "execution_count": 183,
   "id": "3043d21b",
   "metadata": {},
   "outputs": [
    {
     "ename": "KeyError",
     "evalue": "'cum_str_rtn'",
     "output_type": "error",
     "traceback": [
      "\u001b[1;31m---------------------------------------------------------------------------\u001b[0m",
      "\u001b[1;31mKeyError\u001b[0m                                  Traceback (most recent call last)",
      "\u001b[1;32m~\\anaconda3\\lib\\site-packages\\pandas\\core\\indexes\\base.py\u001b[0m in \u001b[0;36mget_loc\u001b[1;34m(self, key, method, tolerance)\u001b[0m\n\u001b[0;32m   3360\u001b[0m             \u001b[1;32mtry\u001b[0m\u001b[1;33m:\u001b[0m\u001b[1;33m\u001b[0m\u001b[1;33m\u001b[0m\u001b[0m\n\u001b[1;32m-> 3361\u001b[1;33m                 \u001b[1;32mreturn\u001b[0m \u001b[0mself\u001b[0m\u001b[1;33m.\u001b[0m\u001b[0m_engine\u001b[0m\u001b[1;33m.\u001b[0m\u001b[0mget_loc\u001b[0m\u001b[1;33m(\u001b[0m\u001b[0mcasted_key\u001b[0m\u001b[1;33m)\u001b[0m\u001b[1;33m\u001b[0m\u001b[1;33m\u001b[0m\u001b[0m\n\u001b[0m\u001b[0;32m   3362\u001b[0m             \u001b[1;32mexcept\u001b[0m \u001b[0mKeyError\u001b[0m \u001b[1;32mas\u001b[0m \u001b[0merr\u001b[0m\u001b[1;33m:\u001b[0m\u001b[1;33m\u001b[0m\u001b[1;33m\u001b[0m\u001b[0m\n",
      "\u001b[1;32m~\\anaconda3\\lib\\site-packages\\pandas\\_libs\\index.pyx\u001b[0m in \u001b[0;36mpandas._libs.index.IndexEngine.get_loc\u001b[1;34m()\u001b[0m\n",
      "\u001b[1;32m~\\anaconda3\\lib\\site-packages\\pandas\\_libs\\index.pyx\u001b[0m in \u001b[0;36mpandas._libs.index.IndexEngine.get_loc\u001b[1;34m()\u001b[0m\n",
      "\u001b[1;32mpandas\\_libs\\hashtable_class_helper.pxi\u001b[0m in \u001b[0;36mpandas._libs.hashtable.PyObjectHashTable.get_item\u001b[1;34m()\u001b[0m\n",
      "\u001b[1;32mpandas\\_libs\\hashtable_class_helper.pxi\u001b[0m in \u001b[0;36mpandas._libs.hashtable.PyObjectHashTable.get_item\u001b[1;34m()\u001b[0m\n",
      "\u001b[1;31mKeyError\u001b[0m: 'cum_str_rtn'",
      "\nThe above exception was the direct cause of the following exception:\n",
      "\u001b[1;31mKeyError\u001b[0m                                  Traceback (most recent call last)",
      "\u001b[1;32m~\\AppData\\Local\\Temp/ipykernel_21196/2332413539.py\u001b[0m in \u001b[0;36m<module>\u001b[1;34m\u001b[0m\n\u001b[1;32m----> 1\u001b[1;33m \u001b[0mdf\u001b[0m\u001b[1;33m.\u001b[0m\u001b[0mloc\u001b[0m\u001b[1;33m[\u001b[0m\u001b[1;33m:\u001b[0m\u001b[1;33m,\u001b[0m \u001b[1;34m'cum_str_rtn'\u001b[0m\u001b[1;33m]\u001b[0m\u001b[1;33m.\u001b[0m\u001b[0mplot\u001b[0m\u001b[1;33m(\u001b[0m\u001b[0mfigsize\u001b[0m\u001b[1;33m=\u001b[0m\u001b[1;33m(\u001b[0m\u001b[1;36m15\u001b[0m\u001b[1;33m,\u001b[0m \u001b[1;36m5\u001b[0m\u001b[1;33m)\u001b[0m\u001b[1;33m)\u001b[0m\u001b[1;33m\u001b[0m\u001b[1;33m\u001b[0m\u001b[0m\n\u001b[0m",
      "\u001b[1;32m~\\anaconda3\\lib\\site-packages\\pandas\\core\\indexing.py\u001b[0m in \u001b[0;36m__getitem__\u001b[1;34m(self, key)\u001b[0m\n\u001b[0;32m    923\u001b[0m                 \u001b[1;32mwith\u001b[0m \u001b[0msuppress\u001b[0m\u001b[1;33m(\u001b[0m\u001b[0mKeyError\u001b[0m\u001b[1;33m,\u001b[0m \u001b[0mIndexError\u001b[0m\u001b[1;33m)\u001b[0m\u001b[1;33m:\u001b[0m\u001b[1;33m\u001b[0m\u001b[1;33m\u001b[0m\u001b[0m\n\u001b[0;32m    924\u001b[0m                     \u001b[1;32mreturn\u001b[0m \u001b[0mself\u001b[0m\u001b[1;33m.\u001b[0m\u001b[0mobj\u001b[0m\u001b[1;33m.\u001b[0m\u001b[0m_get_value\u001b[0m\u001b[1;33m(\u001b[0m\u001b[1;33m*\u001b[0m\u001b[0mkey\u001b[0m\u001b[1;33m,\u001b[0m \u001b[0mtakeable\u001b[0m\u001b[1;33m=\u001b[0m\u001b[0mself\u001b[0m\u001b[1;33m.\u001b[0m\u001b[0m_takeable\u001b[0m\u001b[1;33m)\u001b[0m\u001b[1;33m\u001b[0m\u001b[1;33m\u001b[0m\u001b[0m\n\u001b[1;32m--> 925\u001b[1;33m             \u001b[1;32mreturn\u001b[0m \u001b[0mself\u001b[0m\u001b[1;33m.\u001b[0m\u001b[0m_getitem_tuple\u001b[0m\u001b[1;33m(\u001b[0m\u001b[0mkey\u001b[0m\u001b[1;33m)\u001b[0m\u001b[1;33m\u001b[0m\u001b[1;33m\u001b[0m\u001b[0m\n\u001b[0m\u001b[0;32m    926\u001b[0m         \u001b[1;32melse\u001b[0m\u001b[1;33m:\u001b[0m\u001b[1;33m\u001b[0m\u001b[1;33m\u001b[0m\u001b[0m\n\u001b[0;32m    927\u001b[0m             \u001b[1;31m# we by definition only have the 0th axis\u001b[0m\u001b[1;33m\u001b[0m\u001b[1;33m\u001b[0m\u001b[0m\n",
      "\u001b[1;32m~\\anaconda3\\lib\\site-packages\\pandas\\core\\indexing.py\u001b[0m in \u001b[0;36m_getitem_tuple\u001b[1;34m(self, tup)\u001b[0m\n\u001b[0;32m   1098\u001b[0m     \u001b[1;32mdef\u001b[0m \u001b[0m_getitem_tuple\u001b[0m\u001b[1;33m(\u001b[0m\u001b[0mself\u001b[0m\u001b[1;33m,\u001b[0m \u001b[0mtup\u001b[0m\u001b[1;33m:\u001b[0m \u001b[0mtuple\u001b[0m\u001b[1;33m)\u001b[0m\u001b[1;33m:\u001b[0m\u001b[1;33m\u001b[0m\u001b[1;33m\u001b[0m\u001b[0m\n\u001b[0;32m   1099\u001b[0m         \u001b[1;32mwith\u001b[0m \u001b[0msuppress\u001b[0m\u001b[1;33m(\u001b[0m\u001b[0mIndexingError\u001b[0m\u001b[1;33m)\u001b[0m\u001b[1;33m:\u001b[0m\u001b[1;33m\u001b[0m\u001b[1;33m\u001b[0m\u001b[0m\n\u001b[1;32m-> 1100\u001b[1;33m             \u001b[1;32mreturn\u001b[0m \u001b[0mself\u001b[0m\u001b[1;33m.\u001b[0m\u001b[0m_getitem_lowerdim\u001b[0m\u001b[1;33m(\u001b[0m\u001b[0mtup\u001b[0m\u001b[1;33m)\u001b[0m\u001b[1;33m\u001b[0m\u001b[1;33m\u001b[0m\u001b[0m\n\u001b[0m\u001b[0;32m   1101\u001b[0m \u001b[1;33m\u001b[0m\u001b[0m\n\u001b[0;32m   1102\u001b[0m         \u001b[1;31m# no multi-index, so validate all of the indexers\u001b[0m\u001b[1;33m\u001b[0m\u001b[1;33m\u001b[0m\u001b[0m\n",
      "\u001b[1;32m~\\anaconda3\\lib\\site-packages\\pandas\\core\\indexing.py\u001b[0m in \u001b[0;36m_getitem_lowerdim\u001b[1;34m(self, tup)\u001b[0m\n\u001b[0;32m    836\u001b[0m                 \u001b[1;31m# We don't need to check for tuples here because those are\u001b[0m\u001b[1;33m\u001b[0m\u001b[1;33m\u001b[0m\u001b[0m\n\u001b[0;32m    837\u001b[0m                 \u001b[1;31m#  caught by the _is_nested_tuple_indexer check above.\u001b[0m\u001b[1;33m\u001b[0m\u001b[1;33m\u001b[0m\u001b[0m\n\u001b[1;32m--> 838\u001b[1;33m                 \u001b[0msection\u001b[0m \u001b[1;33m=\u001b[0m \u001b[0mself\u001b[0m\u001b[1;33m.\u001b[0m\u001b[0m_getitem_axis\u001b[0m\u001b[1;33m(\u001b[0m\u001b[0mkey\u001b[0m\u001b[1;33m,\u001b[0m \u001b[0maxis\u001b[0m\u001b[1;33m=\u001b[0m\u001b[0mi\u001b[0m\u001b[1;33m)\u001b[0m\u001b[1;33m\u001b[0m\u001b[1;33m\u001b[0m\u001b[0m\n\u001b[0m\u001b[0;32m    839\u001b[0m \u001b[1;33m\u001b[0m\u001b[0m\n\u001b[0;32m    840\u001b[0m                 \u001b[1;31m# We should never have a scalar section here, because\u001b[0m\u001b[1;33m\u001b[0m\u001b[1;33m\u001b[0m\u001b[0m\n",
      "\u001b[1;32m~\\anaconda3\\lib\\site-packages\\pandas\\core\\indexing.py\u001b[0m in \u001b[0;36m_getitem_axis\u001b[1;34m(self, key, axis)\u001b[0m\n\u001b[0;32m   1162\u001b[0m         \u001b[1;31m# fall thru to straight lookup\u001b[0m\u001b[1;33m\u001b[0m\u001b[1;33m\u001b[0m\u001b[0m\n\u001b[0;32m   1163\u001b[0m         \u001b[0mself\u001b[0m\u001b[1;33m.\u001b[0m\u001b[0m_validate_key\u001b[0m\u001b[1;33m(\u001b[0m\u001b[0mkey\u001b[0m\u001b[1;33m,\u001b[0m \u001b[0maxis\u001b[0m\u001b[1;33m)\u001b[0m\u001b[1;33m\u001b[0m\u001b[1;33m\u001b[0m\u001b[0m\n\u001b[1;32m-> 1164\u001b[1;33m         \u001b[1;32mreturn\u001b[0m \u001b[0mself\u001b[0m\u001b[1;33m.\u001b[0m\u001b[0m_get_label\u001b[0m\u001b[1;33m(\u001b[0m\u001b[0mkey\u001b[0m\u001b[1;33m,\u001b[0m \u001b[0maxis\u001b[0m\u001b[1;33m=\u001b[0m\u001b[0maxis\u001b[0m\u001b[1;33m)\u001b[0m\u001b[1;33m\u001b[0m\u001b[1;33m\u001b[0m\u001b[0m\n\u001b[0m\u001b[0;32m   1165\u001b[0m \u001b[1;33m\u001b[0m\u001b[0m\n\u001b[0;32m   1166\u001b[0m     \u001b[1;32mdef\u001b[0m \u001b[0m_get_slice_axis\u001b[0m\u001b[1;33m(\u001b[0m\u001b[0mself\u001b[0m\u001b[1;33m,\u001b[0m \u001b[0mslice_obj\u001b[0m\u001b[1;33m:\u001b[0m \u001b[0mslice\u001b[0m\u001b[1;33m,\u001b[0m \u001b[0maxis\u001b[0m\u001b[1;33m:\u001b[0m \u001b[0mint\u001b[0m\u001b[1;33m)\u001b[0m\u001b[1;33m:\u001b[0m\u001b[1;33m\u001b[0m\u001b[1;33m\u001b[0m\u001b[0m\n",
      "\u001b[1;32m~\\anaconda3\\lib\\site-packages\\pandas\\core\\indexing.py\u001b[0m in \u001b[0;36m_get_label\u001b[1;34m(self, label, axis)\u001b[0m\n\u001b[0;32m   1111\u001b[0m     \u001b[1;32mdef\u001b[0m \u001b[0m_get_label\u001b[0m\u001b[1;33m(\u001b[0m\u001b[0mself\u001b[0m\u001b[1;33m,\u001b[0m \u001b[0mlabel\u001b[0m\u001b[1;33m,\u001b[0m \u001b[0maxis\u001b[0m\u001b[1;33m:\u001b[0m \u001b[0mint\u001b[0m\u001b[1;33m)\u001b[0m\u001b[1;33m:\u001b[0m\u001b[1;33m\u001b[0m\u001b[1;33m\u001b[0m\u001b[0m\n\u001b[0;32m   1112\u001b[0m         \u001b[1;31m# GH#5667 this will fail if the label is not present in the axis.\u001b[0m\u001b[1;33m\u001b[0m\u001b[1;33m\u001b[0m\u001b[0m\n\u001b[1;32m-> 1113\u001b[1;33m         \u001b[1;32mreturn\u001b[0m \u001b[0mself\u001b[0m\u001b[1;33m.\u001b[0m\u001b[0mobj\u001b[0m\u001b[1;33m.\u001b[0m\u001b[0mxs\u001b[0m\u001b[1;33m(\u001b[0m\u001b[0mlabel\u001b[0m\u001b[1;33m,\u001b[0m \u001b[0maxis\u001b[0m\u001b[1;33m=\u001b[0m\u001b[0maxis\u001b[0m\u001b[1;33m)\u001b[0m\u001b[1;33m\u001b[0m\u001b[1;33m\u001b[0m\u001b[0m\n\u001b[0m\u001b[0;32m   1114\u001b[0m \u001b[1;33m\u001b[0m\u001b[0m\n\u001b[0;32m   1115\u001b[0m     \u001b[1;32mdef\u001b[0m \u001b[0m_handle_lowerdim_multi_index_axis0\u001b[0m\u001b[1;33m(\u001b[0m\u001b[0mself\u001b[0m\u001b[1;33m,\u001b[0m \u001b[0mtup\u001b[0m\u001b[1;33m:\u001b[0m \u001b[0mtuple\u001b[0m\u001b[1;33m)\u001b[0m\u001b[1;33m:\u001b[0m\u001b[1;33m\u001b[0m\u001b[1;33m\u001b[0m\u001b[0m\n",
      "\u001b[1;32m~\\anaconda3\\lib\\site-packages\\pandas\\core\\generic.py\u001b[0m in \u001b[0;36mxs\u001b[1;34m(self, key, axis, level, drop_level)\u001b[0m\n\u001b[0;32m   3759\u001b[0m         \u001b[1;32mif\u001b[0m \u001b[0maxis\u001b[0m \u001b[1;33m==\u001b[0m \u001b[1;36m1\u001b[0m\u001b[1;33m:\u001b[0m\u001b[1;33m\u001b[0m\u001b[1;33m\u001b[0m\u001b[0m\n\u001b[0;32m   3760\u001b[0m             \u001b[1;32mif\u001b[0m \u001b[0mdrop_level\u001b[0m\u001b[1;33m:\u001b[0m\u001b[1;33m\u001b[0m\u001b[1;33m\u001b[0m\u001b[0m\n\u001b[1;32m-> 3761\u001b[1;33m                 \u001b[1;32mreturn\u001b[0m \u001b[0mself\u001b[0m\u001b[1;33m[\u001b[0m\u001b[0mkey\u001b[0m\u001b[1;33m]\u001b[0m\u001b[1;33m\u001b[0m\u001b[1;33m\u001b[0m\u001b[0m\n\u001b[0m\u001b[0;32m   3762\u001b[0m             \u001b[0mindex\u001b[0m \u001b[1;33m=\u001b[0m \u001b[0mself\u001b[0m\u001b[1;33m.\u001b[0m\u001b[0mcolumns\u001b[0m\u001b[1;33m\u001b[0m\u001b[1;33m\u001b[0m\u001b[0m\n\u001b[0;32m   3763\u001b[0m         \u001b[1;32melse\u001b[0m\u001b[1;33m:\u001b[0m\u001b[1;33m\u001b[0m\u001b[1;33m\u001b[0m\u001b[0m\n",
      "\u001b[1;32m~\\anaconda3\\lib\\site-packages\\pandas\\core\\frame.py\u001b[0m in \u001b[0;36m__getitem__\u001b[1;34m(self, key)\u001b[0m\n\u001b[0;32m   3456\u001b[0m             \u001b[1;32mif\u001b[0m \u001b[0mself\u001b[0m\u001b[1;33m.\u001b[0m\u001b[0mcolumns\u001b[0m\u001b[1;33m.\u001b[0m\u001b[0mnlevels\u001b[0m \u001b[1;33m>\u001b[0m \u001b[1;36m1\u001b[0m\u001b[1;33m:\u001b[0m\u001b[1;33m\u001b[0m\u001b[1;33m\u001b[0m\u001b[0m\n\u001b[0;32m   3457\u001b[0m                 \u001b[1;32mreturn\u001b[0m \u001b[0mself\u001b[0m\u001b[1;33m.\u001b[0m\u001b[0m_getitem_multilevel\u001b[0m\u001b[1;33m(\u001b[0m\u001b[0mkey\u001b[0m\u001b[1;33m)\u001b[0m\u001b[1;33m\u001b[0m\u001b[1;33m\u001b[0m\u001b[0m\n\u001b[1;32m-> 3458\u001b[1;33m             \u001b[0mindexer\u001b[0m \u001b[1;33m=\u001b[0m \u001b[0mself\u001b[0m\u001b[1;33m.\u001b[0m\u001b[0mcolumns\u001b[0m\u001b[1;33m.\u001b[0m\u001b[0mget_loc\u001b[0m\u001b[1;33m(\u001b[0m\u001b[0mkey\u001b[0m\u001b[1;33m)\u001b[0m\u001b[1;33m\u001b[0m\u001b[1;33m\u001b[0m\u001b[0m\n\u001b[0m\u001b[0;32m   3459\u001b[0m             \u001b[1;32mif\u001b[0m \u001b[0mis_integer\u001b[0m\u001b[1;33m(\u001b[0m\u001b[0mindexer\u001b[0m\u001b[1;33m)\u001b[0m\u001b[1;33m:\u001b[0m\u001b[1;33m\u001b[0m\u001b[1;33m\u001b[0m\u001b[0m\n\u001b[0;32m   3460\u001b[0m                 \u001b[0mindexer\u001b[0m \u001b[1;33m=\u001b[0m \u001b[1;33m[\u001b[0m\u001b[0mindexer\u001b[0m\u001b[1;33m]\u001b[0m\u001b[1;33m\u001b[0m\u001b[1;33m\u001b[0m\u001b[0m\n",
      "\u001b[1;32m~\\anaconda3\\lib\\site-packages\\pandas\\core\\indexes\\base.py\u001b[0m in \u001b[0;36mget_loc\u001b[1;34m(self, key, method, tolerance)\u001b[0m\n\u001b[0;32m   3361\u001b[0m                 \u001b[1;32mreturn\u001b[0m \u001b[0mself\u001b[0m\u001b[1;33m.\u001b[0m\u001b[0m_engine\u001b[0m\u001b[1;33m.\u001b[0m\u001b[0mget_loc\u001b[0m\u001b[1;33m(\u001b[0m\u001b[0mcasted_key\u001b[0m\u001b[1;33m)\u001b[0m\u001b[1;33m\u001b[0m\u001b[1;33m\u001b[0m\u001b[0m\n\u001b[0;32m   3362\u001b[0m             \u001b[1;32mexcept\u001b[0m \u001b[0mKeyError\u001b[0m \u001b[1;32mas\u001b[0m \u001b[0merr\u001b[0m\u001b[1;33m:\u001b[0m\u001b[1;33m\u001b[0m\u001b[1;33m\u001b[0m\u001b[0m\n\u001b[1;32m-> 3363\u001b[1;33m                 \u001b[1;32mraise\u001b[0m \u001b[0mKeyError\u001b[0m\u001b[1;33m(\u001b[0m\u001b[0mkey\u001b[0m\u001b[1;33m)\u001b[0m \u001b[1;32mfrom\u001b[0m \u001b[0merr\u001b[0m\u001b[1;33m\u001b[0m\u001b[1;33m\u001b[0m\u001b[0m\n\u001b[0m\u001b[0;32m   3364\u001b[0m \u001b[1;33m\u001b[0m\u001b[0m\n\u001b[0;32m   3365\u001b[0m         \u001b[1;32mif\u001b[0m \u001b[0mis_scalar\u001b[0m\u001b[1;33m(\u001b[0m\u001b[0mkey\u001b[0m\u001b[1;33m)\u001b[0m \u001b[1;32mand\u001b[0m \u001b[0misna\u001b[0m\u001b[1;33m(\u001b[0m\u001b[0mkey\u001b[0m\u001b[1;33m)\u001b[0m \u001b[1;32mand\u001b[0m \u001b[1;32mnot\u001b[0m \u001b[0mself\u001b[0m\u001b[1;33m.\u001b[0m\u001b[0mhasnans\u001b[0m\u001b[1;33m:\u001b[0m\u001b[1;33m\u001b[0m\u001b[1;33m\u001b[0m\u001b[0m\n",
      "\u001b[1;31mKeyError\u001b[0m: 'cum_str_rtn'"
     ]
    }
   ],
   "source": [
    "df.loc[:, 'cum_str_rtn'].plot(figsize=(15, 5))"
   ]
  },
  {
   "cell_type": "code",
   "execution_count": null,
   "id": "1cc30022",
   "metadata": {},
   "outputs": [],
   "source": []
  },
  {
   "cell_type": "code",
   "execution_count": null,
   "id": "a48f749b",
   "metadata": {},
   "outputs": [],
   "source": []
  },
  {
   "cell_type": "code",
   "execution_count": null,
   "id": "2ccdb9a5",
   "metadata": {},
   "outputs": [],
   "source": []
  }
 ],
 "metadata": {
  "kernelspec": {
   "display_name": "Python 3 (ipykernel)",
   "language": "python",
   "name": "python3"
  },
  "language_info": {
   "codemirror_mode": {
    "name": "ipython",
    "version": 3
   },
   "file_extension": ".py",
   "mimetype": "text/x-python",
   "name": "python",
   "nbconvert_exporter": "python",
   "pygments_lexer": "ipython3",
   "version": "3.9.7"
  }
 },
 "nbformat": 4,
 "nbformat_minor": 5
}
