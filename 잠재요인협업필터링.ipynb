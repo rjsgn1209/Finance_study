{
 "cells": [
  {
   "cell_type": "code",
   "execution_count": null,
   "id": "f60f367d",
   "metadata": {},
   "outputs": [],
   "source": [
    "# 행렬분해, 경사하강법(딥러닝) 을 이용한 알고리즘\n",
    "# 행렬분해 - matrix를 두개의 서로 다른 행렬로 분해하는 것,\n",
    "#            분해된 행렬은 원래 행렬의 내재된 다른 의미를 갖는 행렬로 변환됨\n",
    "#\n",
    "# 경사하강법 - 함수의 값을 최소화하는 파라미터들을 찾는 방식\n",
    "#                f(x) = w1x1 + w2x2 ... => f(x)를 최소화하는 w1, w2\n",
    "#                f(x)를 w1으로 미분한 값을 w1에 더해서 업데이트..\n",
    "#                f(x)를 w2로 미분한 값을 w2에 더해서 업데이트.."
   ]
  },
  {
   "cell_type": "code",
   "execution_count": null,
   "id": "40495b38",
   "metadata": {},
   "outputs": [],
   "source": []
  },
  {
   "cell_type": "code",
   "execution_count": 1,
   "id": "27817587",
   "metadata": {},
   "outputs": [],
   "source": [
    "import pandas as pd\n",
    "import numpy as np\n",
    "import matplotlib.pyplot as plt"
   ]
  },
  {
   "cell_type": "code",
   "execution_count": null,
   "id": "a955d677",
   "metadata": {},
   "outputs": [],
   "source": []
  },
  {
   "cell_type": "code",
   "execution_count": null,
   "id": "c40e2165",
   "metadata": {},
   "outputs": [],
   "source": [
    "# 경사하강법을 이용한  행렬분해"
   ]
  },
  {
   "cell_type": "code",
   "execution_count": 2,
   "id": "c4dd0f4a",
   "metadata": {},
   "outputs": [
    {
     "data": {
      "text/plain": [
       "array([[ 4., nan, nan,  2., nan],\n",
       "       [nan,  5., nan,  3.,  1.],\n",
       "       [nan, nan,  3.,  4.,  4.],\n",
       "       [ 5.,  2.,  1.,  2., nan]])"
      ]
     },
     "execution_count": 2,
     "metadata": {},
     "output_type": "execute_result"
    }
   ],
   "source": [
    "# \n",
    "R = np.array(\n",
    "[\n",
    "    [4, np.nan, np.nan, 2, np.nan],\n",
    "    [np.nan, 5, np.nan, 3, 1],\n",
    "    [np.nan, np.nan, 3, 4, 4],\n",
    "    [5, 2, 1, 2, np.nan]\n",
    "]\n",
    ")\n",
    "\n",
    "R"
   ]
  },
  {
   "cell_type": "code",
   "execution_count": 3,
   "id": "58110cfd",
   "metadata": {},
   "outputs": [],
   "source": [
    "num_users, num_items = R.shape"
   ]
  },
  {
   "cell_type": "code",
   "execution_count": 14,
   "id": "464fd08b",
   "metadata": {},
   "outputs": [
    {
     "name": "stdout",
     "output_type": "stream",
     "text": [
      "4 5\n"
     ]
    }
   ],
   "source": [
    "print(num_users, num_items) # 이용자수, 영화수"
   ]
  },
  {
   "cell_type": "code",
   "execution_count": 15,
   "id": "bef51626",
   "metadata": {},
   "outputs": [],
   "source": [
    "# R = P * 0.7"
   ]
  },
  {
   "cell_type": "code",
   "execution_count": 16,
   "id": "42fa67db",
   "metadata": {},
   "outputs": [],
   "source": [
    "k = 3"
   ]
  },
  {
   "cell_type": "code",
   "execution_count": null,
   "id": "2fd854ed",
   "metadata": {},
   "outputs": [],
   "source": [
    "# a*b = c:\n",
    "# a의 row원소수, b의 칼럼 수가 갈아야..\n",
    "# c 의 shape은 (a row num, b col num)"
   ]
  },
  {
   "cell_type": "code",
   "execution_count": 17,
   "id": "95c132f5",
   "metadata": {},
   "outputs": [],
   "source": [
    "P = np.random.normal(scale=1/k, size=(num_users, k))\n",
    "Q = np.random.normal(scale=1/k, size=(num_items, k))"
   ]
  },
  {
   "cell_type": "code",
   "execution_count": 19,
   "id": "5a6d1dea",
   "metadata": {},
   "outputs": [
    {
     "data": {
      "text/plain": [
       "array([[-0.00677944,  0.70735486, -0.21519951],\n",
       "       [-0.22621718, -0.314161  ,  0.09997725],\n",
       "       [ 0.19656735,  0.1723233 ,  0.60000037],\n",
       "       [ 0.01831138,  0.13523998, -0.80754566]])"
      ]
     },
     "execution_count": 19,
     "metadata": {},
     "output_type": "execute_result"
    }
   ],
   "source": [
    "P"
   ]
  },
  {
   "cell_type": "code",
   "execution_count": 20,
   "id": "d23350bd",
   "metadata": {},
   "outputs": [
    {
     "data": {
      "text/plain": [
       "array([[-0.10077541,  0.13679384, -0.19420742],\n",
       "       [-0.13952026,  0.31659272,  0.40951968],\n",
       "       [ 0.14995849,  0.1468515 ,  0.2267828 ],\n",
       "       [-0.03023782, -0.09180984, -0.01181346],\n",
       "       [-0.04051542, -0.62708928,  0.41349354]])"
      ]
     },
     "execution_count": 20,
     "metadata": {},
     "output_type": "execute_result"
    }
   ],
   "source": [
    "Q"
   ]
  },
  {
   "cell_type": "code",
   "execution_count": 23,
   "id": "a7e96d51",
   "metadata": {},
   "outputs": [],
   "source": [
    "from sklearn.metrics import mean_squared_error\n",
    "\n",
    "def get_rmse(R, P, Q, non_zeros):\n",
    "    full_predict_matrix = np.dot(P, Q.T)\n",
    "    \n",
    "    error = 0\n",
    "    \n",
    "    x_non_zero_ind = [non_zero[0] for non_zero in non_zero]\n",
    "    y_non_zero_ind = [non_zero[1] for non_zero in non_zero]\n",
    "    R_non_zeros = R[x_non_zero_ind, y_non_zero_ind]\n",
    "    \n",
    "    # 실제값(실제 matrix R)과 예측 값(가상으로 만든 matrix full_predict_matrix)으로 mse 계산\n",
    "    # matrix에서의 mse를 계산\n",
    "    mse = mean_squared_error(R_non_zeros, full_pred_matrix_non_zeros)\n",
    "    rmse = np.sqrt(mse)\n",
    "    \n",
    "    return rmse"
   ]
  },
  {
   "cell_type": "code",
   "execution_count": 24,
   "id": "2065fd2a",
   "metadata": {},
   "outputs": [
    {
     "data": {
      "text/plain": [
       "[(0, 0, 4.0),\n",
       " (0, 3, 2.0),\n",
       " (1, 1, 5.0),\n",
       " (1, 3, 3.0),\n",
       " (1, 4, 1.0),\n",
       " (2, 2, 3.0),\n",
       " (2, 3, 4.0),\n",
       " (2, 4, 4.0),\n",
       " (3, 0, 5.0),\n",
       " (3, 1, 2.0),\n",
       " (3, 2, 1.0),\n",
       " (3, 3, 2.0)]"
      ]
     },
     "execution_count": 24,
     "metadata": {},
     "output_type": "execute_result"
    }
   ],
   "source": [
    "[(i, j, R[i, j]) for i in range(num_users) for j in range(num_items) if R[i, j] > 0]"
   ]
  },
  {
   "cell_type": "code",
   "execution_count": null,
   "id": "797f6ac1",
   "metadata": {},
   "outputs": [],
   "source": []
  },
  {
   "cell_type": "code",
   "execution_count": 31,
   "id": "3190e3d9",
   "metadata": {},
   "outputs": [],
   "source": [
    "# 경사 하강법"
   ]
  },
  {
   "cell_type": "code",
   "execution_count": 32,
   "id": "66790c82",
   "metadata": {},
   "outputs": [],
   "source": [
    "steps = 1000\n",
    "learning_rate = 0.01\n",
    "r_lambda = 0.01"
   ]
  },
  {
   "cell_type": "code",
   "execution_count": 33,
   "id": "822dddf7",
   "metadata": {},
   "outputs": [
    {
     "ename": "NameError",
     "evalue": "name 'non_zeros' is not defined",
     "output_type": "error",
     "traceback": [
      "\u001b[1;31m---------------------------------------------------------------------------\u001b[0m",
      "\u001b[1;31mNameError\u001b[0m                                 Traceback (most recent call last)",
      "\u001b[1;32m~\\AppData\\Local\\Temp/ipykernel_15164/3704923397.py\u001b[0m in \u001b[0;36m<module>\u001b[1;34m\u001b[0m\n\u001b[0;32m      1\u001b[0m \u001b[1;32mfor\u001b[0m \u001b[0mstep\u001b[0m \u001b[1;32min\u001b[0m \u001b[0mrange\u001b[0m\u001b[1;33m(\u001b[0m\u001b[0msteps\u001b[0m\u001b[1;33m)\u001b[0m\u001b[1;33m:\u001b[0m\u001b[1;33m\u001b[0m\u001b[1;33m\u001b[0m\u001b[0m\n\u001b[1;32m----> 2\u001b[1;33m     \u001b[1;32mfor\u001b[0m \u001b[0mi\u001b[0m\u001b[1;33m,\u001b[0m \u001b[0mj\u001b[0m\u001b[1;33m,\u001b[0m \u001b[0mr\u001b[0m \u001b[1;32min\u001b[0m \u001b[0mnon_zeros\u001b[0m\u001b[1;33m:\u001b[0m\u001b[1;33m\u001b[0m\u001b[1;33m\u001b[0m\u001b[0m\n\u001b[0m\u001b[0;32m      3\u001b[0m         \u001b[0meij\u001b[0m \u001b[1;33m=\u001b[0m \u001b[0mr\u001b[0m \u001b[1;33m-\u001b[0m \u001b[0mnp\u001b[0m\u001b[1;33m.\u001b[0m\u001b[0mdot\u001b[0m\u001b[1;33m(\u001b[0m\u001b[0mP\u001b[0m\u001b[1;33m[\u001b[0m\u001b[0mi\u001b[0m\u001b[1;33m,\u001b[0m \u001b[1;33m:\u001b[0m\u001b[1;33m]\u001b[0m\u001b[1;33m,\u001b[0m \u001b[0mQ\u001b[0m\u001b[1;33m[\u001b[0m\u001b[0mj\u001b[0m\u001b[1;33m,\u001b[0m \u001b[1;33m:\u001b[0m\u001b[1;33m]\u001b[0m\u001b[1;33m.\u001b[0m\u001b[0mT\u001b[0m\u001b[1;33m)\u001b[0m\u001b[1;33m\u001b[0m\u001b[1;33m\u001b[0m\u001b[0m\n\u001b[0;32m      4\u001b[0m         \u001b[0mP\u001b[0m\u001b[1;33m[\u001b[0m\u001b[0mi\u001b[0m\u001b[1;33m,\u001b[0m \u001b[1;33m:\u001b[0m\u001b[1;33m]\u001b[0m \u001b[1;33m=\u001b[0m \u001b[0mP\u001b[0m\u001b[1;33m[\u001b[0m\u001b[0mi\u001b[0m\u001b[1;33m:\u001b[0m\u001b[1;33m,\u001b[0m \u001b[1;33m:\u001b[0m\u001b[1;33m]\u001b[0m \u001b[1;33m+\u001b[0m \u001b[0mlearning_rate\u001b[0m\u001b[1;33m*\u001b[0m\u001b[1;33m(\u001b[0m\u001b[0meij\u001b[0m \u001b[1;33m*\u001b[0m \u001b[0mQ\u001b[0m\u001b[1;33m[\u001b[0m\u001b[0mj\u001b[0m\u001b[1;33m,\u001b[0m \u001b[1;33m:\u001b[0m\u001b[1;33m]\u001b[0m \u001b[1;33m-\u001b[0m \u001b[0mr_lambda\u001b[0m \u001b[1;33m*\u001b[0m \u001b[0mP\u001b[0m\u001b[1;33m[\u001b[0m\u001b[0mi\u001b[0m\u001b[1;33m,\u001b[0m \u001b[1;33m:\u001b[0m\u001b[1;33m]\u001b[0m\u001b[1;33m)\u001b[0m\u001b[1;33m\u001b[0m\u001b[1;33m\u001b[0m\u001b[0m\n\u001b[0;32m      5\u001b[0m         \u001b[0mQ\u001b[0m\u001b[1;33m[\u001b[0m\u001b[0mj\u001b[0m\u001b[1;33m,\u001b[0m \u001b[1;33m:\u001b[0m\u001b[1;33m]\u001b[0m \u001b[1;33m=\u001b[0m \u001b[0mP\u001b[0m\u001b[1;33m[\u001b[0m\u001b[0mj\u001b[0m\u001b[1;33m:\u001b[0m\u001b[1;33m,\u001b[0m \u001b[1;33m:\u001b[0m\u001b[1;33m]\u001b[0m \u001b[1;33m+\u001b[0m \u001b[0mlearning_rate\u001b[0m\u001b[1;33m*\u001b[0m\u001b[1;33m(\u001b[0m\u001b[0meij\u001b[0m \u001b[1;33m*\u001b[0m \u001b[0mP\u001b[0m\u001b[1;33m[\u001b[0m\u001b[0mi\u001b[0m\u001b[1;33m,\u001b[0m \u001b[1;33m:\u001b[0m\u001b[1;33m]\u001b[0m \u001b[1;33m-\u001b[0m \u001b[0mr_lambda\u001b[0m \u001b[1;33m*\u001b[0m \u001b[0mP\u001b[0m\u001b[1;33m[\u001b[0m\u001b[0mj\u001b[0m\u001b[1;33m,\u001b[0m \u001b[1;33m:\u001b[0m\u001b[1;33m]\u001b[0m\u001b[1;33m)\u001b[0m\u001b[1;33m\u001b[0m\u001b[1;33m\u001b[0m\u001b[0m\n",
      "\u001b[1;31mNameError\u001b[0m: name 'non_zeros' is not defined"
     ]
    }
   ],
   "source": [
    "for step in range(steps):\n",
    "    for i, j, r in non_zeros:\n",
    "        eij = r - np.dot(P[i, :], Q[j, :].T)\n",
    "        P[i, :] = P[i:, :] + learning_rate*(eij * Q[j, :] - r_lambda * P[i, :])\n",
    "        Q[j, :] = P[j:, :] + learning_rate*(eij * P[i, :] - r_lambda * P[j, :])\n",
    "        \n",
    "        rmse = get_rmse(R, P, Q, non_zeros)\n",
    "        \n",
    "        if(step%50) == 0:\n",
    "            print('### iternation step : ', step, \" rmse\", rmse)"
   ]
  },
  {
   "cell_type": "code",
   "execution_count": null,
   "id": "450673ed",
   "metadata": {},
   "outputs": [],
   "source": []
  },
  {
   "cell_type": "code",
   "execution_count": null,
   "id": "3960c2af",
   "metadata": {},
   "outputs": [],
   "source": [
    "import pickle\n",
    "with open('ratings_matrix.pickle', 'wb') as f:\n",
    "    f. "
   ]
  },
  {
   "cell_type": "code",
   "execution_count": null,
   "id": "78a40ed5",
   "metadata": {},
   "outputs": [],
   "source": []
  },
  {
   "cell_type": "code",
   "execution_count": null,
   "id": "65ee5f43",
   "metadata": {},
   "outputs": [],
   "source": []
  },
  {
   "cell_type": "code",
   "execution_count": null,
   "id": "878f04f4",
   "metadata": {},
   "outputs": [],
   "source": []
  },
  {
   "cell_type": "code",
   "execution_count": null,
   "id": "abb610f3",
   "metadata": {},
   "outputs": [],
   "source": []
  },
  {
   "cell_type": "code",
   "execution_count": null,
   "id": "8c2aa685",
   "metadata": {},
   "outputs": [],
   "source": []
  },
  {
   "cell_type": "code",
   "execution_count": null,
   "id": "2f42d065",
   "metadata": {},
   "outputs": [],
   "source": []
  },
  {
   "cell_type": "code",
   "execution_count": null,
   "id": "b83f0e6f",
   "metadata": {},
   "outputs": [],
   "source": []
  },
  {
   "cell_type": "code",
   "execution_count": null,
   "id": "97c23935",
   "metadata": {},
   "outputs": [],
   "source": []
  }
 ],
 "metadata": {
  "kernelspec": {
   "display_name": "Python 3 (ipykernel)",
   "language": "python",
   "name": "python3"
  },
  "language_info": {
   "codemirror_mode": {
    "name": "ipython",
    "version": 3
   },
   "file_extension": ".py",
   "mimetype": "text/x-python",
   "name": "python",
   "nbconvert_exporter": "python",
   "pygments_lexer": "ipython3",
   "version": "3.9.7"
  }
 },
 "nbformat": 4,
 "nbformat_minor": 5
}
